{
 "cells": [
  {
   "cell_type": "code",
   "execution_count": 1,
   "metadata": {},
   "outputs": [
    {
     "name": "stdout",
     "output_type": "stream",
     "text": [
      "[23, 45, 67, 34, 56, 32, 56, 67, 78, 90]\n",
      "548\n",
      "54.8\n"
     ]
    }
   ],
   "source": [
    "x  = [23,45,67,34,56,32,56,67,78,90]\n",
    "print(x)\n",
    "s=sum(x)\n",
    "print(s)\n",
    "m=sum(x)/len(x)\n",
    "print(m)"
   ]
  },
  {
   "cell_type": "code",
   "execution_count": 2,
   "metadata": {},
   "outputs": [
    {
     "name": "stdout",
     "output_type": "stream",
     "text": [
      "90\n",
      "23\n"
     ]
    }
   ],
   "source": [
    "print(max(x))\n",
    "print(min(x))"
   ]
  },
  {
   "cell_type": "code",
   "execution_count": 5,
   "metadata": {},
   "outputs": [
    {
     "name": "stdout",
     "output_type": "stream",
     "text": [
      "[5, 7, 9]\n"
     ]
    }
   ],
   "source": [
    "#wap to add two list element wise and store result in 3rd list [1,2,3]+[4,5,6]=[5,7,9]\n",
    "l1=[1,2,3]\n",
    "l2=[4,5,6]\n",
    "l3=[]\n",
    "for i in range(0,len(l1)):\n",
    "    l3.append(l1[i]+l2[i])\n",
    "print(l3)"
   ]
  },
  {
   "cell_type": "code",
   "execution_count": 8,
   "metadata": {},
   "outputs": [
    {
     "name": "stdout",
     "output_type": "stream",
     "text": [
      "[5, 7, 9]\n"
     ]
    }
   ],
   "source": [
    "l3=[]\n",
    "for i,j in zip(l1,l2):\n",
    "    l3.append(i+j)\n",
    "print(l3)    "
   ]
  },
  {
   "cell_type": "code",
   "execution_count": 12,
   "metadata": {},
   "outputs": [
    {
     "name": "stdout",
     "output_type": "stream",
     "text": [
      "[1, 8, 27]\n",
      "[64, 125, 216]\n"
     ]
    }
   ],
   "source": [
    "#wap to create a new list from a existing list, where each element is increased by a power of 3\n",
    "l3=[]\n",
    "l4=[]\n",
    "for i in range(3):\n",
    "    l3.append((l1[i])**3)\n",
    "    l4.append((l2[i])**3)\n",
    "print(l3)\n",
    "print(l4)"
   ]
  },
  {
   "cell_type": "code",
   "execution_count": 21,
   "metadata": {},
   "outputs": [
    {
     "name": "stdout",
     "output_type": "stream",
     "text": [
      "[30, 26927, 128, 9, 67, 12, 34, 45, 67, 25]\n",
      "[30, 128, 12, 34]\n"
     ]
    }
   ],
   "source": [
    "#wap to filter all the odd numbers from a list to create a clean list\n",
    "a=[30,26927,128,9,67,12,34,45,67,25]\n",
    "b=[]\n",
    "for i in range(0,len(a)):\n",
    "    if a[i]%2==0:\n",
    "        b.append(a[i])\n",
    "print(a)\n",
    "print(b)"
   ]
  },
  {
   "cell_type": "code",
   "execution_count": 23,
   "metadata": {},
   "outputs": [
    {
     "name": "stdout",
     "output_type": "stream",
     "text": [
      "[35, 70, 105, 140, 175, 210, 245, 280, 315, 350, 385, 420, 455, 490, 525, 560, 595, 630, 665, 700, 735, 770, 805, 840, 875, 910, 945, 980, 1015, 1050, 1085, 1120, 1155, 1190, 1225, 1260, 1295, 1330, 1365, 1400, 1435, 1470, 1505, 1540, 1575, 1610, 1645, 1680, 1715, 1750, 1785]\n"
     ]
    }
   ],
   "source": [
    "fiveoseven = []\n",
    "num = 1\n",
    "while True:\n",
    "    if num%5==0 and num%7==0:\n",
    "        fiveoseven.append(num)\n",
    "    if len(fiveoseven)>50:\n",
    "        break\n",
    "    num+=1\n",
    "    #print('->',num)\n",
    "print(fiveoseven)"
   ]
  },
  {
   "cell_type": "code",
   "execution_count": 26,
   "metadata": {},
   "outputs": [
    {
     "name": "stdout",
     "output_type": "stream",
     "text": [
      "['AI', 'PP', 'ML']\n"
     ]
    }
   ],
   "source": [
    "#wap to generate  a list of acronyms from a list of words \n",
    "d=['Artificial Intelligence' , 'Python Programming' , 'Machine Learning']\n",
    "p=[]\n",
    "for name in d:\n",
    "    name_words=name.split() #split the name into words\n",
    "    fn=name_words[0]    #first name\n",
    "    ln=name_words[1]    #last name\n",
    "    p.append(fn[0]+ln[0])   #append the first letter of first name and last letter of last name\n",
    "print(p)\n"
   ]
  },
  {
   "cell_type": "code",
   "execution_count": 27,
   "metadata": {},
   "outputs": [
    {
     "name": "stdout",
     "output_type": "stream",
     "text": [
      "[0, 2, 4, 6, 8, 10, 12, 14, 16, 18, 20, 22, 24, 26, 28, 30, 32, 34, 36, 38, 40, 42, 44, 46, 48, 50, 52, 54, 56, 58, 60, 62, 64, 66, 68, 70, 72, 74, 76, 78, 80, 82, 84, 86, 88, 90, 92, 94, 96, 98, 100]\n"
     ]
    }
   ],
   "source": [
    "evens=[]\n",
    "for i in range(0,101):\n",
    "    if i%2==0:\n",
    "        evens.append(i)\n",
    "print(evens)"
   ]
  },
  {
   "cell_type": "code",
   "execution_count": 28,
   "metadata": {},
   "outputs": [
    {
     "name": "stdout",
     "output_type": "stream",
     "text": [
      "[0, 1, 1, 2, 3, 5, 8, 13, 21, 34, 55, 89]\n"
     ]
    }
   ],
   "source": [
    "#create a fibonacci series\n",
    "fib=[0,1]\n",
    "for i in range(10):\n",
    "    fib.append(fib[-1]+fib[-2])\n",
    "print(fib)\n"
   ]
  },
  {
   "cell_type": "code",
   "execution_count": 29,
   "metadata": {},
   "outputs": [
    {
     "name": "stdout",
     "output_type": "stream",
     "text": [
      "[0, 1, 1, 2, 3, 5, 8, 13, 21, 34, 55, 89, 144, 233, 377, 610, 987, 1597, 2584, 4181, 6765, 10946, 17711, 28657, 46368, 75025, 121393, 196418, 317811, 514229, 832040, 1346269, 2178309, 3524578, 5702887, 9227465, 14930352, 24157817, 39088169, 63245986, 102334155, 165580141, 267914296, 433494437, 701408733, 1134903170, 1836311903, 2971215073, 4807526976, 7778742049, 12586269025, 20365011074]\n"
     ]
    }
   ],
   "source": [
    "#create a fibonacci series\n",
    "fib=[0,1]\n",
    "for i in range(50):\n",
    "    fib.append(fib[-1]+fib[-2])\n",
    "print(fib)\n"
   ]
  },
  {
   "cell_type": "code",
   "execution_count": null,
   "metadata": {},
   "outputs": [],
   "source": []
  }
 ],
 "metadata": {
  "kernelspec": {
   "display_name": "Python 3.9.1 64-bit",
   "language": "python",
   "name": "python3"
  },
  "language_info": {
   "codemirror_mode": {
    "name": "ipython",
    "version": 3
   },
   "file_extension": ".py",
   "mimetype": "text/x-python",
   "name": "python",
   "nbconvert_exporter": "python",
   "pygments_lexer": "ipython3",
   "version": "3.9.1"
  },
  "orig_nbformat": 4,
  "vscode": {
   "interpreter": {
    "hash": "bf4fbbcfb44b62809ee9ef976aff62d8f85ac4ea82e40788fda9594addf376e6"
   }
  }
 },
 "nbformat": 4,
 "nbformat_minor": 2
}
