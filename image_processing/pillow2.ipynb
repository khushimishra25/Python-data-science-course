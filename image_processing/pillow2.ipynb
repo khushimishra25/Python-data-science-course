{
 "cells": [
  {
   "cell_type": "code",
   "execution_count": 3,
   "metadata": {},
   "outputs": [],
   "source": [
    "from PIL import Image, ImageDraw, ImageFont, ImageFilter, ImageEnhance"
   ]
  },
  {
   "cell_type": "code",
   "execution_count": 5,
   "metadata": {},
   "outputs": [],
   "source": [
    "im1 = Image.open('image.jpg')\n",
    "im2 = Image.open('image2.jpg')\n",
    "im3 = Image.open('image3.png')\n",
    "im4 = Image.open('image4.jpg')"
   ]
  },
  {
   "cell_type": "code",
   "execution_count": 10,
   "metadata": {},
   "outputs": [
    {
     "data": {
      "image/png": "[encoded data removed]",
      "text/plain": [
       "<PIL.Image.Image image mode=RGB size=300x300>"
      ]
     },
     "execution_count": 10,
     "metadata": {},
     "output_type": "execute_result"
    }
   ],
   "source": [
    "im5 = Image.new('RGB',(300, 300),(0, 255, 255))     #RGBA to hold transparent image\n",
    "im5"
   ]
  },
  {
   "cell_type": "code",
   "execution_count": null,
   "metadata": {},
   "outputs": [],
   "source": [
    "fnt = ImageFont.truetype('font.ttf',40)\n",
    "d = ImageDraw.Draw(im5)"
   ]
  },
  {
   "cell_type": "code",
   "execution_count": 24,
   "metadata": {},
   "outputs": [],
   "source": [
    "im55 = im5.copy()\n",
    "fnt= ImageFont.truetype('font.ttf',40)\n",
    "d = ImageDraw.Draw(im55)\n",
    "d.text((10,10),\"Hello\", font=fnt, fill=(100,100,100))\n",
    "d.text((10,50),\"How\", font=fnt, fill=(200,100,200))\n",
    "d.text((10,100),\"Old\", font=fnt, fill=(300,100,300))\n",
    "d.text((10,140),\"Are\", font=fnt, fill=(400,100,400))\n",
    "d.text((10,180),\"You?\", font=fnt, fill=(500,100,500))\n",
    "im55.show()"
   ]
  },
  {
   "cell_type": "code",
   "execution_count": 35,
   "metadata": {},
   "outputs": [],
   "source": [
    "im22 = im2.copy()\n",
    "fnt = ImageFont.truetype('font.ttf',30)\n",
    "dr = ImageDraw.Draw(im22)\n",
    "dr.text((10,150),\"Shrek the Ogre\", font=fnt, fill=(0,0,0))\n",
    "im22.show()"
   ]
  },
  {
   "cell_type": "code",
   "execution_count": 37,
   "metadata": {},
   "outputs": [],
   "source": [
    "im11 = im1.copy()\n",
    "d=ImageDraw.Draw(im11)\n",
    "d.ellipse((100,100,200,200), fill=(255,0,0))\n",
    "d.ellipse((120,120,180,180), fill=(0,255,0))\n",
    "im11.show()"
   ]
  },
  {
   "cell_type": "code",
   "execution_count": 46,
   "metadata": {},
   "outputs": [],
   "source": [
    "im11 = im1.copy()\n",
    "d = ImageDraw.Draw(im11)\n",
    "d.rectangle((0,0,im11.width,100), fill=(0,0,0))\n",
    "d.rectangle((0, im11.height - 100, im11.width, im11.height), fill=(0,0,0))\n",
    "fnt = ImageFont.truetype('font.ttf',40)\n",
    "d.text((im11.width/2-100,30),\"Hello\", font=fnt, fill=(255,255,255), align=\"center\")\n",
    "d.text((im11.width/2-100, im11.height-70),\"Year 2023\", font=fnt, fill=(255,255,255), align=\"center\")\n",
    "im11.show()"
   ]
  },
  {
   "cell_type": "code",
   "execution_count": null,
   "metadata": {},
   "outputs": [],
   "source": []
  }
 ],
 "metadata": {
  "kernelspec": {
   "display_name": "Python 3.9.13 ('base')",
   "language": "python",
   "name": "python3"
  },
  "language_info": {
   "codemirror_mode": {
    "name": "ipython",
    "version": 3
   },
   "file_extension": ".py",
   "mimetype": "text/x-python",
   "name": "python",
   "nbconvert_exporter": "python",
   "pygments_lexer": "ipython3",
   "version": "3.9.13"
  },
  "orig_nbformat": 4,
  "vscode": {
   "interpreter": {
    "hash": "193aa6218da7f76a59dc2bd6ea87d2b224c2417ad29cdf12ab4b4772313a8948"
   }
  }
 },
 "nbformat": 4,
 "nbformat_minor": 2
}
