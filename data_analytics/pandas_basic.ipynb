{
 "cells": [
  {
   "cell_type": "code",
   "execution_count": 62,
   "metadata": {},
   "outputs": [],
   "source": [
    "import pandas as pd \n",
    "import numpy as np\n",
    "import matplotlib.pyplot as plt\n",
    "import plotly.express as px"
   ]
  },
  {
   "cell_type": "code",
   "execution_count": 63,
   "metadata": {},
   "outputs": [],
   "source": [
    "df = pd.read_csv('incidents_small.csv', parse_dates=['Date'])"
   ]
  },
  {
   "cell_type": "code",
   "execution_count": 64,
   "metadata": {},
   "outputs": [
    {
     "data": {
      "text/html": [
       "<div>\n",
       "<style scoped>\n",
       "    .dataframe tbody tr th:only-of-type {\n",
       "        vertical-align: middle;\n",
       "    }\n",
       "\n",
       "    .dataframe tbody tr th {\n",
       "        vertical-align: top;\n",
       "    }\n",
       "\n",
       "    .dataframe thead th {\n",
       "        text-align: right;\n",
       "    }\n",
       "</style>\n",
       "<table border=\"1\" class=\"dataframe\">\n",
       "  <thead>\n",
       "    <tr style=\"text-align: right;\">\n",
       "      <th></th>\n",
       "      <th>IncidntNum</th>\n",
       "      <th>Category</th>\n",
       "      <th>Descript</th>\n",
       "      <th>DayOfWeek</th>\n",
       "      <th>Date</th>\n",
       "      <th>Time</th>\n",
       "      <th>PdDistrict</th>\n",
       "      <th>Resolution</th>\n",
       "      <th>Address</th>\n",
       "      <th>X</th>\n",
       "      <th>Y</th>\n",
       "      <th>Location</th>\n",
       "      <th>PdId</th>\n",
       "    </tr>\n",
       "  </thead>\n",
       "  <tbody>\n",
       "    <tr>\n",
       "      <th>9554</th>\n",
       "      <td>160939676</td>\n",
       "      <td>ASSAULT</td>\n",
       "      <td>BATTERY</td>\n",
       "      <td>Monday</td>\n",
       "      <td>11/14/2016 12:00:00 AM</td>\n",
       "      <td>9.20</td>\n",
       "      <td>NORTHERN</td>\n",
       "      <td>NONE</td>\n",
       "      <td>ELLIS ST / POLK ST</td>\n",
       "      <td>-122.419366</td>\n",
       "      <td>37.784028</td>\n",
       "      <td>(37.7840280452032, -122.419366294797)</td>\n",
       "      <td>1.610000e+13</td>\n",
       "    </tr>\n",
       "    <tr>\n",
       "      <th>9986</th>\n",
       "      <td>160895846</td>\n",
       "      <td>OTHER OFFENSES</td>\n",
       "      <td>FALSE PERSONATION</td>\n",
       "      <td>Monday</td>\n",
       "      <td>10/31/2016 12:00:00 AM</td>\n",
       "      <td>10.00</td>\n",
       "      <td>MISSION</td>\n",
       "      <td>NONE</td>\n",
       "      <td>100 Block of CAPP ST</td>\n",
       "      <td>-122.418550</td>\n",
       "      <td>37.764284</td>\n",
       "      <td>(37.7642837095036, -122.418549940195)</td>\n",
       "      <td>1.610000e+13</td>\n",
       "    </tr>\n",
       "    <tr>\n",
       "      <th>9964</th>\n",
       "      <td>160893652</td>\n",
       "      <td>NON-CRIMINAL</td>\n",
       "      <td>CIVIL SIDEWALKS, WARNING</td>\n",
       "      <td>Wednesday</td>\n",
       "      <td>11-02-2016 0.00</td>\n",
       "      <td>18.02</td>\n",
       "      <td>MISSION</td>\n",
       "      <td>NONE</td>\n",
       "      <td>21ST ST / SHOTWELL ST</td>\n",
       "      <td>-122.415629</td>\n",
       "      <td>37.757232</td>\n",
       "      <td>(37.757232227914, -122.415629332446)</td>\n",
       "      <td>1.610000e+13</td>\n",
       "    </tr>\n",
       "    <tr>\n",
       "      <th>9963</th>\n",
       "      <td>160893464</td>\n",
       "      <td>WEAPON LAWS</td>\n",
       "      <td>CARRYING A CONCEALED WEAPON</td>\n",
       "      <td>Wednesday</td>\n",
       "      <td>11-02-2016 0.00</td>\n",
       "      <td>16.42</td>\n",
       "      <td>BAYVIEW</td>\n",
       "      <td>NONE</td>\n",
       "      <td>1100 Block of 18TH ST</td>\n",
       "      <td>-122.394108</td>\n",
       "      <td>37.762671</td>\n",
       "      <td>(37.7626705352496, -122.394108177688)</td>\n",
       "      <td>1.610000e+13</td>\n",
       "    </tr>\n",
       "    <tr>\n",
       "      <th>9962</th>\n",
       "      <td>160893395</td>\n",
       "      <td>ASSAULT</td>\n",
       "      <td>BATTERY</td>\n",
       "      <td>Wednesday</td>\n",
       "      <td>11-02-2016 0.00</td>\n",
       "      <td>16.15</td>\n",
       "      <td>TARAVAL</td>\n",
       "      <td>NONE</td>\n",
       "      <td>MONTEREY BL / NORTHGATE DR</td>\n",
       "      <td>-122.461737</td>\n",
       "      <td>37.730023</td>\n",
       "      <td>(37.7300233378439, -122.461736679015)</td>\n",
       "      <td>1.610000e+13</td>\n",
       "    </tr>\n",
       "    <tr>\n",
       "      <th>9953</th>\n",
       "      <td>160892842</td>\n",
       "      <td>SUSPICIOUS OCC</td>\n",
       "      <td>SUSPICIOUS OCCURRENCE</td>\n",
       "      <td>Wednesday</td>\n",
       "      <td>11-02-2016 0.00</td>\n",
       "      <td>10.00</td>\n",
       "      <td>MISSION</td>\n",
       "      <td>NONE</td>\n",
       "      <td>200 Block of 14TH ST</td>\n",
       "      <td>-122.418885</td>\n",
       "      <td>37.768285</td>\n",
       "      <td>(37.7682847825555, -122.418885184858)</td>\n",
       "      <td>1.610000e+13</td>\n",
       "    </tr>\n",
       "    <tr>\n",
       "      <th>9952</th>\n",
       "      <td>160892836</td>\n",
       "      <td>LARCENY/THEFT</td>\n",
       "      <td>PETTY THEFT FROM LOCKED AUTO</td>\n",
       "      <td>Tuesday</td>\n",
       "      <td>10/18/2016 12:00:00 AM</td>\n",
       "      <td>10.00</td>\n",
       "      <td>CENTRAL</td>\n",
       "      <td>NONE</td>\n",
       "      <td>VALLEJO ST / MASON ST</td>\n",
       "      <td>-122.412099</td>\n",
       "      <td>37.798166</td>\n",
       "      <td>(37.7981663310688, -122.412098601225)</td>\n",
       "      <td>1.610000e+13</td>\n",
       "    </tr>\n",
       "    <tr>\n",
       "      <th>9951</th>\n",
       "      <td>160892820</td>\n",
       "      <td>ASSAULT</td>\n",
       "      <td>THREATS AGAINST LIFE</td>\n",
       "      <td>Wednesday</td>\n",
       "      <td>11-02-2016 0.00</td>\n",
       "      <td>11.45</td>\n",
       "      <td>PARK</td>\n",
       "      <td>NONE</td>\n",
       "      <td>STANYAN ST / WALLER ST</td>\n",
       "      <td>-122.453355</td>\n",
       "      <td>37.768246</td>\n",
       "      <td>(37.7682463076665, -122.453354647469)</td>\n",
       "      <td>1.610000e+13</td>\n",
       "    </tr>\n",
       "    <tr>\n",
       "      <th>9950</th>\n",
       "      <td>160892814</td>\n",
       "      <td>OTHER OFFENSES</td>\n",
       "      <td>DRIVERS LICENSE, SUSPENDED OR REVOKED</td>\n",
       "      <td>Wednesday</td>\n",
       "      <td>11-02-2016 0.00</td>\n",
       "      <td>12.10</td>\n",
       "      <td>BAYVIEW</td>\n",
       "      <td>ARREST, BOOKED</td>\n",
       "      <td>QUESADA AV / 3RD ST</td>\n",
       "      <td>-122.391246</td>\n",
       "      <td>37.733225</td>\n",
       "      <td>(37.7332252032804, -122.391245623019)</td>\n",
       "      <td>1.610000e+13</td>\n",
       "    </tr>\n",
       "    <tr>\n",
       "      <th>9945</th>\n",
       "      <td>160892591</td>\n",
       "      <td>ASSAULT</td>\n",
       "      <td>THREATS AGAINST LIFE</td>\n",
       "      <td>Wednesday</td>\n",
       "      <td>11-02-2016 0.00</td>\n",
       "      <td>10.19</td>\n",
       "      <td>BAYVIEW</td>\n",
       "      <td>NONE</td>\n",
       "      <td>0 Block of CASHMERE ST</td>\n",
       "      <td>-122.382705</td>\n",
       "      <td>37.735886</td>\n",
       "      <td>(37.7358858148594, -122.382705072801)</td>\n",
       "      <td>1.610000e+13</td>\n",
       "    </tr>\n",
       "    <tr>\n",
       "      <th>9944</th>\n",
       "      <td>160892585</td>\n",
       "      <td>VANDALISM</td>\n",
       "      <td>MALICIOUS MISCHIEF, VANDALISM OF VEHICLES</td>\n",
       "      <td>Wednesday</td>\n",
       "      <td>11-02-2016 0.00</td>\n",
       "      <td>10.38</td>\n",
       "      <td>NORTHERN</td>\n",
       "      <td>ARREST, BOOKED</td>\n",
       "      <td>100 Block of GROVE ST</td>\n",
       "      <td>-122.419064</td>\n",
       "      <td>37.778327</td>\n",
       "      <td>(37.7783268674219, -122.419063862505)</td>\n",
       "      <td>1.610000e+13</td>\n",
       "    </tr>\n",
       "    <tr>\n",
       "      <th>9933</th>\n",
       "      <td>160891662</td>\n",
       "      <td>ASSAULT</td>\n",
       "      <td>FALSE IMPRISONMENT</td>\n",
       "      <td>Tuesday</td>\n",
       "      <td>11-01-2016 0.00</td>\n",
       "      <td>22.30</td>\n",
       "      <td>INGLESIDE</td>\n",
       "      <td>ARREST, BOOKED</td>\n",
       "      <td>MISSION ST / OCEAN AV</td>\n",
       "      <td>-122.435385</td>\n",
       "      <td>37.723910</td>\n",
       "      <td>(37.7239104470753, -122.435385454946)</td>\n",
       "      <td>1.610000e+13</td>\n",
       "    </tr>\n",
       "    <tr>\n",
       "      <th>9860</th>\n",
       "      <td>160889786</td>\n",
       "      <td>BURGLARY</td>\n",
       "      <td>BURGLARY OF RESIDENCE, ATTEMPTED FORCIBLE ENTRY</td>\n",
       "      <td>Tuesday</td>\n",
       "      <td>11-01-2016 0.00</td>\n",
       "      <td>2.54</td>\n",
       "      <td>MISSION</td>\n",
       "      <td>NONE</td>\n",
       "      <td>4000 Block of 19TH ST</td>\n",
       "      <td>-122.433209</td>\n",
       "      <td>37.759334</td>\n",
       "      <td>(37.7593336636293, -122.433208516014)</td>\n",
       "      <td>1.610000e+13</td>\n",
       "    </tr>\n",
       "    <tr>\n",
       "      <th>9859</th>\n",
       "      <td>160889764</td>\n",
       "      <td>OTHER OFFENSES</td>\n",
       "      <td>LOST/STOLEN LICENSE PLATE</td>\n",
       "      <td>Monday</td>\n",
       "      <td>10/31/2016 12:00:00 AM</td>\n",
       "      <td>17.30</td>\n",
       "      <td>MISSION</td>\n",
       "      <td>NONE</td>\n",
       "      <td>SOUTH VAN NESS AV / 26TH ST</td>\n",
       "      <td>-122.415954</td>\n",
       "      <td>37.749173</td>\n",
       "      <td>(37.7491729638325, -122.415954301518)</td>\n",
       "      <td>1.610000e+13</td>\n",
       "    </tr>\n",
       "    <tr>\n",
       "      <th>9858</th>\n",
       "      <td>160889742</td>\n",
       "      <td>OTHER OFFENSES</td>\n",
       "      <td>FALSE PERSONATION AND CHEAT CRIMES (GENERAL)</td>\n",
       "      <td>Monday</td>\n",
       "      <td>10-03-2016 0.00</td>\n",
       "      <td>8.00</td>\n",
       "      <td>TARAVAL</td>\n",
       "      <td>NONE</td>\n",
       "      <td>2000 Block of GREAT HY</td>\n",
       "      <td>-122.507747</td>\n",
       "      <td>37.748168</td>\n",
       "      <td>(37.7481676180147, -122.507747058887)</td>\n",
       "      <td>1.610000e+13</td>\n",
       "    </tr>\n",
       "    <tr>\n",
       "      <th>9857</th>\n",
       "      <td>160889736</td>\n",
       "      <td>WARRANTS</td>\n",
       "      <td>ENROUTE TO OUTSIDE JURISDICTION</td>\n",
       "      <td>Tuesday</td>\n",
       "      <td>11-01-2016 0.00</td>\n",
       "      <td>10.43</td>\n",
       "      <td>SOUTHERN</td>\n",
       "      <td>ARREST, BOOKED</td>\n",
       "      <td>800 Block of BRYANT ST</td>\n",
       "      <td>-122.403405</td>\n",
       "      <td>37.775421</td>\n",
       "      <td>(37.775420706711, -122.403404791479)</td>\n",
       "      <td>1.610000e+13</td>\n",
       "    </tr>\n",
       "    <tr>\n",
       "      <th>9826</th>\n",
       "      <td>160887677</td>\n",
       "      <td>ASSAULT</td>\n",
       "      <td>BATTERY</td>\n",
       "      <td>Monday</td>\n",
       "      <td>10/31/2016 12:00:00 AM</td>\n",
       "      <td>16.48</td>\n",
       "      <td>TENDERLOIN</td>\n",
       "      <td>NONE</td>\n",
       "      <td>100 Block of HYDE ST</td>\n",
       "      <td>-122.415670</td>\n",
       "      <td>37.782120</td>\n",
       "      <td>(37.7821198488931, -122.415669661443)</td>\n",
       "      <td>1.610000e+13</td>\n",
       "    </tr>\n",
       "    <tr>\n",
       "      <th>9727</th>\n",
       "      <td>160884689</td>\n",
       "      <td>VEHICLE THEFT</td>\n",
       "      <td>STOLEN TRUCK</td>\n",
       "      <td>Sunday</td>\n",
       "      <td>10/30/2016 12:00:00 AM</td>\n",
       "      <td>13.20</td>\n",
       "      <td>INGLESIDE</td>\n",
       "      <td>NONE</td>\n",
       "      <td>100 Block of OCEAN AV</td>\n",
       "      <td>-122.439345</td>\n",
       "      <td>37.723624</td>\n",
       "      <td>(37.723624467748, -122.43934468789)</td>\n",
       "      <td>1.610000e+13</td>\n",
       "    </tr>\n",
       "    <tr>\n",
       "      <th>9715</th>\n",
       "      <td>160883766</td>\n",
       "      <td>WEAPON LAWS</td>\n",
       "      <td>EXHIBITING DEADLY WEAPON IN A THREATING MANNER</td>\n",
       "      <td>Sunday</td>\n",
       "      <td>10/30/2016 12:00:00 AM</td>\n",
       "      <td>11.17</td>\n",
       "      <td>BAYVIEW</td>\n",
       "      <td>ARREST, BOOKED</td>\n",
       "      <td>3800 Block of 3RD ST</td>\n",
       "      <td>-122.387940</td>\n",
       "      <td>37.742260</td>\n",
       "      <td>(37.7422600519555, -122.387939452192)</td>\n",
       "      <td>1.610000e+13</td>\n",
       "    </tr>\n",
       "    <tr>\n",
       "      <th>9714</th>\n",
       "      <td>160883750</td>\n",
       "      <td>BURGLARY</td>\n",
       "      <td>BURGLARY OF STORE, FORCIBLE ENTRY</td>\n",
       "      <td>Saturday</td>\n",
       "      <td>10/29/2016 12:00:00 AM</td>\n",
       "      <td>19.00</td>\n",
       "      <td>CENTRAL</td>\n",
       "      <td>NONE</td>\n",
       "      <td>200 Block of GRANT AV</td>\n",
       "      <td>-122.405185</td>\n",
       "      <td>37.788876</td>\n",
       "      <td>(37.7888762183538, -122.405184569667)</td>\n",
       "      <td>1.610000e+13</td>\n",
       "    </tr>\n",
       "    <tr>\n",
       "      <th>9711</th>\n",
       "      <td>160883255</td>\n",
       "      <td>LARCENY/THEFT</td>\n",
       "      <td>GRAND THEFT FROM LOCKED AUTO</td>\n",
       "      <td>Saturday</td>\n",
       "      <td>10/29/2016 12:00:00 AM</td>\n",
       "      <td>21.50</td>\n",
       "      <td>SOUTHERN</td>\n",
       "      <td>NONE</td>\n",
       "      <td>600 Block of MINNA ST</td>\n",
       "      <td>-122.411206</td>\n",
       "      <td>37.778224</td>\n",
       "      <td>(37.7782244806331, -122.411205728723)</td>\n",
       "      <td>1.610000e+13</td>\n",
       "    </tr>\n",
       "    <tr>\n",
       "      <th>9710</th>\n",
       "      <td>160883249</td>\n",
       "      <td>VANDALISM</td>\n",
       "      <td>MALICIOUS MISCHIEF, VANDALISM OF VEHICLES</td>\n",
       "      <td>Sunday</td>\n",
       "      <td>10/30/2016 12:00:00 AM</td>\n",
       "      <td>3.08</td>\n",
       "      <td>CENTRAL</td>\n",
       "      <td>ARREST, BOOKED</td>\n",
       "      <td>0 Block of BROADWAY ST</td>\n",
       "      <td>-122.399296</td>\n",
       "      <td>37.798859</td>\n",
       "      <td>(37.798859198392, -122.399295690795)</td>\n",
       "      <td>1.610000e+13</td>\n",
       "    </tr>\n",
       "    <tr>\n",
       "      <th>9644</th>\n",
       "      <td>160880427</td>\n",
       "      <td>OTHER OFFENSES</td>\n",
       "      <td>RESISTING ARREST</td>\n",
       "      <td>Saturday</td>\n",
       "      <td>10/29/2016 12:00:00 AM</td>\n",
       "      <td>6.20</td>\n",
       "      <td>MISSION</td>\n",
       "      <td>ARREST, BOOKED</td>\n",
       "      <td>20TH ST / DOLORES ST</td>\n",
       "      <td>-122.425768</td>\n",
       "      <td>37.758226</td>\n",
       "      <td>(37.7582261992584, -122.425768246873)</td>\n",
       "      <td>1.610000e+13</td>\n",
       "    </tr>\n",
       "    <tr>\n",
       "      <th>9645</th>\n",
       "      <td>160880427</td>\n",
       "      <td>VANDALISM</td>\n",
       "      <td>MALICIOUS MISCHIEF, GRAFFITI</td>\n",
       "      <td>Saturday</td>\n",
       "      <td>10/29/2016 12:00:00 AM</td>\n",
       "      <td>6.20</td>\n",
       "      <td>MISSION</td>\n",
       "      <td>ARREST, BOOKED</td>\n",
       "      <td>20TH ST / DOLORES ST</td>\n",
       "      <td>-122.425768</td>\n",
       "      <td>37.758226</td>\n",
       "      <td>(37.7582261992584, -122.425768246873)</td>\n",
       "      <td>1.610000e+13</td>\n",
       "    </tr>\n",
       "    <tr>\n",
       "      <th>9611</th>\n",
       "      <td>160877424</td>\n",
       "      <td>VANDALISM</td>\n",
       "      <td>MALICIOUS MISCHIEF, VANDALISM OF VEHICLES</td>\n",
       "      <td>Friday</td>\n",
       "      <td>10/28/2016 12:00:00 AM</td>\n",
       "      <td>5.30</td>\n",
       "      <td>NORTHERN</td>\n",
       "      <td>NONE</td>\n",
       "      <td>0 Block of DANIELBURNHAM CT</td>\n",
       "      <td>-122.422541</td>\n",
       "      <td>37.786909</td>\n",
       "      <td>(37.7869088658022, -122.422540554174)</td>\n",
       "      <td>1.610000e+13</td>\n",
       "    </tr>\n",
       "    <tr>\n",
       "      <th>9603</th>\n",
       "      <td>160876642</td>\n",
       "      <td>ASSAULT</td>\n",
       "      <td>BATTERY</td>\n",
       "      <td>Thursday</td>\n",
       "      <td>10/27/2016 12:00:00 AM</td>\n",
       "      <td>20.55</td>\n",
       "      <td>MISSION</td>\n",
       "      <td>ARREST, BOOKED</td>\n",
       "      <td>2000 Block of MISSION ST</td>\n",
       "      <td>-122.419658</td>\n",
       "      <td>37.764221</td>\n",
       "      <td>(37.7642205603745, -122.41965834371)</td>\n",
       "      <td>1.610000e+13</td>\n",
       "    </tr>\n",
       "    <tr>\n",
       "      <th>9602</th>\n",
       "      <td>160876006</td>\n",
       "      <td>ASSAULT</td>\n",
       "      <td>ELDER ADULT OR DEPENDENT ABUSE (NOT EMBEZZLEME...</td>\n",
       "      <td>Monday</td>\n",
       "      <td>10/24/2016 12:00:00 AM</td>\n",
       "      <td>10.00</td>\n",
       "      <td>INGLESIDE</td>\n",
       "      <td>ARREST, BOOKED</td>\n",
       "      <td>0 Block of SOUTHHILL BL</td>\n",
       "      <td>-122.432639</td>\n",
       "      <td>37.712453</td>\n",
       "      <td>(37.7124534320617, -122.43263862183)</td>\n",
       "      <td>1.610000e+13</td>\n",
       "    </tr>\n",
       "    <tr>\n",
       "      <th>9601</th>\n",
       "      <td>160876006</td>\n",
       "      <td>ASSAULT</td>\n",
       "      <td>AGGRAVATED ASSAULT WITH BODILY FORCE</td>\n",
       "      <td>Monday</td>\n",
       "      <td>10/24/2016 12:00:00 AM</td>\n",
       "      <td>10.00</td>\n",
       "      <td>INGLESIDE</td>\n",
       "      <td>ARREST, BOOKED</td>\n",
       "      <td>0 Block of SOUTHHILL BL</td>\n",
       "      <td>-122.432639</td>\n",
       "      <td>37.712453</td>\n",
       "      <td>(37.7124534320617, -122.43263862183)</td>\n",
       "      <td>1.610000e+13</td>\n",
       "    </tr>\n",
       "    <tr>\n",
       "      <th>9932</th>\n",
       "      <td>160875876</td>\n",
       "      <td>NON-CRIMINAL</td>\n",
       "      <td>COURTESY REPORT</td>\n",
       "      <td>Thursday</td>\n",
       "      <td>10/27/2016 12:00:00 AM</td>\n",
       "      <td>16.00</td>\n",
       "      <td>SOUTHERN</td>\n",
       "      <td>NONE</td>\n",
       "      <td>HOWARD ST / 11TH ST</td>\n",
       "      <td>-122.415565</td>\n",
       "      <td>37.773099</td>\n",
       "      <td>(37.773099482048, -122.415564465695)</td>\n",
       "      <td>1.610000e+13</td>\n",
       "    </tr>\n",
       "    <tr>\n",
       "      <th>9598</th>\n",
       "      <td>160875008</td>\n",
       "      <td>NON-CRIMINAL</td>\n",
       "      <td>AIDED CASE, MENTAL DISTURBED</td>\n",
       "      <td>Thursday</td>\n",
       "      <td>10/27/2016 12:00:00 AM</td>\n",
       "      <td>11.15</td>\n",
       "      <td>PARK</td>\n",
       "      <td>NONE</td>\n",
       "      <td>800 Block of BUENAVISTAWEST AV</td>\n",
       "      <td>-122.442598</td>\n",
       "      <td>37.769312</td>\n",
       "      <td>(37.7693116425317, -122.442597549743)</td>\n",
       "      <td>1.610000e+13</td>\n",
       "    </tr>\n",
       "  </tbody>\n",
       "</table>\n",
       "</div>"
      ],
      "text/plain": [
       "      IncidntNum        Category  \\\n",
       "9554   160939676         ASSAULT   \n",
       "9986   160895846  OTHER OFFENSES   \n",
       "9964   160893652    NON-CRIMINAL   \n",
       "9963   160893464     WEAPON LAWS   \n",
       "9962   160893395         ASSAULT   \n",
       "9953   160892842  SUSPICIOUS OCC   \n",
       "9952   160892836   LARCENY/THEFT   \n",
       "9951   160892820         ASSAULT   \n",
       "9950   160892814  OTHER OFFENSES   \n",
       "9945   160892591         ASSAULT   \n",
       "9944   160892585       VANDALISM   \n",
       "9933   160891662         ASSAULT   \n",
       "9860   160889786        BURGLARY   \n",
       "9859   160889764  OTHER OFFENSES   \n",
       "9858   160889742  OTHER OFFENSES   \n",
       "9857   160889736        WARRANTS   \n",
       "9826   160887677         ASSAULT   \n",
       "9727   160884689   VEHICLE THEFT   \n",
       "9715   160883766     WEAPON LAWS   \n",
       "9714   160883750        BURGLARY   \n",
       "9711   160883255   LARCENY/THEFT   \n",
       "9710   160883249       VANDALISM   \n",
       "9644   160880427  OTHER OFFENSES   \n",
       "9645   160880427       VANDALISM   \n",
       "9611   160877424       VANDALISM   \n",
       "9603   160876642         ASSAULT   \n",
       "9602   160876006         ASSAULT   \n",
       "9601   160876006         ASSAULT   \n",
       "9932   160875876    NON-CRIMINAL   \n",
       "9598   160875008    NON-CRIMINAL   \n",
       "\n",
       "                                               Descript  DayOfWeek  \\\n",
       "9554                                            BATTERY     Monday   \n",
       "9986                                  FALSE PERSONATION     Monday   \n",
       "9964                           CIVIL SIDEWALKS, WARNING  Wednesday   \n",
       "9963                        CARRYING A CONCEALED WEAPON  Wednesday   \n",
       "9962                                            BATTERY  Wednesday   \n",
       "9953                              SUSPICIOUS OCCURRENCE  Wednesday   \n",
       "9952                       PETTY THEFT FROM LOCKED AUTO    Tuesday   \n",
       "9951                               THREATS AGAINST LIFE  Wednesday   \n",
       "9950              DRIVERS LICENSE, SUSPENDED OR REVOKED  Wednesday   \n",
       "9945                               THREATS AGAINST LIFE  Wednesday   \n",
       "9944          MALICIOUS MISCHIEF, VANDALISM OF VEHICLES  Wednesday   \n",
       "9933                                 FALSE IMPRISONMENT    Tuesday   \n",
       "9860    BURGLARY OF RESIDENCE, ATTEMPTED FORCIBLE ENTRY    Tuesday   \n",
       "9859                          LOST/STOLEN LICENSE PLATE     Monday   \n",
       "9858       FALSE PERSONATION AND CHEAT CRIMES (GENERAL)     Monday   \n",
       "9857                    ENROUTE TO OUTSIDE JURISDICTION    Tuesday   \n",
       "9826                                            BATTERY     Monday   \n",
       "9727                                       STOLEN TRUCK     Sunday   \n",
       "9715     EXHIBITING DEADLY WEAPON IN A THREATING MANNER     Sunday   \n",
       "9714                  BURGLARY OF STORE, FORCIBLE ENTRY   Saturday   \n",
       "9711                       GRAND THEFT FROM LOCKED AUTO   Saturday   \n",
       "9710          MALICIOUS MISCHIEF, VANDALISM OF VEHICLES     Sunday   \n",
       "9644                                   RESISTING ARREST   Saturday   \n",
       "9645                       MALICIOUS MISCHIEF, GRAFFITI   Saturday   \n",
       "9611          MALICIOUS MISCHIEF, VANDALISM OF VEHICLES     Friday   \n",
       "9603                                            BATTERY   Thursday   \n",
       "9602  ELDER ADULT OR DEPENDENT ABUSE (NOT EMBEZZLEME...     Monday   \n",
       "9601               AGGRAVATED ASSAULT WITH BODILY FORCE     Monday   \n",
       "9932                                    COURTESY REPORT   Thursday   \n",
       "9598                       AIDED CASE, MENTAL DISTURBED   Thursday   \n",
       "\n",
       "                        Date   Time  PdDistrict      Resolution  \\\n",
       "9554  11/14/2016 12:00:00 AM   9.20    NORTHERN            NONE   \n",
       "9986  10/31/2016 12:00:00 AM  10.00     MISSION            NONE   \n",
       "9964         11-02-2016 0.00  18.02     MISSION            NONE   \n",
       "9963         11-02-2016 0.00  16.42     BAYVIEW            NONE   \n",
       "9962         11-02-2016 0.00  16.15     TARAVAL            NONE   \n",
       "9953         11-02-2016 0.00  10.00     MISSION            NONE   \n",
       "9952  10/18/2016 12:00:00 AM  10.00     CENTRAL            NONE   \n",
       "9951         11-02-2016 0.00  11.45        PARK            NONE   \n",
       "9950         11-02-2016 0.00  12.10     BAYVIEW  ARREST, BOOKED   \n",
       "9945         11-02-2016 0.00  10.19     BAYVIEW            NONE   \n",
       "9944         11-02-2016 0.00  10.38    NORTHERN  ARREST, BOOKED   \n",
       "9933         11-01-2016 0.00  22.30   INGLESIDE  ARREST, BOOKED   \n",
       "9860         11-01-2016 0.00   2.54     MISSION            NONE   \n",
       "9859  10/31/2016 12:00:00 AM  17.30     MISSION            NONE   \n",
       "9858         10-03-2016 0.00   8.00     TARAVAL            NONE   \n",
       "9857         11-01-2016 0.00  10.43    SOUTHERN  ARREST, BOOKED   \n",
       "9826  10/31/2016 12:00:00 AM  16.48  TENDERLOIN            NONE   \n",
       "9727  10/30/2016 12:00:00 AM  13.20   INGLESIDE            NONE   \n",
       "9715  10/30/2016 12:00:00 AM  11.17     BAYVIEW  ARREST, BOOKED   \n",
       "9714  10/29/2016 12:00:00 AM  19.00     CENTRAL            NONE   \n",
       "9711  10/29/2016 12:00:00 AM  21.50    SOUTHERN            NONE   \n",
       "9710  10/30/2016 12:00:00 AM   3.08     CENTRAL  ARREST, BOOKED   \n",
       "9644  10/29/2016 12:00:00 AM   6.20     MISSION  ARREST, BOOKED   \n",
       "9645  10/29/2016 12:00:00 AM   6.20     MISSION  ARREST, BOOKED   \n",
       "9611  10/28/2016 12:00:00 AM   5.30    NORTHERN            NONE   \n",
       "9603  10/27/2016 12:00:00 AM  20.55     MISSION  ARREST, BOOKED   \n",
       "9602  10/24/2016 12:00:00 AM  10.00   INGLESIDE  ARREST, BOOKED   \n",
       "9601  10/24/2016 12:00:00 AM  10.00   INGLESIDE  ARREST, BOOKED   \n",
       "9932  10/27/2016 12:00:00 AM  16.00    SOUTHERN            NONE   \n",
       "9598  10/27/2016 12:00:00 AM  11.15        PARK            NONE   \n",
       "\n",
       "                             Address           X          Y  \\\n",
       "9554              ELLIS ST / POLK ST -122.419366  37.784028   \n",
       "9986            100 Block of CAPP ST -122.418550  37.764284   \n",
       "9964           21ST ST / SHOTWELL ST -122.415629  37.757232   \n",
       "9963           1100 Block of 18TH ST -122.394108  37.762671   \n",
       "9962      MONTEREY BL / NORTHGATE DR -122.461737  37.730023   \n",
       "9953            200 Block of 14TH ST -122.418885  37.768285   \n",
       "9952           VALLEJO ST / MASON ST -122.412099  37.798166   \n",
       "9951          STANYAN ST / WALLER ST -122.453355  37.768246   \n",
       "9950             QUESADA AV / 3RD ST -122.391246  37.733225   \n",
       "9945          0 Block of CASHMERE ST -122.382705  37.735886   \n",
       "9944           100 Block of GROVE ST -122.419064  37.778327   \n",
       "9933           MISSION ST / OCEAN AV -122.435385  37.723910   \n",
       "9860           4000 Block of 19TH ST -122.433209  37.759334   \n",
       "9859     SOUTH VAN NESS AV / 26TH ST -122.415954  37.749173   \n",
       "9858          2000 Block of GREAT HY -122.507747  37.748168   \n",
       "9857          800 Block of BRYANT ST -122.403405  37.775421   \n",
       "9826            100 Block of HYDE ST -122.415670  37.782120   \n",
       "9727           100 Block of OCEAN AV -122.439345  37.723624   \n",
       "9715            3800 Block of 3RD ST -122.387940  37.742260   \n",
       "9714           200 Block of GRANT AV -122.405185  37.788876   \n",
       "9711           600 Block of MINNA ST -122.411206  37.778224   \n",
       "9710          0 Block of BROADWAY ST -122.399296  37.798859   \n",
       "9644            20TH ST / DOLORES ST -122.425768  37.758226   \n",
       "9645            20TH ST / DOLORES ST -122.425768  37.758226   \n",
       "9611     0 Block of DANIELBURNHAM CT -122.422541  37.786909   \n",
       "9603        2000 Block of MISSION ST -122.419658  37.764221   \n",
       "9602         0 Block of SOUTHHILL BL -122.432639  37.712453   \n",
       "9601         0 Block of SOUTHHILL BL -122.432639  37.712453   \n",
       "9932             HOWARD ST / 11TH ST -122.415565  37.773099   \n",
       "9598  800 Block of BUENAVISTAWEST AV -122.442598  37.769312   \n",
       "\n",
       "                                   Location          PdId  \n",
       "9554  (37.7840280452032, -122.419366294797)  1.610000e+13  \n",
       "9986  (37.7642837095036, -122.418549940195)  1.610000e+13  \n",
       "9964   (37.757232227914, -122.415629332446)  1.610000e+13  \n",
       "9963  (37.7626705352496, -122.394108177688)  1.610000e+13  \n",
       "9962  (37.7300233378439, -122.461736679015)  1.610000e+13  \n",
       "9953  (37.7682847825555, -122.418885184858)  1.610000e+13  \n",
       "9952  (37.7981663310688, -122.412098601225)  1.610000e+13  \n",
       "9951  (37.7682463076665, -122.453354647469)  1.610000e+13  \n",
       "9950  (37.7332252032804, -122.391245623019)  1.610000e+13  \n",
       "9945  (37.7358858148594, -122.382705072801)  1.610000e+13  \n",
       "9944  (37.7783268674219, -122.419063862505)  1.610000e+13  \n",
       "9933  (37.7239104470753, -122.435385454946)  1.610000e+13  \n",
       "9860  (37.7593336636293, -122.433208516014)  1.610000e+13  \n",
       "9859  (37.7491729638325, -122.415954301518)  1.610000e+13  \n",
       "9858  (37.7481676180147, -122.507747058887)  1.610000e+13  \n",
       "9857   (37.775420706711, -122.403404791479)  1.610000e+13  \n",
       "9826  (37.7821198488931, -122.415669661443)  1.610000e+13  \n",
       "9727    (37.723624467748, -122.43934468789)  1.610000e+13  \n",
       "9715  (37.7422600519555, -122.387939452192)  1.610000e+13  \n",
       "9714  (37.7888762183538, -122.405184569667)  1.610000e+13  \n",
       "9711  (37.7782244806331, -122.411205728723)  1.610000e+13  \n",
       "9710   (37.798859198392, -122.399295690795)  1.610000e+13  \n",
       "9644  (37.7582261992584, -122.425768246873)  1.610000e+13  \n",
       "9645  (37.7582261992584, -122.425768246873)  1.610000e+13  \n",
       "9611  (37.7869088658022, -122.422540554174)  1.610000e+13  \n",
       "9603   (37.7642205603745, -122.41965834371)  1.610000e+13  \n",
       "9602   (37.7124534320617, -122.43263862183)  1.610000e+13  \n",
       "9601   (37.7124534320617, -122.43263862183)  1.610000e+13  \n",
       "9932   (37.773099482048, -122.415564465695)  1.610000e+13  \n",
       "9598  (37.7693116425317, -122.442597549743)  1.610000e+13  "
      ]
     },
     "execution_count": 64,
     "metadata": {},
     "output_type": "execute_result"
    }
   ],
   "source": [
    "df.sort_values(by='IncidntNum',ascending=False, inplace=True)\n",
    "df.head(30)"
   ]
  },
  {
   "cell_type": "code",
   "execution_count": 65,
   "metadata": {},
   "outputs": [
    {
     "data": {
      "text/plain": [
       "(10019, 13)"
      ]
     },
     "execution_count": 65,
     "metadata": {},
     "output_type": "execute_result"
    }
   ],
   "source": [
    "df.dropna(inplace=True)     #drops empty data\n",
    "df.shape"
   ]
  },
  {
   "cell_type": "code",
   "execution_count": 66,
   "metadata": {},
   "outputs": [
    {
     "data": {
      "text/html": [
       "<div>\n",
       "<style scoped>\n",
       "    .dataframe tbody tr th:only-of-type {\n",
       "        vertical-align: middle;\n",
       "    }\n",
       "\n",
       "    .dataframe tbody tr th {\n",
       "        vertical-align: top;\n",
       "    }\n",
       "\n",
       "    .dataframe thead th {\n",
       "        text-align: right;\n",
       "    }\n",
       "</style>\n",
       "<table border=\"1\" class=\"dataframe\">\n",
       "  <thead>\n",
       "    <tr style=\"text-align: right;\">\n",
       "      <th></th>\n",
       "      <th>IncidntNum</th>\n",
       "      <th>Category</th>\n",
       "      <th>Descript</th>\n",
       "      <th>DayOfWeek</th>\n",
       "      <th>Date</th>\n",
       "      <th>Time</th>\n",
       "      <th>PdDistrict</th>\n",
       "      <th>Resolution</th>\n",
       "      <th>Address</th>\n",
       "      <th>X</th>\n",
       "      <th>Y</th>\n",
       "      <th>Location</th>\n",
       "      <th>PdId</th>\n",
       "    </tr>\n",
       "  </thead>\n",
       "  <tbody>\n",
       "    <tr>\n",
       "      <th>2467</th>\n",
       "      <td>150273337</td>\n",
       "      <td>WARRANTS</td>\n",
       "      <td>WARRANT ARREST</td>\n",
       "      <td>Wednesday</td>\n",
       "      <td>12/21/2016 12:00:00 AM</td>\n",
       "      <td>18.17</td>\n",
       "      <td>TENDERLOIN</td>\n",
       "      <td>ARREST, BOOKED</td>\n",
       "      <td>300 Block of JONES ST</td>\n",
       "      <td>-122.412759</td>\n",
       "      <td>37.784400</td>\n",
       "      <td>(37.7843997500192, -122.412758846145)</td>\n",
       "      <td>1.500000e+13</td>\n",
       "    </tr>\n",
       "    <tr>\n",
       "      <th>115</th>\n",
       "      <td>150480366</td>\n",
       "      <td>VEHICLE THEFT</td>\n",
       "      <td>STOLEN AND RECOVERED VEHICLE</td>\n",
       "      <td>Thursday</td>\n",
       "      <td>12-08-2016 0.00</td>\n",
       "      <td>15.00</td>\n",
       "      <td>NORTHERN</td>\n",
       "      <td>ARREST, BOOKED</td>\n",
       "      <td>PINE ST / POLK ST</td>\n",
       "      <td>-122.420497</td>\n",
       "      <td>37.789619</td>\n",
       "      <td>(37.789618819255, -122.42049728879)</td>\n",
       "      <td>1.500000e+13</td>\n",
       "    </tr>\n",
       "    <tr>\n",
       "      <th>116</th>\n",
       "      <td>150480366</td>\n",
       "      <td>DRUNKENNESS</td>\n",
       "      <td>UNDER INFLUENCE OF ALCOHOL IN A PUBLIC PLACE</td>\n",
       "      <td>Thursday</td>\n",
       "      <td>12-08-2016 0.00</td>\n",
       "      <td>15.00</td>\n",
       "      <td>NORTHERN</td>\n",
       "      <td>ARREST, BOOKED</td>\n",
       "      <td>PINE ST / POLK ST</td>\n",
       "      <td>-122.420497</td>\n",
       "      <td>37.789619</td>\n",
       "      <td>(37.789618819255, -122.42049728879)</td>\n",
       "      <td>1.500000e+13</td>\n",
       "    </tr>\n",
       "    <tr>\n",
       "      <th>117</th>\n",
       "      <td>150480366</td>\n",
       "      <td>VANDALISM</td>\n",
       "      <td>MALICIOUS MISCHIEF, VANDALISM</td>\n",
       "      <td>Thursday</td>\n",
       "      <td>12-08-2016 0.00</td>\n",
       "      <td>15.00</td>\n",
       "      <td>NORTHERN</td>\n",
       "      <td>ARREST, BOOKED</td>\n",
       "      <td>PINE ST / POLK ST</td>\n",
       "      <td>-122.420497</td>\n",
       "      <td>37.789619</td>\n",
       "      <td>(37.789618819255, -122.42049728879)</td>\n",
       "      <td>1.500000e+13</td>\n",
       "    </tr>\n",
       "    <tr>\n",
       "      <th>118</th>\n",
       "      <td>150480366</td>\n",
       "      <td>VANDALISM</td>\n",
       "      <td>MALICIOUS MISCHIEF, VANDALISM OF VEHICLES</td>\n",
       "      <td>Thursday</td>\n",
       "      <td>12-08-2016 0.00</td>\n",
       "      <td>15.00</td>\n",
       "      <td>NORTHERN</td>\n",
       "      <td>ARREST, BOOKED</td>\n",
       "      <td>PINE ST / POLK ST</td>\n",
       "      <td>-122.420497</td>\n",
       "      <td>37.789619</td>\n",
       "      <td>(37.789618819255, -122.42049728879)</td>\n",
       "      <td>1.500000e+13</td>\n",
       "    </tr>\n",
       "    <tr>\n",
       "      <th>5332</th>\n",
       "      <td>160220970</td>\n",
       "      <td>FRAUD</td>\n",
       "      <td>CREDIT CARD, THEFT BY USE OF</td>\n",
       "      <td>Friday</td>\n",
       "      <td>11/18/2016 12:00:00 AM</td>\n",
       "      <td>12.00</td>\n",
       "      <td>BAYVIEW</td>\n",
       "      <td>NONE</td>\n",
       "      <td>1200 Block of DEHARO ST</td>\n",
       "      <td>-122.400632</td>\n",
       "      <td>37.753965</td>\n",
       "      <td>(37.7539653995399, -122.4006319548)</td>\n",
       "      <td>1.600000e+13</td>\n",
       "    </tr>\n",
       "    <tr>\n",
       "      <th>9554</th>\n",
       "      <td>160939676</td>\n",
       "      <td>ASSAULT</td>\n",
       "      <td>BATTERY</td>\n",
       "      <td>Monday</td>\n",
       "      <td>11/14/2016 12:00:00 AM</td>\n",
       "      <td>9.20</td>\n",
       "      <td>NORTHERN</td>\n",
       "      <td>NONE</td>\n",
       "      <td>ELLIS ST / POLK ST</td>\n",
       "      <td>-122.419366</td>\n",
       "      <td>37.784028</td>\n",
       "      <td>(37.7840280452032, -122.419366294797)</td>\n",
       "      <td>1.610000e+13</td>\n",
       "    </tr>\n",
       "    <tr>\n",
       "      <th>9964</th>\n",
       "      <td>160893652</td>\n",
       "      <td>NON-CRIMINAL</td>\n",
       "      <td>CIVIL SIDEWALKS, WARNING</td>\n",
       "      <td>Wednesday</td>\n",
       "      <td>11-02-2016 0.00</td>\n",
       "      <td>18.02</td>\n",
       "      <td>MISSION</td>\n",
       "      <td>NONE</td>\n",
       "      <td>21ST ST / SHOTWELL ST</td>\n",
       "      <td>-122.415629</td>\n",
       "      <td>37.757232</td>\n",
       "      <td>(37.757232227914, -122.415629332446)</td>\n",
       "      <td>1.610000e+13</td>\n",
       "    </tr>\n",
       "    <tr>\n",
       "      <th>9963</th>\n",
       "      <td>160893464</td>\n",
       "      <td>WEAPON LAWS</td>\n",
       "      <td>CARRYING A CONCEALED WEAPON</td>\n",
       "      <td>Wednesday</td>\n",
       "      <td>11-02-2016 0.00</td>\n",
       "      <td>16.42</td>\n",
       "      <td>BAYVIEW</td>\n",
       "      <td>NONE</td>\n",
       "      <td>1100 Block of 18TH ST</td>\n",
       "      <td>-122.394108</td>\n",
       "      <td>37.762671</td>\n",
       "      <td>(37.7626705352496, -122.394108177688)</td>\n",
       "      <td>1.610000e+13</td>\n",
       "    </tr>\n",
       "    <tr>\n",
       "      <th>9962</th>\n",
       "      <td>160893395</td>\n",
       "      <td>ASSAULT</td>\n",
       "      <td>BATTERY</td>\n",
       "      <td>Wednesday</td>\n",
       "      <td>11-02-2016 0.00</td>\n",
       "      <td>16.15</td>\n",
       "      <td>TARAVAL</td>\n",
       "      <td>NONE</td>\n",
       "      <td>MONTEREY BL / NORTHGATE DR</td>\n",
       "      <td>-122.461737</td>\n",
       "      <td>37.730023</td>\n",
       "      <td>(37.7300233378439, -122.461736679015)</td>\n",
       "      <td>1.610000e+13</td>\n",
       "    </tr>\n",
       "    <tr>\n",
       "      <th>9953</th>\n",
       "      <td>160892842</td>\n",
       "      <td>SUSPICIOUS OCC</td>\n",
       "      <td>SUSPICIOUS OCCURRENCE</td>\n",
       "      <td>Wednesday</td>\n",
       "      <td>11-02-2016 0.00</td>\n",
       "      <td>10.00</td>\n",
       "      <td>MISSION</td>\n",
       "      <td>NONE</td>\n",
       "      <td>200 Block of 14TH ST</td>\n",
       "      <td>-122.418885</td>\n",
       "      <td>37.768285</td>\n",
       "      <td>(37.7682847825555, -122.418885184858)</td>\n",
       "      <td>1.610000e+13</td>\n",
       "    </tr>\n",
       "    <tr>\n",
       "      <th>9951</th>\n",
       "      <td>160892820</td>\n",
       "      <td>ASSAULT</td>\n",
       "      <td>THREATS AGAINST LIFE</td>\n",
       "      <td>Wednesday</td>\n",
       "      <td>11-02-2016 0.00</td>\n",
       "      <td>11.45</td>\n",
       "      <td>PARK</td>\n",
       "      <td>NONE</td>\n",
       "      <td>STANYAN ST / WALLER ST</td>\n",
       "      <td>-122.453355</td>\n",
       "      <td>37.768246</td>\n",
       "      <td>(37.7682463076665, -122.453354647469)</td>\n",
       "      <td>1.610000e+13</td>\n",
       "    </tr>\n",
       "    <tr>\n",
       "      <th>9950</th>\n",
       "      <td>160892814</td>\n",
       "      <td>OTHER OFFENSES</td>\n",
       "      <td>DRIVERS LICENSE, SUSPENDED OR REVOKED</td>\n",
       "      <td>Wednesday</td>\n",
       "      <td>11-02-2016 0.00</td>\n",
       "      <td>12.10</td>\n",
       "      <td>BAYVIEW</td>\n",
       "      <td>ARREST, BOOKED</td>\n",
       "      <td>QUESADA AV / 3RD ST</td>\n",
       "      <td>-122.391246</td>\n",
       "      <td>37.733225</td>\n",
       "      <td>(37.7332252032804, -122.391245623019)</td>\n",
       "      <td>1.610000e+13</td>\n",
       "    </tr>\n",
       "    <tr>\n",
       "      <th>9945</th>\n",
       "      <td>160892591</td>\n",
       "      <td>ASSAULT</td>\n",
       "      <td>THREATS AGAINST LIFE</td>\n",
       "      <td>Wednesday</td>\n",
       "      <td>11-02-2016 0.00</td>\n",
       "      <td>10.19</td>\n",
       "      <td>BAYVIEW</td>\n",
       "      <td>NONE</td>\n",
       "      <td>0 Block of CASHMERE ST</td>\n",
       "      <td>-122.382705</td>\n",
       "      <td>37.735886</td>\n",
       "      <td>(37.7358858148594, -122.382705072801)</td>\n",
       "      <td>1.610000e+13</td>\n",
       "    </tr>\n",
       "    <tr>\n",
       "      <th>9944</th>\n",
       "      <td>160892585</td>\n",
       "      <td>VANDALISM</td>\n",
       "      <td>MALICIOUS MISCHIEF, VANDALISM OF VEHICLES</td>\n",
       "      <td>Wednesday</td>\n",
       "      <td>11-02-2016 0.00</td>\n",
       "      <td>10.38</td>\n",
       "      <td>NORTHERN</td>\n",
       "      <td>ARREST, BOOKED</td>\n",
       "      <td>100 Block of GROVE ST</td>\n",
       "      <td>-122.419064</td>\n",
       "      <td>37.778327</td>\n",
       "      <td>(37.7783268674219, -122.419063862505)</td>\n",
       "      <td>1.610000e+13</td>\n",
       "    </tr>\n",
       "    <tr>\n",
       "      <th>9933</th>\n",
       "      <td>160891662</td>\n",
       "      <td>ASSAULT</td>\n",
       "      <td>FALSE IMPRISONMENT</td>\n",
       "      <td>Tuesday</td>\n",
       "      <td>11-01-2016 0.00</td>\n",
       "      <td>22.30</td>\n",
       "      <td>INGLESIDE</td>\n",
       "      <td>ARREST, BOOKED</td>\n",
       "      <td>MISSION ST / OCEAN AV</td>\n",
       "      <td>-122.435385</td>\n",
       "      <td>37.723910</td>\n",
       "      <td>(37.7239104470753, -122.435385454946)</td>\n",
       "      <td>1.610000e+13</td>\n",
       "    </tr>\n",
       "    <tr>\n",
       "      <th>9860</th>\n",
       "      <td>160889786</td>\n",
       "      <td>BURGLARY</td>\n",
       "      <td>BURGLARY OF RESIDENCE, ATTEMPTED FORCIBLE ENTRY</td>\n",
       "      <td>Tuesday</td>\n",
       "      <td>11-01-2016 0.00</td>\n",
       "      <td>2.54</td>\n",
       "      <td>MISSION</td>\n",
       "      <td>NONE</td>\n",
       "      <td>4000 Block of 19TH ST</td>\n",
       "      <td>-122.433209</td>\n",
       "      <td>37.759334</td>\n",
       "      <td>(37.7593336636293, -122.433208516014)</td>\n",
       "      <td>1.610000e+13</td>\n",
       "    </tr>\n",
       "    <tr>\n",
       "      <th>9857</th>\n",
       "      <td>160889736</td>\n",
       "      <td>WARRANTS</td>\n",
       "      <td>ENROUTE TO OUTSIDE JURISDICTION</td>\n",
       "      <td>Tuesday</td>\n",
       "      <td>11-01-2016 0.00</td>\n",
       "      <td>10.43</td>\n",
       "      <td>SOUTHERN</td>\n",
       "      <td>ARREST, BOOKED</td>\n",
       "      <td>800 Block of BRYANT ST</td>\n",
       "      <td>-122.403405</td>\n",
       "      <td>37.775421</td>\n",
       "      <td>(37.775420706711, -122.403404791479)</td>\n",
       "      <td>1.610000e+13</td>\n",
       "    </tr>\n",
       "    <tr>\n",
       "      <th>9986</th>\n",
       "      <td>160895846</td>\n",
       "      <td>OTHER OFFENSES</td>\n",
       "      <td>FALSE PERSONATION</td>\n",
       "      <td>Monday</td>\n",
       "      <td>10/31/2016 12:00:00 AM</td>\n",
       "      <td>10.00</td>\n",
       "      <td>MISSION</td>\n",
       "      <td>NONE</td>\n",
       "      <td>100 Block of CAPP ST</td>\n",
       "      <td>-122.418550</td>\n",
       "      <td>37.764284</td>\n",
       "      <td>(37.7642837095036, -122.418549940195)</td>\n",
       "      <td>1.610000e+13</td>\n",
       "    </tr>\n",
       "    <tr>\n",
       "      <th>9859</th>\n",
       "      <td>160889764</td>\n",
       "      <td>OTHER OFFENSES</td>\n",
       "      <td>LOST/STOLEN LICENSE PLATE</td>\n",
       "      <td>Monday</td>\n",
       "      <td>10/31/2016 12:00:00 AM</td>\n",
       "      <td>17.30</td>\n",
       "      <td>MISSION</td>\n",
       "      <td>NONE</td>\n",
       "      <td>SOUTH VAN NESS AV / 26TH ST</td>\n",
       "      <td>-122.415954</td>\n",
       "      <td>37.749173</td>\n",
       "      <td>(37.7491729638325, -122.415954301518)</td>\n",
       "      <td>1.610000e+13</td>\n",
       "    </tr>\n",
       "    <tr>\n",
       "      <th>9826</th>\n",
       "      <td>160887677</td>\n",
       "      <td>ASSAULT</td>\n",
       "      <td>BATTERY</td>\n",
       "      <td>Monday</td>\n",
       "      <td>10/31/2016 12:00:00 AM</td>\n",
       "      <td>16.48</td>\n",
       "      <td>TENDERLOIN</td>\n",
       "      <td>NONE</td>\n",
       "      <td>100 Block of HYDE ST</td>\n",
       "      <td>-122.415670</td>\n",
       "      <td>37.782120</td>\n",
       "      <td>(37.7821198488931, -122.415669661443)</td>\n",
       "      <td>1.610000e+13</td>\n",
       "    </tr>\n",
       "    <tr>\n",
       "      <th>9727</th>\n",
       "      <td>160884689</td>\n",
       "      <td>VEHICLE THEFT</td>\n",
       "      <td>STOLEN TRUCK</td>\n",
       "      <td>Sunday</td>\n",
       "      <td>10/30/2016 12:00:00 AM</td>\n",
       "      <td>13.20</td>\n",
       "      <td>INGLESIDE</td>\n",
       "      <td>NONE</td>\n",
       "      <td>100 Block of OCEAN AV</td>\n",
       "      <td>-122.439345</td>\n",
       "      <td>37.723624</td>\n",
       "      <td>(37.723624467748, -122.43934468789)</td>\n",
       "      <td>1.610000e+13</td>\n",
       "    </tr>\n",
       "    <tr>\n",
       "      <th>9715</th>\n",
       "      <td>160883766</td>\n",
       "      <td>WEAPON LAWS</td>\n",
       "      <td>EXHIBITING DEADLY WEAPON IN A THREATING MANNER</td>\n",
       "      <td>Sunday</td>\n",
       "      <td>10/30/2016 12:00:00 AM</td>\n",
       "      <td>11.17</td>\n",
       "      <td>BAYVIEW</td>\n",
       "      <td>ARREST, BOOKED</td>\n",
       "      <td>3800 Block of 3RD ST</td>\n",
       "      <td>-122.387940</td>\n",
       "      <td>37.742260</td>\n",
       "      <td>(37.7422600519555, -122.387939452192)</td>\n",
       "      <td>1.610000e+13</td>\n",
       "    </tr>\n",
       "    <tr>\n",
       "      <th>9710</th>\n",
       "      <td>160883249</td>\n",
       "      <td>VANDALISM</td>\n",
       "      <td>MALICIOUS MISCHIEF, VANDALISM OF VEHICLES</td>\n",
       "      <td>Sunday</td>\n",
       "      <td>10/30/2016 12:00:00 AM</td>\n",
       "      <td>3.08</td>\n",
       "      <td>CENTRAL</td>\n",
       "      <td>ARREST, BOOKED</td>\n",
       "      <td>0 Block of BROADWAY ST</td>\n",
       "      <td>-122.399296</td>\n",
       "      <td>37.798859</td>\n",
       "      <td>(37.798859198392, -122.399295690795)</td>\n",
       "      <td>1.610000e+13</td>\n",
       "    </tr>\n",
       "    <tr>\n",
       "      <th>9714</th>\n",
       "      <td>160883750</td>\n",
       "      <td>BURGLARY</td>\n",
       "      <td>BURGLARY OF STORE, FORCIBLE ENTRY</td>\n",
       "      <td>Saturday</td>\n",
       "      <td>10/29/2016 12:00:00 AM</td>\n",
       "      <td>19.00</td>\n",
       "      <td>CENTRAL</td>\n",
       "      <td>NONE</td>\n",
       "      <td>200 Block of GRANT AV</td>\n",
       "      <td>-122.405185</td>\n",
       "      <td>37.788876</td>\n",
       "      <td>(37.7888762183538, -122.405184569667)</td>\n",
       "      <td>1.610000e+13</td>\n",
       "    </tr>\n",
       "    <tr>\n",
       "      <th>9711</th>\n",
       "      <td>160883255</td>\n",
       "      <td>LARCENY/THEFT</td>\n",
       "      <td>GRAND THEFT FROM LOCKED AUTO</td>\n",
       "      <td>Saturday</td>\n",
       "      <td>10/29/2016 12:00:00 AM</td>\n",
       "      <td>21.50</td>\n",
       "      <td>SOUTHERN</td>\n",
       "      <td>NONE</td>\n",
       "      <td>600 Block of MINNA ST</td>\n",
       "      <td>-122.411206</td>\n",
       "      <td>37.778224</td>\n",
       "      <td>(37.7782244806331, -122.411205728723)</td>\n",
       "      <td>1.610000e+13</td>\n",
       "    </tr>\n",
       "    <tr>\n",
       "      <th>9644</th>\n",
       "      <td>160880427</td>\n",
       "      <td>OTHER OFFENSES</td>\n",
       "      <td>RESISTING ARREST</td>\n",
       "      <td>Saturday</td>\n",
       "      <td>10/29/2016 12:00:00 AM</td>\n",
       "      <td>6.20</td>\n",
       "      <td>MISSION</td>\n",
       "      <td>ARREST, BOOKED</td>\n",
       "      <td>20TH ST / DOLORES ST</td>\n",
       "      <td>-122.425768</td>\n",
       "      <td>37.758226</td>\n",
       "      <td>(37.7582261992584, -122.425768246873)</td>\n",
       "      <td>1.610000e+13</td>\n",
       "    </tr>\n",
       "    <tr>\n",
       "      <th>9645</th>\n",
       "      <td>160880427</td>\n",
       "      <td>VANDALISM</td>\n",
       "      <td>MALICIOUS MISCHIEF, GRAFFITI</td>\n",
       "      <td>Saturday</td>\n",
       "      <td>10/29/2016 12:00:00 AM</td>\n",
       "      <td>6.20</td>\n",
       "      <td>MISSION</td>\n",
       "      <td>ARREST, BOOKED</td>\n",
       "      <td>20TH ST / DOLORES ST</td>\n",
       "      <td>-122.425768</td>\n",
       "      <td>37.758226</td>\n",
       "      <td>(37.7582261992584, -122.425768246873)</td>\n",
       "      <td>1.610000e+13</td>\n",
       "    </tr>\n",
       "    <tr>\n",
       "      <th>9611</th>\n",
       "      <td>160877424</td>\n",
       "      <td>VANDALISM</td>\n",
       "      <td>MALICIOUS MISCHIEF, VANDALISM OF VEHICLES</td>\n",
       "      <td>Friday</td>\n",
       "      <td>10/28/2016 12:00:00 AM</td>\n",
       "      <td>5.30</td>\n",
       "      <td>NORTHERN</td>\n",
       "      <td>NONE</td>\n",
       "      <td>0 Block of DANIELBURNHAM CT</td>\n",
       "      <td>-122.422541</td>\n",
       "      <td>37.786909</td>\n",
       "      <td>(37.7869088658022, -122.422540554174)</td>\n",
       "      <td>1.610000e+13</td>\n",
       "    </tr>\n",
       "    <tr>\n",
       "      <th>9603</th>\n",
       "      <td>160876642</td>\n",
       "      <td>ASSAULT</td>\n",
       "      <td>BATTERY</td>\n",
       "      <td>Thursday</td>\n",
       "      <td>10/27/2016 12:00:00 AM</td>\n",
       "      <td>20.55</td>\n",
       "      <td>MISSION</td>\n",
       "      <td>ARREST, BOOKED</td>\n",
       "      <td>2000 Block of MISSION ST</td>\n",
       "      <td>-122.419658</td>\n",
       "      <td>37.764221</td>\n",
       "      <td>(37.7642205603745, -122.41965834371)</td>\n",
       "      <td>1.610000e+13</td>\n",
       "    </tr>\n",
       "  </tbody>\n",
       "</table>\n",
       "</div>"
      ],
      "text/plain": [
       "      IncidntNum        Category  \\\n",
       "2467   150273337        WARRANTS   \n",
       "115    150480366   VEHICLE THEFT   \n",
       "116    150480366     DRUNKENNESS   \n",
       "117    150480366       VANDALISM   \n",
       "118    150480366       VANDALISM   \n",
       "5332   160220970           FRAUD   \n",
       "9554   160939676         ASSAULT   \n",
       "9964   160893652    NON-CRIMINAL   \n",
       "9963   160893464     WEAPON LAWS   \n",
       "9962   160893395         ASSAULT   \n",
       "9953   160892842  SUSPICIOUS OCC   \n",
       "9951   160892820         ASSAULT   \n",
       "9950   160892814  OTHER OFFENSES   \n",
       "9945   160892591         ASSAULT   \n",
       "9944   160892585       VANDALISM   \n",
       "9933   160891662         ASSAULT   \n",
       "9860   160889786        BURGLARY   \n",
       "9857   160889736        WARRANTS   \n",
       "9986   160895846  OTHER OFFENSES   \n",
       "9859   160889764  OTHER OFFENSES   \n",
       "9826   160887677         ASSAULT   \n",
       "9727   160884689   VEHICLE THEFT   \n",
       "9715   160883766     WEAPON LAWS   \n",
       "9710   160883249       VANDALISM   \n",
       "9714   160883750        BURGLARY   \n",
       "9711   160883255   LARCENY/THEFT   \n",
       "9644   160880427  OTHER OFFENSES   \n",
       "9645   160880427       VANDALISM   \n",
       "9611   160877424       VANDALISM   \n",
       "9603   160876642         ASSAULT   \n",
       "\n",
       "                                             Descript  DayOfWeek  \\\n",
       "2467                                   WARRANT ARREST  Wednesday   \n",
       "115                      STOLEN AND RECOVERED VEHICLE   Thursday   \n",
       "116      UNDER INFLUENCE OF ALCOHOL IN A PUBLIC PLACE   Thursday   \n",
       "117                     MALICIOUS MISCHIEF, VANDALISM   Thursday   \n",
       "118         MALICIOUS MISCHIEF, VANDALISM OF VEHICLES   Thursday   \n",
       "5332                     CREDIT CARD, THEFT BY USE OF     Friday   \n",
       "9554                                          BATTERY     Monday   \n",
       "9964                         CIVIL SIDEWALKS, WARNING  Wednesday   \n",
       "9963                      CARRYING A CONCEALED WEAPON  Wednesday   \n",
       "9962                                          BATTERY  Wednesday   \n",
       "9953                            SUSPICIOUS OCCURRENCE  Wednesday   \n",
       "9951                             THREATS AGAINST LIFE  Wednesday   \n",
       "9950            DRIVERS LICENSE, SUSPENDED OR REVOKED  Wednesday   \n",
       "9945                             THREATS AGAINST LIFE  Wednesday   \n",
       "9944        MALICIOUS MISCHIEF, VANDALISM OF VEHICLES  Wednesday   \n",
       "9933                               FALSE IMPRISONMENT    Tuesday   \n",
       "9860  BURGLARY OF RESIDENCE, ATTEMPTED FORCIBLE ENTRY    Tuesday   \n",
       "9857                  ENROUTE TO OUTSIDE JURISDICTION    Tuesday   \n",
       "9986                                FALSE PERSONATION     Monday   \n",
       "9859                        LOST/STOLEN LICENSE PLATE     Monday   \n",
       "9826                                          BATTERY     Monday   \n",
       "9727                                     STOLEN TRUCK     Sunday   \n",
       "9715   EXHIBITING DEADLY WEAPON IN A THREATING MANNER     Sunday   \n",
       "9710        MALICIOUS MISCHIEF, VANDALISM OF VEHICLES     Sunday   \n",
       "9714                BURGLARY OF STORE, FORCIBLE ENTRY   Saturday   \n",
       "9711                     GRAND THEFT FROM LOCKED AUTO   Saturday   \n",
       "9644                                 RESISTING ARREST   Saturday   \n",
       "9645                     MALICIOUS MISCHIEF, GRAFFITI   Saturday   \n",
       "9611        MALICIOUS MISCHIEF, VANDALISM OF VEHICLES     Friday   \n",
       "9603                                          BATTERY   Thursday   \n",
       "\n",
       "                        Date   Time  PdDistrict      Resolution  \\\n",
       "2467  12/21/2016 12:00:00 AM  18.17  TENDERLOIN  ARREST, BOOKED   \n",
       "115          12-08-2016 0.00  15.00    NORTHERN  ARREST, BOOKED   \n",
       "116          12-08-2016 0.00  15.00    NORTHERN  ARREST, BOOKED   \n",
       "117          12-08-2016 0.00  15.00    NORTHERN  ARREST, BOOKED   \n",
       "118          12-08-2016 0.00  15.00    NORTHERN  ARREST, BOOKED   \n",
       "5332  11/18/2016 12:00:00 AM  12.00     BAYVIEW            NONE   \n",
       "9554  11/14/2016 12:00:00 AM   9.20    NORTHERN            NONE   \n",
       "9964         11-02-2016 0.00  18.02     MISSION            NONE   \n",
       "9963         11-02-2016 0.00  16.42     BAYVIEW            NONE   \n",
       "9962         11-02-2016 0.00  16.15     TARAVAL            NONE   \n",
       "9953         11-02-2016 0.00  10.00     MISSION            NONE   \n",
       "9951         11-02-2016 0.00  11.45        PARK            NONE   \n",
       "9950         11-02-2016 0.00  12.10     BAYVIEW  ARREST, BOOKED   \n",
       "9945         11-02-2016 0.00  10.19     BAYVIEW            NONE   \n",
       "9944         11-02-2016 0.00  10.38    NORTHERN  ARREST, BOOKED   \n",
       "9933         11-01-2016 0.00  22.30   INGLESIDE  ARREST, BOOKED   \n",
       "9860         11-01-2016 0.00   2.54     MISSION            NONE   \n",
       "9857         11-01-2016 0.00  10.43    SOUTHERN  ARREST, BOOKED   \n",
       "9986  10/31/2016 12:00:00 AM  10.00     MISSION            NONE   \n",
       "9859  10/31/2016 12:00:00 AM  17.30     MISSION            NONE   \n",
       "9826  10/31/2016 12:00:00 AM  16.48  TENDERLOIN            NONE   \n",
       "9727  10/30/2016 12:00:00 AM  13.20   INGLESIDE            NONE   \n",
       "9715  10/30/2016 12:00:00 AM  11.17     BAYVIEW  ARREST, BOOKED   \n",
       "9710  10/30/2016 12:00:00 AM   3.08     CENTRAL  ARREST, BOOKED   \n",
       "9714  10/29/2016 12:00:00 AM  19.00     CENTRAL            NONE   \n",
       "9711  10/29/2016 12:00:00 AM  21.50    SOUTHERN            NONE   \n",
       "9644  10/29/2016 12:00:00 AM   6.20     MISSION  ARREST, BOOKED   \n",
       "9645  10/29/2016 12:00:00 AM   6.20     MISSION  ARREST, BOOKED   \n",
       "9611  10/28/2016 12:00:00 AM   5.30    NORTHERN            NONE   \n",
       "9603  10/27/2016 12:00:00 AM  20.55     MISSION  ARREST, BOOKED   \n",
       "\n",
       "                          Address           X          Y  \\\n",
       "2467        300 Block of JONES ST -122.412759  37.784400   \n",
       "115             PINE ST / POLK ST -122.420497  37.789619   \n",
       "116             PINE ST / POLK ST -122.420497  37.789619   \n",
       "117             PINE ST / POLK ST -122.420497  37.789619   \n",
       "118             PINE ST / POLK ST -122.420497  37.789619   \n",
       "5332      1200 Block of DEHARO ST -122.400632  37.753965   \n",
       "9554           ELLIS ST / POLK ST -122.419366  37.784028   \n",
       "9964        21ST ST / SHOTWELL ST -122.415629  37.757232   \n",
       "9963        1100 Block of 18TH ST -122.394108  37.762671   \n",
       "9962   MONTEREY BL / NORTHGATE DR -122.461737  37.730023   \n",
       "9953         200 Block of 14TH ST -122.418885  37.768285   \n",
       "9951       STANYAN ST / WALLER ST -122.453355  37.768246   \n",
       "9950          QUESADA AV / 3RD ST -122.391246  37.733225   \n",
       "9945       0 Block of CASHMERE ST -122.382705  37.735886   \n",
       "9944        100 Block of GROVE ST -122.419064  37.778327   \n",
       "9933        MISSION ST / OCEAN AV -122.435385  37.723910   \n",
       "9860        4000 Block of 19TH ST -122.433209  37.759334   \n",
       "9857       800 Block of BRYANT ST -122.403405  37.775421   \n",
       "9986         100 Block of CAPP ST -122.418550  37.764284   \n",
       "9859  SOUTH VAN NESS AV / 26TH ST -122.415954  37.749173   \n",
       "9826         100 Block of HYDE ST -122.415670  37.782120   \n",
       "9727        100 Block of OCEAN AV -122.439345  37.723624   \n",
       "9715         3800 Block of 3RD ST -122.387940  37.742260   \n",
       "9710       0 Block of BROADWAY ST -122.399296  37.798859   \n",
       "9714        200 Block of GRANT AV -122.405185  37.788876   \n",
       "9711        600 Block of MINNA ST -122.411206  37.778224   \n",
       "9644         20TH ST / DOLORES ST -122.425768  37.758226   \n",
       "9645         20TH ST / DOLORES ST -122.425768  37.758226   \n",
       "9611  0 Block of DANIELBURNHAM CT -122.422541  37.786909   \n",
       "9603     2000 Block of MISSION ST -122.419658  37.764221   \n",
       "\n",
       "                                   Location          PdId  \n",
       "2467  (37.7843997500192, -122.412758846145)  1.500000e+13  \n",
       "115     (37.789618819255, -122.42049728879)  1.500000e+13  \n",
       "116     (37.789618819255, -122.42049728879)  1.500000e+13  \n",
       "117     (37.789618819255, -122.42049728879)  1.500000e+13  \n",
       "118     (37.789618819255, -122.42049728879)  1.500000e+13  \n",
       "5332    (37.7539653995399, -122.4006319548)  1.600000e+13  \n",
       "9554  (37.7840280452032, -122.419366294797)  1.610000e+13  \n",
       "9964   (37.757232227914, -122.415629332446)  1.610000e+13  \n",
       "9963  (37.7626705352496, -122.394108177688)  1.610000e+13  \n",
       "9962  (37.7300233378439, -122.461736679015)  1.610000e+13  \n",
       "9953  (37.7682847825555, -122.418885184858)  1.610000e+13  \n",
       "9951  (37.7682463076665, -122.453354647469)  1.610000e+13  \n",
       "9950  (37.7332252032804, -122.391245623019)  1.610000e+13  \n",
       "9945  (37.7358858148594, -122.382705072801)  1.610000e+13  \n",
       "9944  (37.7783268674219, -122.419063862505)  1.610000e+13  \n",
       "9933  (37.7239104470753, -122.435385454946)  1.610000e+13  \n",
       "9860  (37.7593336636293, -122.433208516014)  1.610000e+13  \n",
       "9857   (37.775420706711, -122.403404791479)  1.610000e+13  \n",
       "9986  (37.7642837095036, -122.418549940195)  1.610000e+13  \n",
       "9859  (37.7491729638325, -122.415954301518)  1.610000e+13  \n",
       "9826  (37.7821198488931, -122.415669661443)  1.610000e+13  \n",
       "9727    (37.723624467748, -122.43934468789)  1.610000e+13  \n",
       "9715  (37.7422600519555, -122.387939452192)  1.610000e+13  \n",
       "9710   (37.798859198392, -122.399295690795)  1.610000e+13  \n",
       "9714  (37.7888762183538, -122.405184569667)  1.610000e+13  \n",
       "9711  (37.7782244806331, -122.411205728723)  1.610000e+13  \n",
       "9644  (37.7582261992584, -122.425768246873)  1.610000e+13  \n",
       "9645  (37.7582261992584, -122.425768246873)  1.610000e+13  \n",
       "9611  (37.7869088658022, -122.422540554174)  1.610000e+13  \n",
       "9603   (37.7642205603745, -122.41965834371)  1.610000e+13  "
      ]
     },
     "execution_count": 66,
     "metadata": {},
     "output_type": "execute_result"
    }
   ],
   "source": [
    "df.sort_values(by=['Date','IncidntNum'],ascending=False, inplace=True)\n",
    "df.head(30)"
   ]
  },
  {
   "cell_type": "code",
   "execution_count": 67,
   "metadata": {},
   "outputs": [
    {
     "data": {
      "text/plain": [
       "LARCENY/THEFT                  1566\n",
       "OTHER OFFENSES                 1476\n",
       "NON-CRIMINAL                   1242\n",
       "ASSAULT                        1075\n",
       "WARRANTS                        555\n",
       "VEHICLE THEFT                   529\n",
       "VANDALISM                       475\n",
       "BURGLARY                        458\n",
       "SUSPICIOUS OCC                  443\n",
       "DRUG/NARCOTIC                   396\n",
       "MISSING PERSON                  364\n",
       "ROBBERY                         268\n",
       "FRAUD                           188\n",
       "SECONDARY CODES                 146\n",
       "TRESPASS                        146\n",
       "WEAPON LAWS                     141\n",
       "RECOVERED VEHICLE                77\n",
       "SEX OFFENSES, FORCIBLE           74\n",
       "PROSTITUTION                     59\n",
       "STOLEN PROPERTY                  55\n",
       "DRUNKENNESS                      51\n",
       "FORGERY/COUNTERFEITING           48\n",
       "DISORDERLY CONDUCT               45\n",
       "DRIVING UNDER THE INFLUENCE      32\n",
       "ARSON                            28\n",
       "KIDNAPPING                       22\n",
       "RUNAWAY                          13\n",
       "BRIBERY                          13\n",
       "LIQUOR LAWS                       9\n",
       "SUICIDE                           6\n",
       "EXTORTION                         5\n",
       "EMBEZZLEMENT                      5\n",
       "FAMILY OFFENSES                   4\n",
       "LOITERING                         2\n",
       "SEX OFFENSES, NON FORCIBLE        2\n",
       "GAMBLING                          1\n",
       "Name: Category, dtype: int64"
      ]
     },
     "execution_count": 67,
     "metadata": {},
     "output_type": "execute_result"
    }
   ],
   "source": [
    "df.Category.value_counts()"
   ]
  },
  {
   "cell_type": "code",
   "execution_count": 68,
   "metadata": {},
   "outputs": [
    {
     "data": {
      "text/html": [
       "<div>\n",
       "<style scoped>\n",
       "    .dataframe tbody tr th:only-of-type {\n",
       "        vertical-align: middle;\n",
       "    }\n",
       "\n",
       "    .dataframe tbody tr th {\n",
       "        vertical-align: top;\n",
       "    }\n",
       "\n",
       "    .dataframe thead th {\n",
       "        text-align: right;\n",
       "    }\n",
       "</style>\n",
       "<table border=\"1\" class=\"dataframe\">\n",
       "  <thead>\n",
       "    <tr style=\"text-align: right;\">\n",
       "      <th></th>\n",
       "      <th>Category</th>\n",
       "      <th>Case Count</th>\n",
       "    </tr>\n",
       "  </thead>\n",
       "  <tbody>\n",
       "    <tr>\n",
       "      <th>0</th>\n",
       "      <td>LARCENY/THEFT</td>\n",
       "      <td>1566</td>\n",
       "    </tr>\n",
       "    <tr>\n",
       "      <th>1</th>\n",
       "      <td>OTHER OFFENSES</td>\n",
       "      <td>1476</td>\n",
       "    </tr>\n",
       "    <tr>\n",
       "      <th>2</th>\n",
       "      <td>NON-CRIMINAL</td>\n",
       "      <td>1242</td>\n",
       "    </tr>\n",
       "    <tr>\n",
       "      <th>3</th>\n",
       "      <td>ASSAULT</td>\n",
       "      <td>1075</td>\n",
       "    </tr>\n",
       "    <tr>\n",
       "      <th>4</th>\n",
       "      <td>WARRANTS</td>\n",
       "      <td>555</td>\n",
       "    </tr>\n",
       "    <tr>\n",
       "      <th>5</th>\n",
       "      <td>VEHICLE THEFT</td>\n",
       "      <td>529</td>\n",
       "    </tr>\n",
       "    <tr>\n",
       "      <th>6</th>\n",
       "      <td>VANDALISM</td>\n",
       "      <td>475</td>\n",
       "    </tr>\n",
       "    <tr>\n",
       "      <th>7</th>\n",
       "      <td>BURGLARY</td>\n",
       "      <td>458</td>\n",
       "    </tr>\n",
       "    <tr>\n",
       "      <th>8</th>\n",
       "      <td>SUSPICIOUS OCC</td>\n",
       "      <td>443</td>\n",
       "    </tr>\n",
       "    <tr>\n",
       "      <th>9</th>\n",
       "      <td>DRUG/NARCOTIC</td>\n",
       "      <td>396</td>\n",
       "    </tr>\n",
       "    <tr>\n",
       "      <th>10</th>\n",
       "      <td>MISSING PERSON</td>\n",
       "      <td>364</td>\n",
       "    </tr>\n",
       "    <tr>\n",
       "      <th>11</th>\n",
       "      <td>ROBBERY</td>\n",
       "      <td>268</td>\n",
       "    </tr>\n",
       "    <tr>\n",
       "      <th>12</th>\n",
       "      <td>FRAUD</td>\n",
       "      <td>188</td>\n",
       "    </tr>\n",
       "    <tr>\n",
       "      <th>13</th>\n",
       "      <td>SECONDARY CODES</td>\n",
       "      <td>146</td>\n",
       "    </tr>\n",
       "    <tr>\n",
       "      <th>14</th>\n",
       "      <td>TRESPASS</td>\n",
       "      <td>146</td>\n",
       "    </tr>\n",
       "    <tr>\n",
       "      <th>15</th>\n",
       "      <td>WEAPON LAWS</td>\n",
       "      <td>141</td>\n",
       "    </tr>\n",
       "    <tr>\n",
       "      <th>16</th>\n",
       "      <td>RECOVERED VEHICLE</td>\n",
       "      <td>77</td>\n",
       "    </tr>\n",
       "    <tr>\n",
       "      <th>17</th>\n",
       "      <td>SEX OFFENSES, FORCIBLE</td>\n",
       "      <td>74</td>\n",
       "    </tr>\n",
       "    <tr>\n",
       "      <th>18</th>\n",
       "      <td>PROSTITUTION</td>\n",
       "      <td>59</td>\n",
       "    </tr>\n",
       "    <tr>\n",
       "      <th>19</th>\n",
       "      <td>STOLEN PROPERTY</td>\n",
       "      <td>55</td>\n",
       "    </tr>\n",
       "    <tr>\n",
       "      <th>20</th>\n",
       "      <td>DRUNKENNESS</td>\n",
       "      <td>51</td>\n",
       "    </tr>\n",
       "    <tr>\n",
       "      <th>21</th>\n",
       "      <td>FORGERY/COUNTERFEITING</td>\n",
       "      <td>48</td>\n",
       "    </tr>\n",
       "    <tr>\n",
       "      <th>22</th>\n",
       "      <td>DISORDERLY CONDUCT</td>\n",
       "      <td>45</td>\n",
       "    </tr>\n",
       "    <tr>\n",
       "      <th>23</th>\n",
       "      <td>DRIVING UNDER THE INFLUENCE</td>\n",
       "      <td>32</td>\n",
       "    </tr>\n",
       "    <tr>\n",
       "      <th>24</th>\n",
       "      <td>ARSON</td>\n",
       "      <td>28</td>\n",
       "    </tr>\n",
       "    <tr>\n",
       "      <th>25</th>\n",
       "      <td>KIDNAPPING</td>\n",
       "      <td>22</td>\n",
       "    </tr>\n",
       "    <tr>\n",
       "      <th>26</th>\n",
       "      <td>RUNAWAY</td>\n",
       "      <td>13</td>\n",
       "    </tr>\n",
       "    <tr>\n",
       "      <th>27</th>\n",
       "      <td>BRIBERY</td>\n",
       "      <td>13</td>\n",
       "    </tr>\n",
       "    <tr>\n",
       "      <th>28</th>\n",
       "      <td>LIQUOR LAWS</td>\n",
       "      <td>9</td>\n",
       "    </tr>\n",
       "    <tr>\n",
       "      <th>29</th>\n",
       "      <td>SUICIDE</td>\n",
       "      <td>6</td>\n",
       "    </tr>\n",
       "    <tr>\n",
       "      <th>30</th>\n",
       "      <td>EXTORTION</td>\n",
       "      <td>5</td>\n",
       "    </tr>\n",
       "    <tr>\n",
       "      <th>31</th>\n",
       "      <td>EMBEZZLEMENT</td>\n",
       "      <td>5</td>\n",
       "    </tr>\n",
       "    <tr>\n",
       "      <th>32</th>\n",
       "      <td>FAMILY OFFENSES</td>\n",
       "      <td>4</td>\n",
       "    </tr>\n",
       "    <tr>\n",
       "      <th>33</th>\n",
       "      <td>LOITERING</td>\n",
       "      <td>2</td>\n",
       "    </tr>\n",
       "    <tr>\n",
       "      <th>34</th>\n",
       "      <td>SEX OFFENSES, NON FORCIBLE</td>\n",
       "      <td>2</td>\n",
       "    </tr>\n",
       "    <tr>\n",
       "      <th>35</th>\n",
       "      <td>GAMBLING</td>\n",
       "      <td>1</td>\n",
       "    </tr>\n",
       "  </tbody>\n",
       "</table>\n",
       "</div>"
      ],
      "text/plain": [
       "                       Category  Case Count\n",
       "0                 LARCENY/THEFT        1566\n",
       "1                OTHER OFFENSES        1476\n",
       "2                  NON-CRIMINAL        1242\n",
       "3                       ASSAULT        1075\n",
       "4                      WARRANTS         555\n",
       "5                 VEHICLE THEFT         529\n",
       "6                     VANDALISM         475\n",
       "7                      BURGLARY         458\n",
       "8                SUSPICIOUS OCC         443\n",
       "9                 DRUG/NARCOTIC         396\n",
       "10               MISSING PERSON         364\n",
       "11                      ROBBERY         268\n",
       "12                        FRAUD         188\n",
       "13              SECONDARY CODES         146\n",
       "14                     TRESPASS         146\n",
       "15                  WEAPON LAWS         141\n",
       "16            RECOVERED VEHICLE          77\n",
       "17       SEX OFFENSES, FORCIBLE          74\n",
       "18                 PROSTITUTION          59\n",
       "19              STOLEN PROPERTY          55\n",
       "20                  DRUNKENNESS          51\n",
       "21       FORGERY/COUNTERFEITING          48\n",
       "22           DISORDERLY CONDUCT          45\n",
       "23  DRIVING UNDER THE INFLUENCE          32\n",
       "24                        ARSON          28\n",
       "25                   KIDNAPPING          22\n",
       "26                      RUNAWAY          13\n",
       "27                      BRIBERY          13\n",
       "28                  LIQUOR LAWS           9\n",
       "29                      SUICIDE           6\n",
       "30                    EXTORTION           5\n",
       "31                 EMBEZZLEMENT           5\n",
       "32              FAMILY OFFENSES           4\n",
       "33                    LOITERING           2\n",
       "34   SEX OFFENSES, NON FORCIBLE           2\n",
       "35                     GAMBLING           1"
      ]
     },
     "execution_count": 68,
     "metadata": {},
     "output_type": "execute_result"
    }
   ],
   "source": [
    "category_count = df.Category.value_counts().reset_index()  \n",
    "category_count.columns=['Category','Case Count']\n",
    "category_count"
   ]
  },
  {
   "cell_type": "code",
   "execution_count": 69,
   "metadata": {},
   "outputs": [
    {
     "data": {
      "text/plain": [
       "<AxesSubplot: ylabel='Case Count'>"
      ]
     },
     "execution_count": 69,
     "metadata": {},
     "output_type": "execute_result"
    },
    {
     "data": {
      "image/png": "[encoded data removed]",
      "text/plain": [
       "<Figure size 640x480 with 1 Axes>"
      ]
     },
     "metadata": {},
     "output_type": "display_data"
    }
   ],
   "source": [
    "category_count['Case Count'].head().plot.pie(autopct='%1.f%%')      # displays 5 top"
   ]
  },
  {
   "cell_type": "code",
   "execution_count": 70,
   "metadata": {},
   "outputs": [
    {
     "data": {
      "text/plain": [
       "<AxesSubplot: ylabel='Case Count'>"
      ]
     },
     "execution_count": 70,
     "metadata": {},
     "output_type": "execute_result"
    },
    {
     "data": {
      "image/png": "[encoded data removed]",
      "text/plain": [
       "<Figure size 640x480 with 1 Axes>"
      ]
     },
     "metadata": {},
     "output_type": "display_data"
    }
   ],
   "source": [
    "category_count['Case Count'].plot.pie(autopct='%1.f%%')"
   ]
  },
  {
   "cell_type": "code",
   "execution_count": 71,
   "metadata": {},
   "outputs": [
    {
     "data": {
      "application/vnd.plotly.v1+json": {
       "config": {
        "plotlyServerURL": "https://plot.ly"
       },
       "data": [
        {
         "domain": {
          "x": [
           0,
           1
          ],
          "y": [
           0,
           1
          ]
         },
         "hovertemplate": "Category=%{label}<br>Case Count=%{value}<extra></extra>",
         "labels": [
          "LARCENY/THEFT",
          "OTHER OFFENSES",
          "NON-CRIMINAL",
          "ASSAULT",
          "WARRANTS",
          "VEHICLE THEFT",
          "VANDALISM",
          "BURGLARY",
          "SUSPICIOUS OCC",
          "DRUG/NARCOTIC"
         ],
         "legendgroup": "",
         "name": "",
         "showlegend": true,
         "type": "pie",
         "values": [
          1566,
          1476,
          1242,
          1075,
          555,
          529,
          475,
          458,
          443,
          396
         ]
        }
       ],
       "layout": {
        "legend": {
         "tracegroupgap": 0
        },
        "margin": {
         "t": 60
        },
        "template": {
         "data": {
          "bar": [
           {
            "error_x": {
             "color": "#2a3f5f"
            },
            "error_y": {
             "color": "#2a3f5f"
            },
            "marker": {
             "line": {
              "color": "#E5ECF6",
              "width": 0.5
             },
             "pattern": {
              "fillmode": "overlay",
              "size": 10,
              "solidity": 0.2
             }
            },
            "type": "bar"
           }
          ],
          "barpolar": [
           {
            "marker": {
             "line": {
              "color": "#E5ECF6",
              "width": 0.5
             },
             "pattern": {
              "fillmode": "overlay",
              "size": 10,
              "solidity": 0.2
             }
            },
            "type": "barpolar"
           }
          ],
          "carpet": [
           {
            "aaxis": {
             "endlinecolor": "#2a3f5f",
             "gridcolor": "white",
             "linecolor": "white",
             "minorgridcolor": "white",
             "startlinecolor": "#2a3f5f"
            },
            "baxis": {
             "endlinecolor": "#2a3f5f",
             "gridcolor": "white",
             "linecolor": "white",
             "minorgridcolor": "white",
             "startlinecolor": "#2a3f5f"
            },
            "type": "carpet"
           }
          ],
          "choropleth": [
           {
            "colorbar": {
             "outlinewidth": 0,
             "ticks": ""
            },
            "type": "choropleth"
           }
          ],
          "contour": [
           {
            "colorbar": {
             "outlinewidth": 0,
             "ticks": ""
            },
            "colorscale": [
             [
              0,
              "#0d0887"
             ],
             [
              0.1111111111111111,
              "#46039f"
             ],
             [
              0.2222222222222222,
              "#7201a8"
             ],
             [
              0.3333333333333333,
              "#9c179e"
             ],
             [
              0.4444444444444444,
              "#bd3786"
             ],
             [
              0.5555555555555556,
              "#d8576b"
             ],
             [
              0.6666666666666666,
              "#ed7953"
             ],
             [
              0.7777777777777778,
              "#fb9f3a"
             ],
             [
              0.8888888888888888,
              "#fdca26"
             ],
             [
              1,
              "#f0f921"
             ]
            ],
            "type": "contour"
           }
          ],
          "contourcarpet": [
           {
            "colorbar": {
             "outlinewidth": 0,
             "ticks": ""
            },
            "type": "contourcarpet"
           }
          ],
          "heatmap": [
           {
            "colorbar": {
             "outlinewidth": 0,
             "ticks": ""
            },
            "colorscale": [
             [
              0,
              "#0d0887"
             ],
             [
              0.1111111111111111,
              "#46039f"
             ],
             [
              0.2222222222222222,
              "#7201a8"
             ],
             [
              0.3333333333333333,
              "#9c179e"
             ],
             [
              0.4444444444444444,
              "#bd3786"
             ],
             [
              0.5555555555555556,
              "#d8576b"
             ],
             [
              0.6666666666666666,
              "#ed7953"
             ],
             [
              0.7777777777777778,
              "#fb9f3a"
             ],
             [
              0.8888888888888888,
              "#fdca26"
             ],
             [
              1,
              "#f0f921"
             ]
            ],
            "type": "heatmap"
           }
          ],
          "heatmapgl": [
           {
            "colorbar": {
             "outlinewidth": 0,
             "ticks": ""
            },
            "colorscale": [
             [
              0,
              "#0d0887"
             ],
             [
              0.1111111111111111,
              "#46039f"
             ],
             [
              0.2222222222222222,
              "#7201a8"
             ],
             [
              0.3333333333333333,
              "#9c179e"
             ],
             [
              0.4444444444444444,
              "#bd3786"
             ],
             [
              0.5555555555555556,
              "#d8576b"
             ],
             [
              0.6666666666666666,
              "#ed7953"
             ],
             [
              0.7777777777777778,
              "#fb9f3a"
             ],
             [
              0.8888888888888888,
              "#fdca26"
             ],
             [
              1,
              "#f0f921"
             ]
            ],
            "type": "heatmapgl"
           }
          ],
          "histogram": [
           {
            "marker": {
             "pattern": {
              "fillmode": "overlay",
              "size": 10,
              "solidity": 0.2
             }
            },
            "type": "histogram"
           }
          ],
          "histogram2d": [
           {
            "colorbar": {
             "outlinewidth": 0,
             "ticks": ""
            },
            "colorscale": [
             [
              0,
              "#0d0887"
             ],
             [
              0.1111111111111111,
              "#46039f"
             ],
             [
              0.2222222222222222,
              "#7201a8"
             ],
             [
              0.3333333333333333,
              "#9c179e"
             ],
             [
              0.4444444444444444,
              "#bd3786"
             ],
             [
              0.5555555555555556,
              "#d8576b"
             ],
             [
              0.6666666666666666,
              "#ed7953"
             ],
             [
              0.7777777777777778,
              "#fb9f3a"
             ],
             [
              0.8888888888888888,
              "#fdca26"
             ],
             [
              1,
              "#f0f921"
             ]
            ],
            "type": "histogram2d"
           }
          ],
          "histogram2dcontour": [
           {
            "colorbar": {
             "outlinewidth": 0,
             "ticks": ""
            },
            "colorscale": [
             [
              0,
              "#0d0887"
             ],
             [
              0.1111111111111111,
              "#46039f"
             ],
             [
              0.2222222222222222,
              "#7201a8"
             ],
             [
              0.3333333333333333,
              "#9c179e"
             ],
             [
              0.4444444444444444,
              "#bd3786"
             ],
             [
              0.5555555555555556,
              "#d8576b"
             ],
             [
              0.6666666666666666,
              "#ed7953"
             ],
             [
              0.7777777777777778,
              "#fb9f3a"
             ],
             [
              0.8888888888888888,
              "#fdca26"
             ],
             [
              1,
              "#f0f921"
             ]
            ],
            "type": "histogram2dcontour"
           }
          ],
          "mesh3d": [
           {
            "colorbar": {
             "outlinewidth": 0,
             "ticks": ""
            },
            "type": "mesh3d"
           }
          ],
          "parcoords": [
           {
            "line": {
             "colorbar": {
              "outlinewidth": 0,
              "ticks": ""
             }
            },
            "type": "parcoords"
           }
          ],
          "pie": [
           {
            "automargin": true,
            "type": "pie"
           }
          ],
          "scatter": [
           {
            "fillpattern": {
             "fillmode": "overlay",
             "size": 10,
             "solidity": 0.2
            },
            "type": "scatter"
           }
          ],
          "scatter3d": [
           {
            "line": {
             "colorbar": {
              "outlinewidth": 0,
              "ticks": ""
             }
            },
            "marker": {
             "colorbar": {
              "outlinewidth": 0,
              "ticks": ""
             }
            },
            "type": "scatter3d"
           }
          ],
          "scattercarpet": [
           {
            "marker": {
             "colorbar": {
              "outlinewidth": 0,
              "ticks": ""
             }
            },
            "type": "scattercarpet"
           }
          ],
          "scattergeo": [
           {
            "marker": {
             "colorbar": {
              "outlinewidth": 0,
              "ticks": ""
             }
            },
            "type": "scattergeo"
           }
          ],
          "scattergl": [
           {
            "marker": {
             "colorbar": {
              "outlinewidth": 0,
              "ticks": ""
             }
            },
            "type": "scattergl"
           }
          ],
          "scattermapbox": [
           {
            "marker": {
             "colorbar": {
              "outlinewidth": 0,
              "ticks": ""
             }
            },
            "type": "scattermapbox"
           }
          ],
          "scatterpolar": [
           {
            "marker": {
             "colorbar": {
              "outlinewidth": 0,
              "ticks": ""
             }
            },
            "type": "scatterpolar"
           }
          ],
          "scatterpolargl": [
           {
            "marker": {
             "colorbar": {
              "outlinewidth": 0,
              "ticks": ""
             }
            },
            "type": "scatterpolargl"
           }
          ],
          "scatterternary": [
           {
            "marker": {
             "colorbar": {
              "outlinewidth": 0,
              "ticks": ""
             }
            },
            "type": "scatterternary"
           }
          ],
          "surface": [
           {
            "colorbar": {
             "outlinewidth": 0,
             "ticks": ""
            },
            "colorscale": [
             [
              0,
              "#0d0887"
             ],
             [
              0.1111111111111111,
              "#46039f"
             ],
             [
              0.2222222222222222,
              "#7201a8"
             ],
             [
              0.3333333333333333,
              "#9c179e"
             ],
             [
              0.4444444444444444,
              "#bd3786"
             ],
             [
              0.5555555555555556,
              "#d8576b"
             ],
             [
              0.6666666666666666,
              "#ed7953"
             ],
             [
              0.7777777777777778,
              "#fb9f3a"
             ],
             [
              0.8888888888888888,
              "#fdca26"
             ],
             [
              1,
              "#f0f921"
             ]
            ],
            "type": "surface"
           }
          ],
          "table": [
           {
            "cells": {
             "fill": {
              "color": "#EBF0F8"
             },
             "line": {
              "color": "white"
             }
            },
            "header": {
             "fill": {
              "color": "#C8D4E3"
             },
             "line": {
              "color": "white"
             }
            },
            "type": "table"
           }
          ]
         },
         "layout": {
          "annotationdefaults": {
           "arrowcolor": "#2a3f5f",
           "arrowhead": 0,
           "arrowwidth": 1
          },
          "autotypenumbers": "strict",
          "coloraxis": {
           "colorbar": {
            "outlinewidth": 0,
            "ticks": ""
           }
          },
          "colorscale": {
           "diverging": [
            [
             0,
             "#8e0152"
            ],
            [
             0.1,
             "#c51b7d"
            ],
            [
             0.2,
             "#de77ae"
            ],
            [
             0.3,
             "#f1b6da"
            ],
            [
             0.4,
             "#fde0ef"
            ],
            [
             0.5,
             "#f7f7f7"
            ],
            [
             0.6,
             "#e6f5d0"
            ],
            [
             0.7,
             "#b8e186"
            ],
            [
             0.8,
             "#7fbc41"
            ],
            [
             0.9,
             "#4d9221"
            ],
            [
             1,
             "#276419"
            ]
           ],
           "sequential": [
            [
             0,
             "#0d0887"
            ],
            [
             0.1111111111111111,
             "#46039f"
            ],
            [
             0.2222222222222222,
             "#7201a8"
            ],
            [
             0.3333333333333333,
             "#9c179e"
            ],
            [
             0.4444444444444444,
             "#bd3786"
            ],
            [
             0.5555555555555556,
             "#d8576b"
            ],
            [
             0.6666666666666666,
             "#ed7953"
            ],
            [
             0.7777777777777778,
             "#fb9f3a"
            ],
            [
             0.8888888888888888,
             "#fdca26"
            ],
            [
             1,
             "#f0f921"
            ]
           ],
           "sequentialminus": [
            [
             0,
             "#0d0887"
            ],
            [
             0.1111111111111111,
             "#46039f"
            ],
            [
             0.2222222222222222,
             "#7201a8"
            ],
            [
             0.3333333333333333,
             "#9c179e"
            ],
            [
             0.4444444444444444,
             "#bd3786"
            ],
            [
             0.5555555555555556,
             "#d8576b"
            ],
            [
             0.6666666666666666,
             "#ed7953"
            ],
            [
             0.7777777777777778,
             "#fb9f3a"
            ],
            [
             0.8888888888888888,
             "#fdca26"
            ],
            [
             1,
             "#f0f921"
            ]
           ]
          },
          "colorway": [
           "#636efa",
           "#EF553B",
           "#00cc96",
           "#ab63fa",
           "#FFA15A",
           "#19d3f3",
           "#FF6692",
           "#B6E880",
           "#FF97FF",
           "#FECB52"
          ],
          "font": {
           "color": "#2a3f5f"
          },
          "geo": {
           "bgcolor": "white",
           "lakecolor": "white",
           "landcolor": "#E5ECF6",
           "showlakes": true,
           "showland": true,
           "subunitcolor": "white"
          },
          "hoverlabel": {
           "align": "left"
          },
          "hovermode": "closest",
          "mapbox": {
           "style": "light"
          },
          "paper_bgcolor": "white",
          "plot_bgcolor": "#E5ECF6",
          "polar": {
           "angularaxis": {
            "gridcolor": "white",
            "linecolor": "white",
            "ticks": ""
           },
           "bgcolor": "#E5ECF6",
           "radialaxis": {
            "gridcolor": "white",
            "linecolor": "white",
            "ticks": ""
           }
          },
          "scene": {
           "xaxis": {
            "backgroundcolor": "#E5ECF6",
            "gridcolor": "white",
            "gridwidth": 2,
            "linecolor": "white",
            "showbackground": true,
            "ticks": "",
            "zerolinecolor": "white"
           },
           "yaxis": {
            "backgroundcolor": "#E5ECF6",
            "gridcolor": "white",
            "gridwidth": 2,
            "linecolor": "white",
            "showbackground": true,
            "ticks": "",
            "zerolinecolor": "white"
           },
           "zaxis": {
            "backgroundcolor": "#E5ECF6",
            "gridcolor": "white",
            "gridwidth": 2,
            "linecolor": "white",
            "showbackground": true,
            "ticks": "",
            "zerolinecolor": "white"
           }
          },
          "shapedefaults": {
           "line": {
            "color": "#2a3f5f"
           }
          },
          "ternary": {
           "aaxis": {
            "gridcolor": "white",
            "linecolor": "white",
            "ticks": ""
           },
           "baxis": {
            "gridcolor": "white",
            "linecolor": "white",
            "ticks": ""
           },
           "bgcolor": "#E5ECF6",
           "caxis": {
            "gridcolor": "white",
            "linecolor": "white",
            "ticks": ""
           }
          },
          "title": {
           "x": 0.05
          },
          "xaxis": {
           "automargin": true,
           "gridcolor": "white",
           "linecolor": "white",
           "ticks": "",
           "title": {
            "standoff": 15
           },
           "zerolinecolor": "white",
           "zerolinewidth": 2
          },
          "yaxis": {
           "automargin": true,
           "gridcolor": "white",
           "linecolor": "white",
           "ticks": "",
           "title": {
            "standoff": 15
           },
           "zerolinecolor": "white",
           "zerolinewidth": 2
          }
         }
        }
       }
      }
     },
     "metadata": {},
     "output_type": "display_data"
    }
   ],
   "source": [
    "category_count_top10=category_count.head(10)\n",
    "px.pie(category_count_top10,'Category','Case Count')"
   ]
  },
  {
   "cell_type": "code",
   "execution_count": 72,
   "metadata": {},
   "outputs": [
    {
     "data": {
      "text/plain": [
       "NONE                                      6390\n",
       "ARREST, BOOKED                            3356\n",
       "UNFOUNDED                                  159\n",
       "JUVENILE BOOKED                             56\n",
       "EXCEPTIONAL CLEARANCE                       28\n",
       "ARREST, CITED                               18\n",
       "CLEARED-CONTACT JUVENILE FOR MORE INFO       5\n",
       "LOCATED                                      3\n",
       "NOT PROSECUTED                               1\n",
       "COMPLAINANT REFUSES TO PROSECUTE             1\n",
       "PSYCHOPATHIC CASE                            1\n",
       "JUVENILE DIVERTED                            1\n",
       "Name: Resolution, dtype: int64"
      ]
     },
     "execution_count": 72,
     "metadata": {},
     "output_type": "execute_result"
    }
   ],
   "source": [
    "# find the most common way of handling incidents by the PD, in sanFrancisco using visualization\n",
    "resolution_count=df.Resolution.value_counts()\n",
    "resolution_count"
   ]
  },
  {
   "cell_type": "code",
   "execution_count": 73,
   "metadata": {},
   "outputs": [
    {
     "data": {
      "text/html": [
       "<div>\n",
       "<style scoped>\n",
       "    .dataframe tbody tr th:only-of-type {\n",
       "        vertical-align: middle;\n",
       "    }\n",
       "\n",
       "    .dataframe tbody tr th {\n",
       "        vertical-align: top;\n",
       "    }\n",
       "\n",
       "    .dataframe thead th {\n",
       "        text-align: right;\n",
       "    }\n",
       "</style>\n",
       "<table border=\"1\" class=\"dataframe\">\n",
       "  <thead>\n",
       "    <tr style=\"text-align: right;\">\n",
       "      <th></th>\n",
       "      <th>Resolution</th>\n",
       "      <th>Count</th>\n",
       "    </tr>\n",
       "  </thead>\n",
       "  <tbody>\n",
       "    <tr>\n",
       "      <th>0</th>\n",
       "      <td>NONE</td>\n",
       "      <td>6390</td>\n",
       "    </tr>\n",
       "    <tr>\n",
       "      <th>1</th>\n",
       "      <td>ARREST, BOOKED</td>\n",
       "      <td>3356</td>\n",
       "    </tr>\n",
       "    <tr>\n",
       "      <th>2</th>\n",
       "      <td>UNFOUNDED</td>\n",
       "      <td>159</td>\n",
       "    </tr>\n",
       "    <tr>\n",
       "      <th>3</th>\n",
       "      <td>JUVENILE BOOKED</td>\n",
       "      <td>56</td>\n",
       "    </tr>\n",
       "    <tr>\n",
       "      <th>4</th>\n",
       "      <td>EXCEPTIONAL CLEARANCE</td>\n",
       "      <td>28</td>\n",
       "    </tr>\n",
       "    <tr>\n",
       "      <th>5</th>\n",
       "      <td>ARREST, CITED</td>\n",
       "      <td>18</td>\n",
       "    </tr>\n",
       "    <tr>\n",
       "      <th>6</th>\n",
       "      <td>CLEARED-CONTACT JUVENILE FOR MORE INFO</td>\n",
       "      <td>5</td>\n",
       "    </tr>\n",
       "    <tr>\n",
       "      <th>7</th>\n",
       "      <td>LOCATED</td>\n",
       "      <td>3</td>\n",
       "    </tr>\n",
       "    <tr>\n",
       "      <th>8</th>\n",
       "      <td>NOT PROSECUTED</td>\n",
       "      <td>1</td>\n",
       "    </tr>\n",
       "    <tr>\n",
       "      <th>9</th>\n",
       "      <td>COMPLAINANT REFUSES TO PROSECUTE</td>\n",
       "      <td>1</td>\n",
       "    </tr>\n",
       "    <tr>\n",
       "      <th>10</th>\n",
       "      <td>PSYCHOPATHIC CASE</td>\n",
       "      <td>1</td>\n",
       "    </tr>\n",
       "    <tr>\n",
       "      <th>11</th>\n",
       "      <td>JUVENILE DIVERTED</td>\n",
       "      <td>1</td>\n",
       "    </tr>\n",
       "  </tbody>\n",
       "</table>\n",
       "</div>"
      ],
      "text/plain": [
       "                                Resolution  Count\n",
       "0                                     NONE   6390\n",
       "1                           ARREST, BOOKED   3356\n",
       "2                                UNFOUNDED    159\n",
       "3                          JUVENILE BOOKED     56\n",
       "4                    EXCEPTIONAL CLEARANCE     28\n",
       "5                            ARREST, CITED     18\n",
       "6   CLEARED-CONTACT JUVENILE FOR MORE INFO      5\n",
       "7                                  LOCATED      3\n",
       "8                           NOT PROSECUTED      1\n",
       "9         COMPLAINANT REFUSES TO PROSECUTE      1\n",
       "10                       PSYCHOPATHIC CASE      1\n",
       "11                       JUVENILE DIVERTED      1"
      ]
     },
     "execution_count": 73,
     "metadata": {},
     "output_type": "execute_result"
    }
   ],
   "source": [
    "res_count = df.Resolution.value_counts().reset_index()  \n",
    "res_count.columns=['Resolution','Count']\n",
    "res_count"
   ]
  },
  {
   "cell_type": "code",
   "execution_count": 74,
   "metadata": {},
   "outputs": [
    {
     "data": {
      "application/vnd.plotly.v1+json": {
       "config": {
        "plotlyServerURL": "https://plot.ly"
       },
       "data": [
        {
         "domain": {
          "x": [
           0,
           1
          ],
          "y": [
           0,
           1
          ]
         },
         "hovertemplate": "Resolution=%{label}<br>Count=%{value}<extra></extra>",
         "labels": [
          "NONE",
          "ARREST, BOOKED",
          "UNFOUNDED",
          "JUVENILE BOOKED",
          "EXCEPTIONAL CLEARANCE",
          "ARREST, CITED",
          "CLEARED-CONTACT JUVENILE FOR MORE INFO",
          "LOCATED",
          "NOT PROSECUTED",
          "COMPLAINANT REFUSES TO PROSECUTE"
         ],
         "legendgroup": "",
         "name": "",
         "showlegend": true,
         "type": "pie",
         "values": [
          6390,
          3356,
          159,
          56,
          28,
          18,
          5,
          3,
          1,
          1
         ]
        }
       ],
       "layout": {
        "legend": {
         "tracegroupgap": 0
        },
        "margin": {
         "t": 60
        },
        "template": {
         "data": {
          "bar": [
           {
            "error_x": {
             "color": "#2a3f5f"
            },
            "error_y": {
             "color": "#2a3f5f"
            },
            "marker": {
             "line": {
              "color": "#E5ECF6",
              "width": 0.5
             },
             "pattern": {
              "fillmode": "overlay",
              "size": 10,
              "solidity": 0.2
             }
            },
            "type": "bar"
           }
          ],
          "barpolar": [
           {
            "marker": {
             "line": {
              "color": "#E5ECF6",
              "width": 0.5
             },
             "pattern": {
              "fillmode": "overlay",
              "size": 10,
              "solidity": 0.2
             }
            },
            "type": "barpolar"
           }
          ],
          "carpet": [
           {
            "aaxis": {
             "endlinecolor": "#2a3f5f",
             "gridcolor": "white",
             "linecolor": "white",
             "minorgridcolor": "white",
             "startlinecolor": "#2a3f5f"
            },
            "baxis": {
             "endlinecolor": "#2a3f5f",
             "gridcolor": "white",
             "linecolor": "white",
             "minorgridcolor": "white",
             "startlinecolor": "#2a3f5f"
            },
            "type": "carpet"
           }
          ],
          "choropleth": [
           {
            "colorbar": {
             "outlinewidth": 0,
             "ticks": ""
            },
            "type": "choropleth"
           }
          ],
          "contour": [
           {
            "colorbar": {
             "outlinewidth": 0,
             "ticks": ""
            },
            "colorscale": [
             [
              0,
              "#0d0887"
             ],
             [
              0.1111111111111111,
              "#46039f"
             ],
             [
              0.2222222222222222,
              "#7201a8"
             ],
             [
              0.3333333333333333,
              "#9c179e"
             ],
             [
              0.4444444444444444,
              "#bd3786"
             ],
             [
              0.5555555555555556,
              "#d8576b"
             ],
             [
              0.6666666666666666,
              "#ed7953"
             ],
             [
              0.7777777777777778,
              "#fb9f3a"
             ],
             [
              0.8888888888888888,
              "#fdca26"
             ],
             [
              1,
              "#f0f921"
             ]
            ],
            "type": "contour"
           }
          ],
          "contourcarpet": [
           {
            "colorbar": {
             "outlinewidth": 0,
             "ticks": ""
            },
            "type": "contourcarpet"
           }
          ],
          "heatmap": [
           {
            "colorbar": {
             "outlinewidth": 0,
             "ticks": ""
            },
            "colorscale": [
             [
              0,
              "#0d0887"
             ],
             [
              0.1111111111111111,
              "#46039f"
             ],
             [
              0.2222222222222222,
              "#7201a8"
             ],
             [
              0.3333333333333333,
              "#9c179e"
             ],
             [
              0.4444444444444444,
              "#bd3786"
             ],
             [
              0.5555555555555556,
              "#d8576b"
             ],
             [
              0.6666666666666666,
              "#ed7953"
             ],
             [
              0.7777777777777778,
              "#fb9f3a"
             ],
             [
              0.8888888888888888,
              "#fdca26"
             ],
             [
              1,
              "#f0f921"
             ]
            ],
            "type": "heatmap"
           }
          ],
          "heatmapgl": [
           {
            "colorbar": {
             "outlinewidth": 0,
             "ticks": ""
            },
            "colorscale": [
             [
              0,
              "#0d0887"
             ],
             [
              0.1111111111111111,
              "#46039f"
             ],
             [
              0.2222222222222222,
              "#7201a8"
             ],
             [
              0.3333333333333333,
              "#9c179e"
             ],
             [
              0.4444444444444444,
              "#bd3786"
             ],
             [
              0.5555555555555556,
              "#d8576b"
             ],
             [
              0.6666666666666666,
              "#ed7953"
             ],
             [
              0.7777777777777778,
              "#fb9f3a"
             ],
             [
              0.8888888888888888,
              "#fdca26"
             ],
             [
              1,
              "#f0f921"
             ]
            ],
            "type": "heatmapgl"
           }
          ],
          "histogram": [
           {
            "marker": {
             "pattern": {
              "fillmode": "overlay",
              "size": 10,
              "solidity": 0.2
             }
            },
            "type": "histogram"
           }
          ],
          "histogram2d": [
           {
            "colorbar": {
             "outlinewidth": 0,
             "ticks": ""
            },
            "colorscale": [
             [
              0,
              "#0d0887"
             ],
             [
              0.1111111111111111,
              "#46039f"
             ],
             [
              0.2222222222222222,
              "#7201a8"
             ],
             [
              0.3333333333333333,
              "#9c179e"
             ],
             [
              0.4444444444444444,
              "#bd3786"
             ],
             [
              0.5555555555555556,
              "#d8576b"
             ],
             [
              0.6666666666666666,
              "#ed7953"
             ],
             [
              0.7777777777777778,
              "#fb9f3a"
             ],
             [
              0.8888888888888888,
              "#fdca26"
             ],
             [
              1,
              "#f0f921"
             ]
            ],
            "type": "histogram2d"
           }
          ],
          "histogram2dcontour": [
           {
            "colorbar": {
             "outlinewidth": 0,
             "ticks": ""
            },
            "colorscale": [
             [
              0,
              "#0d0887"
             ],
             [
              0.1111111111111111,
              "#46039f"
             ],
             [
              0.2222222222222222,
              "#7201a8"
             ],
             [
              0.3333333333333333,
              "#9c179e"
             ],
             [
              0.4444444444444444,
              "#bd3786"
             ],
             [
              0.5555555555555556,
              "#d8576b"
             ],
             [
              0.6666666666666666,
              "#ed7953"
             ],
             [
              0.7777777777777778,
              "#fb9f3a"
             ],
             [
              0.8888888888888888,
              "#fdca26"
             ],
             [
              1,
              "#f0f921"
             ]
            ],
            "type": "histogram2dcontour"
           }
          ],
          "mesh3d": [
           {
            "colorbar": {
             "outlinewidth": 0,
             "ticks": ""
            },
            "type": "mesh3d"
           }
          ],
          "parcoords": [
           {
            "line": {
             "colorbar": {
              "outlinewidth": 0,
              "ticks": ""
             }
            },
            "type": "parcoords"
           }
          ],
          "pie": [
           {
            "automargin": true,
            "type": "pie"
           }
          ],
          "scatter": [
           {
            "fillpattern": {
             "fillmode": "overlay",
             "size": 10,
             "solidity": 0.2
            },
            "type": "scatter"
           }
          ],
          "scatter3d": [
           {
            "line": {
             "colorbar": {
              "outlinewidth": 0,
              "ticks": ""
             }
            },
            "marker": {
             "colorbar": {
              "outlinewidth": 0,
              "ticks": ""
             }
            },
            "type": "scatter3d"
           }
          ],
          "scattercarpet": [
           {
            "marker": {
             "colorbar": {
              "outlinewidth": 0,
              "ticks": ""
             }
            },
            "type": "scattercarpet"
           }
          ],
          "scattergeo": [
           {
            "marker": {
             "colorbar": {
              "outlinewidth": 0,
              "ticks": ""
             }
            },
            "type": "scattergeo"
           }
          ],
          "scattergl": [
           {
            "marker": {
             "colorbar": {
              "outlinewidth": 0,
              "ticks": ""
             }
            },
            "type": "scattergl"
           }
          ],
          "scattermapbox": [
           {
            "marker": {
             "colorbar": {
              "outlinewidth": 0,
              "ticks": ""
             }
            },
            "type": "scattermapbox"
           }
          ],
          "scatterpolar": [
           {
            "marker": {
             "colorbar": {
              "outlinewidth": 0,
              "ticks": ""
             }
            },
            "type": "scatterpolar"
           }
          ],
          "scatterpolargl": [
           {
            "marker": {
             "colorbar": {
              "outlinewidth": 0,
              "ticks": ""
             }
            },
            "type": "scatterpolargl"
           }
          ],
          "scatterternary": [
           {
            "marker": {
             "colorbar": {
              "outlinewidth": 0,
              "ticks": ""
             }
            },
            "type": "scatterternary"
           }
          ],
          "surface": [
           {
            "colorbar": {
             "outlinewidth": 0,
             "ticks": ""
            },
            "colorscale": [
             [
              0,
              "#0d0887"
             ],
             [
              0.1111111111111111,
              "#46039f"
             ],
             [
              0.2222222222222222,
              "#7201a8"
             ],
             [
              0.3333333333333333,
              "#9c179e"
             ],
             [
              0.4444444444444444,
              "#bd3786"
             ],
             [
              0.5555555555555556,
              "#d8576b"
             ],
             [
              0.6666666666666666,
              "#ed7953"
             ],
             [
              0.7777777777777778,
              "#fb9f3a"
             ],
             [
              0.8888888888888888,
              "#fdca26"
             ],
             [
              1,
              "#f0f921"
             ]
            ],
            "type": "surface"
           }
          ],
          "table": [
           {
            "cells": {
             "fill": {
              "color": "#EBF0F8"
             },
             "line": {
              "color": "white"
             }
            },
            "header": {
             "fill": {
              "color": "#C8D4E3"
             },
             "line": {
              "color": "white"
             }
            },
            "type": "table"
           }
          ]
         },
         "layout": {
          "annotationdefaults": {
           "arrowcolor": "#2a3f5f",
           "arrowhead": 0,
           "arrowwidth": 1
          },
          "autotypenumbers": "strict",
          "coloraxis": {
           "colorbar": {
            "outlinewidth": 0,
            "ticks": ""
           }
          },
          "colorscale": {
           "diverging": [
            [
             0,
             "#8e0152"
            ],
            [
             0.1,
             "#c51b7d"
            ],
            [
             0.2,
             "#de77ae"
            ],
            [
             0.3,
             "#f1b6da"
            ],
            [
             0.4,
             "#fde0ef"
            ],
            [
             0.5,
             "#f7f7f7"
            ],
            [
             0.6,
             "#e6f5d0"
            ],
            [
             0.7,
             "#b8e186"
            ],
            [
             0.8,
             "#7fbc41"
            ],
            [
             0.9,
             "#4d9221"
            ],
            [
             1,
             "#276419"
            ]
           ],
           "sequential": [
            [
             0,
             "#0d0887"
            ],
            [
             0.1111111111111111,
             "#46039f"
            ],
            [
             0.2222222222222222,
             "#7201a8"
            ],
            [
             0.3333333333333333,
             "#9c179e"
            ],
            [
             0.4444444444444444,
             "#bd3786"
            ],
            [
             0.5555555555555556,
             "#d8576b"
            ],
            [
             0.6666666666666666,
             "#ed7953"
            ],
            [
             0.7777777777777778,
             "#fb9f3a"
            ],
            [
             0.8888888888888888,
             "#fdca26"
            ],
            [
             1,
             "#f0f921"
            ]
           ],
           "sequentialminus": [
            [
             0,
             "#0d0887"
            ],
            [
             0.1111111111111111,
             "#46039f"
            ],
            [
             0.2222222222222222,
             "#7201a8"
            ],
            [
             0.3333333333333333,
             "#9c179e"
            ],
            [
             0.4444444444444444,
             "#bd3786"
            ],
            [
             0.5555555555555556,
             "#d8576b"
            ],
            [
             0.6666666666666666,
             "#ed7953"
            ],
            [
             0.7777777777777778,
             "#fb9f3a"
            ],
            [
             0.8888888888888888,
             "#fdca26"
            ],
            [
             1,
             "#f0f921"
            ]
           ]
          },
          "colorway": [
           "#636efa",
           "#EF553B",
           "#00cc96",
           "#ab63fa",
           "#FFA15A",
           "#19d3f3",
           "#FF6692",
           "#B6E880",
           "#FF97FF",
           "#FECB52"
          ],
          "font": {
           "color": "#2a3f5f"
          },
          "geo": {
           "bgcolor": "white",
           "lakecolor": "white",
           "landcolor": "#E5ECF6",
           "showlakes": true,
           "showland": true,
           "subunitcolor": "white"
          },
          "hoverlabel": {
           "align": "left"
          },
          "hovermode": "closest",
          "mapbox": {
           "style": "light"
          },
          "paper_bgcolor": "white",
          "plot_bgcolor": "#E5ECF6",
          "polar": {
           "angularaxis": {
            "gridcolor": "white",
            "linecolor": "white",
            "ticks": ""
           },
           "bgcolor": "#E5ECF6",
           "radialaxis": {
            "gridcolor": "white",
            "linecolor": "white",
            "ticks": ""
           }
          },
          "scene": {
           "xaxis": {
            "backgroundcolor": "#E5ECF6",
            "gridcolor": "white",
            "gridwidth": 2,
            "linecolor": "white",
            "showbackground": true,
            "ticks": "",
            "zerolinecolor": "white"
           },
           "yaxis": {
            "backgroundcolor": "#E5ECF6",
            "gridcolor": "white",
            "gridwidth": 2,
            "linecolor": "white",
            "showbackground": true,
            "ticks": "",
            "zerolinecolor": "white"
           },
           "zaxis": {
            "backgroundcolor": "#E5ECF6",
            "gridcolor": "white",
            "gridwidth": 2,
            "linecolor": "white",
            "showbackground": true,
            "ticks": "",
            "zerolinecolor": "white"
           }
          },
          "shapedefaults": {
           "line": {
            "color": "#2a3f5f"
           }
          },
          "ternary": {
           "aaxis": {
            "gridcolor": "white",
            "linecolor": "white",
            "ticks": ""
           },
           "baxis": {
            "gridcolor": "white",
            "linecolor": "white",
            "ticks": ""
           },
           "bgcolor": "#E5ECF6",
           "caxis": {
            "gridcolor": "white",
            "linecolor": "white",
            "ticks": ""
           }
          },
          "title": {
           "x": 0.05
          },
          "xaxis": {
           "automargin": true,
           "gridcolor": "white",
           "linecolor": "white",
           "ticks": "",
           "title": {
            "standoff": 15
           },
           "zerolinecolor": "white",
           "zerolinewidth": 2
          },
          "yaxis": {
           "automargin": true,
           "gridcolor": "white",
           "linecolor": "white",
           "ticks": "",
           "title": {
            "standoff": 15
           },
           "zerolinecolor": "white",
           "zerolinewidth": 2
          }
         }
        }
       }
      }
     },
     "metadata": {},
     "output_type": "display_data"
    }
   ],
   "source": [
    "res_count_top10=res_count.head(10)\n",
    "px.pie(res_count_top10,'Resolution','Count')"
   ]
  },
  {
   "cell_type": "code",
   "execution_count": 86,
   "metadata": {},
   "outputs": [
    {
     "data": {
      "text/html": [
       "<div>\n",
       "<style scoped>\n",
       "    .dataframe tbody tr th:only-of-type {\n",
       "        vertical-align: middle;\n",
       "    }\n",
       "\n",
       "    .dataframe tbody tr th {\n",
       "        vertical-align: top;\n",
       "    }\n",
       "\n",
       "    .dataframe thead th {\n",
       "        text-align: right;\n",
       "    }\n",
       "</style>\n",
       "<table border=\"1\" class=\"dataframe\">\n",
       "  <thead>\n",
       "    <tr style=\"text-align: right;\">\n",
       "      <th></th>\n",
       "      <th>Month</th>\n",
       "      <th>Case Count</th>\n",
       "    </tr>\n",
       "  </thead>\n",
       "  <tbody>\n",
       "    <tr>\n",
       "      <th>0</th>\n",
       "      <td>01-01-2016 0.00</td>\n",
       "      <td>110</td>\n",
       "    </tr>\n",
       "    <tr>\n",
       "      <th>1</th>\n",
       "      <td>01-02-2016 0.00</td>\n",
       "      <td>21</td>\n",
       "    </tr>\n",
       "    <tr>\n",
       "      <th>2</th>\n",
       "      <td>01-03-2016 0.00</td>\n",
       "      <td>21</td>\n",
       "    </tr>\n",
       "    <tr>\n",
       "      <th>3</th>\n",
       "      <td>01-04-2016 0.00</td>\n",
       "      <td>18</td>\n",
       "    </tr>\n",
       "    <tr>\n",
       "      <th>4</th>\n",
       "      <td>01-05-2016 0.00</td>\n",
       "      <td>56</td>\n",
       "    </tr>\n",
       "    <tr>\n",
       "      <th>...</th>\n",
       "      <td>...</td>\n",
       "      <td>...</td>\n",
       "    </tr>\n",
       "    <tr>\n",
       "      <th>284</th>\n",
       "      <td>11-02-2016 0.00</td>\n",
       "      <td>8</td>\n",
       "    </tr>\n",
       "    <tr>\n",
       "      <th>285</th>\n",
       "      <td>11/14/2016 12:00:00 AM</td>\n",
       "      <td>1</td>\n",
       "    </tr>\n",
       "    <tr>\n",
       "      <th>286</th>\n",
       "      <td>11/18/2016 12:00:00 AM</td>\n",
       "      <td>1</td>\n",
       "    </tr>\n",
       "    <tr>\n",
       "      <th>287</th>\n",
       "      <td>12-08-2016 0.00</td>\n",
       "      <td>4</td>\n",
       "    </tr>\n",
       "    <tr>\n",
       "      <th>288</th>\n",
       "      <td>12/21/2016 12:00:00 AM</td>\n",
       "      <td>1</td>\n",
       "    </tr>\n",
       "  </tbody>\n",
       "</table>\n",
       "<p>289 rows × 2 columns</p>\n",
       "</div>"
      ],
      "text/plain": [
       "                      Month  Case Count\n",
       "0           01-01-2016 0.00         110\n",
       "1           01-02-2016 0.00          21\n",
       "2           01-03-2016 0.00          21\n",
       "3           01-04-2016 0.00          18\n",
       "4           01-05-2016 0.00          56\n",
       "..                      ...         ...\n",
       "284         11-02-2016 0.00           8\n",
       "285  11/14/2016 12:00:00 AM           1\n",
       "286  11/18/2016 12:00:00 AM           1\n",
       "287         12-08-2016 0.00           4\n",
       "288  12/21/2016 12:00:00 AM           1\n",
       "\n",
       "[289 rows x 2 columns]"
      ]
     },
     "execution_count": 86,
     "metadata": {},
     "output_type": "execute_result"
    }
   ],
   "source": [
    "month_wise_cases = df.groupby('Date')['Category'].count().reset_index()\n",
    "month_wise_cases.columns = ['Month','Case Count']\n",
    "month_wise_cases"
   ]
  },
  {
   "cell_type": "code",
   "execution_count": 84,
   "metadata": {},
   "outputs": [
    {
     "data": {
      "application/vnd.plotly.v1+json": {
       "config": {
        "plotlyServerURL": "https://plot.ly"
       },
       "data": [
        {
         "alignmentgroup": "True",
         "hovertemplate": "Month=%{x}<br>Case Count=%{y}<extra></extra>",
         "legendgroup": "",
         "marker": {
          "color": "#636efa",
          "pattern": {
           "shape": ""
          }
         },
         "name": "",
         "offsetgroup": "",
         "orientation": "v",
         "showlegend": false,
         "textposition": "auto",
         "type": "bar",
         "x": [
          "01-01-2016 0.00",
          "01-02-2016 0.00",
          "01-03-2016 0.00",
          "01-04-2016 0.00",
          "01-05-2016 0.00",
          "01-06-2016 0.00",
          "01-07-2016 0.00",
          "01-08-2016 0.00",
          "01-09-2016 0.00",
          "01-10-2016 0.00",
          "01-11-2016 0.00",
          "01-12-2016 0.00",
          "01/13/2016 12:00:00 AM",
          "01/14/2016 12:00:00 AM",
          "01/15/2016 12:00:00 AM",
          "01/16/2016 12:00:00 AM",
          "01/17/2016 12:00:00 AM",
          "01/18/2016 12:00:00 AM",
          "01/19/2016 12:00:00 AM",
          "01/20/2016 12:00:00 AM",
          "01/21/2016 12:00:00 AM",
          "01/22/2016 12:00:00 AM",
          "01/23/2016 12:00:00 AM",
          "01/24/2016 12:00:00 AM",
          "01/25/2016 12:00:00 AM",
          "01/26/2016 12:00:00 AM",
          "01/27/2016 12:00:00 AM",
          "01/28/2016 12:00:00 AM",
          "01/29/2016 12:00:00 AM",
          "01/30/2016 12:00:00 AM",
          "01/31/2016 12:00:00 AM",
          "02-01-2016 0.00",
          "02-02-2016 0.00",
          "02-03-2016 0.00",
          "02-04-2016 0.00",
          "02-05-2016 0.00",
          "02-06-2016 0.00",
          "02-07-2016 0.00",
          "02-08-2016 0.00",
          "02-09-2016 0.00",
          "02-10-2016 0.00",
          "02-11-2016 0.00",
          "02-12-2016 0.00",
          "02/13/2016 12:00:00 AM",
          "02/14/2016 12:00:00 AM",
          "02/15/2016 12:00:00 AM",
          "02/16/2016 12:00:00 AM",
          "02/17/2016 12:00:00 AM",
          "02/18/2016 12:00:00 AM",
          "02/19/2016 12:00:00 AM",
          "02/20/2016 12:00:00 AM",
          "02/21/2016 12:00:00 AM",
          "02/22/2016 12:00:00 AM",
          "02/23/2016 12:00:00 AM",
          "02/24/2016 12:00:00 AM",
          "02/25/2016 12:00:00 AM",
          "02/26/2016 12:00:00 AM",
          "02/27/2016 12:00:00 AM",
          "02/28/2016 12:00:00 AM",
          "02/29/2016 12:00:00 AM",
          "03-01-2016 0.00",
          "03-02-2016 0.00",
          "03-03-2016 0.00",
          "03-04-2016 0.00",
          "03-05-2016 0.00",
          "03-06-2016 0.00",
          "03-07-2016 0.00",
          "03-08-2016 0.00",
          "03-09-2016 0.00",
          "03-10-2016 0.00",
          "03-11-2016 0.00",
          "03-12-2016 0.00",
          "03/13/2016 12:00:00 AM",
          "03/14/2016 12:00:00 AM",
          "03/15/2016 12:00:00 AM",
          "03/16/2016 12:00:00 AM",
          "03/17/2016 12:00:00 AM",
          "03/18/2016 12:00:00 AM",
          "03/19/2016 12:00:00 AM",
          "03/20/2016 12:00:00 AM",
          "03/21/2016 12:00:00 AM",
          "03/22/2016 12:00:00 AM",
          "03/23/2016 12:00:00 AM",
          "03/24/2016 12:00:00 AM",
          "03/25/2016 12:00:00 AM",
          "03/26/2016 12:00:00 AM",
          "03/27/2016 12:00:00 AM",
          "03/28/2016 12:00:00 AM",
          "03/29/2016 12:00:00 AM",
          "03/30/2016 12:00:00 AM",
          "03/31/2016 12:00:00 AM",
          "04-01-2016 0.00",
          "04-02-2016 0.00",
          "04-03-2016 0.00",
          "04-04-2016 0.00",
          "04-05-2016 0.00",
          "04-06-2016 0.00",
          "04-07-2016 0.00",
          "04-08-2016 0.00",
          "04-09-2016 0.00",
          "04-10-2016 0.00",
          "04-11-2016 0.00",
          "04-12-2016 0.00",
          "04/13/2016 12:00:00 AM",
          "04/16/2016 12:00:00 AM",
          "04/17/2016 12:00:00 AM",
          "04/18/2016 12:00:00 AM",
          "04/20/2016 12:00:00 AM",
          "04/22/2016 12:00:00 AM",
          "04/23/2016 12:00:00 AM",
          "04/24/2016 12:00:00 AM",
          "04/25/2016 12:00:00 AM",
          "04/26/2016 12:00:00 AM",
          "04/27/2016 12:00:00 AM",
          "04/28/2016 12:00:00 AM",
          "04/30/2016 12:00:00 AM",
          "05-01-2016 0.00",
          "05-03-2016 0.00",
          "05-04-2016 0.00",
          "05-06-2016 0.00",
          "05-07-2016 0.00",
          "05-08-2016 0.00",
          "05-10-2016 0.00",
          "05-11-2016 0.00",
          "05-12-2016 0.00",
          "05/15/2016 12:00:00 AM",
          "05/16/2016 12:00:00 AM",
          "05/17/2016 12:00:00 AM",
          "05/18/2016 12:00:00 AM",
          "05/19/2016 12:00:00 AM",
          "05/20/2016 12:00:00 AM",
          "05/21/2016 12:00:00 AM",
          "05/23/2016 12:00:00 AM",
          "05/24/2016 12:00:00 AM",
          "05/25/2016 12:00:00 AM",
          "05/26/2016 12:00:00 AM",
          "06-02-2016 0.00",
          "06-04-2016 0.00",
          "06-07-2016 0.00",
          "06-08-2016 0.00",
          "06-09-2016 0.00",
          "06-10-2016 0.00",
          "06-11-2016 0.00",
          "06-12-2016 0.00",
          "06/13/2016 12:00:00 AM",
          "06/14/2016 12:00:00 AM",
          "06/15/2016 12:00:00 AM",
          "06/16/2016 12:00:00 AM",
          "06/17/2016 12:00:00 AM",
          "06/18/2016 12:00:00 AM",
          "06/20/2016 12:00:00 AM",
          "06/21/2016 12:00:00 AM",
          "06/22/2016 12:00:00 AM",
          "06/23/2016 12:00:00 AM",
          "06/24/2016 12:00:00 AM",
          "06/25/2016 12:00:00 AM",
          "06/26/2016 12:00:00 AM",
          "06/27/2016 12:00:00 AM",
          "06/28/2016 12:00:00 AM",
          "06/29/2016 12:00:00 AM",
          "06/30/2016 12:00:00 AM",
          "07-01-2016 0.00",
          "07-02-2016 0.00",
          "07-03-2016 0.00",
          "07-04-2016 0.00",
          "07-05-2016 0.00",
          "07-06-2016 0.00",
          "07-07-2016 0.00",
          "07-08-2016 0.00",
          "07-09-2016 0.00",
          "07-10-2016 0.00",
          "07-11-2016 0.00",
          "07-12-2016 0.00",
          "07/14/2016 12:00:00 AM",
          "07/15/2016 12:00:00 AM",
          "07/16/2016 12:00:00 AM",
          "07/17/2016 12:00:00 AM",
          "07/18/2016 12:00:00 AM",
          "07/19/2016 12:00:00 AM",
          "07/20/2016 12:00:00 AM",
          "07/21/2016 12:00:00 AM",
          "07/22/2016 12:00:00 AM",
          "07/23/2016 12:00:00 AM",
          "07/24/2016 12:00:00 AM",
          "07/25/2016 12:00:00 AM",
          "07/26/2016 12:00:00 AM",
          "07/27/2016 12:00:00 AM",
          "07/28/2016 12:00:00 AM",
          "07/29/2016 12:00:00 AM",
          "07/30/2016 12:00:00 AM",
          "07/31/2016 12:00:00 AM",
          "08-01-2016 0.00",
          "08-02-2016 0.00",
          "08-03-2016 0.00",
          "08-04-2016 0.00",
          "08-05-2016 0.00",
          "08-06-2016 0.00",
          "08-07-2016 0.00",
          "08-08-2016 0.00",
          "08-09-2016 0.00",
          "08-10-2016 0.00",
          "08-11-2016 0.00",
          "08-12-2016 0.00",
          "08/13/2016 12:00:00 AM",
          "08/14/2016 12:00:00 AM",
          "08/15/2016 12:00:00 AM",
          "08/16/2016 12:00:00 AM",
          "08/17/2016 12:00:00 AM",
          "08/18/2016 12:00:00 AM",
          "08/19/2016 12:00:00 AM",
          "08/20/2016 12:00:00 AM",
          "08/21/2016 12:00:00 AM",
          "08/22/2016 12:00:00 AM",
          "08/23/2016 12:00:00 AM",
          "08/24/2016 12:00:00 AM",
          "08/25/2016 12:00:00 AM",
          "08/26/2016 12:00:00 AM",
          "08/27/2016 12:00:00 AM",
          "08/28/2016 12:00:00 AM",
          "08/29/2016 12:00:00 AM",
          "08/30/2016 12:00:00 AM",
          "08/31/2016 12:00:00 AM",
          "09-01-2016 0.00",
          "09-02-2016 0.00",
          "09-03-2016 0.00",
          "09-04-2016 0.00",
          "09-05-2016 0.00",
          "09-06-2016 0.00",
          "09-07-2016 0.00",
          "09-08-2016 0.00",
          "09-09-2016 0.00",
          "09-10-2016 0.00",
          "09-11-2016 0.00",
          "09-12-2016 0.00",
          "09/13/2016 12:00:00 AM",
          "09/14/2016 12:00:00 AM",
          "09/15/2016 12:00:00 AM",
          "09/16/2016 12:00:00 AM",
          "09/17/2016 12:00:00 AM",
          "09/18/2016 12:00:00 AM",
          "09/19/2016 12:00:00 AM",
          "09/20/2016 12:00:00 AM",
          "09/21/2016 12:00:00 AM",
          "09/22/2016 12:00:00 AM",
          "09/23/2016 12:00:00 AM",
          "09/24/2016 12:00:00 AM",
          "09/25/2016 12:00:00 AM",
          "09/26/2016 12:00:00 AM",
          "09/27/2016 12:00:00 AM",
          "09/28/2016 12:00:00 AM",
          "09/29/2016 12:00:00 AM",
          "09/30/2016 12:00:00 AM",
          "10-01-2016 0.00",
          "10-02-2016 0.00",
          "10-03-2016 0.00",
          "10-04-2016 0.00",
          "10-05-2016 0.00",
          "10-06-2016 0.00",
          "10-07-2016 0.00",
          "10-08-2016 0.00",
          "10-09-2016 0.00",
          "10-10-2016 0.00",
          "10-11-2016 0.00",
          "10-12-2016 0.00",
          "10/13/2016 12:00:00 AM",
          "10/14/2016 12:00:00 AM",
          "10/15/2016 12:00:00 AM",
          "10/16/2016 12:00:00 AM",
          "10/17/2016 12:00:00 AM",
          "10/18/2016 12:00:00 AM",
          "10/19/2016 12:00:00 AM",
          "10/20/2016 12:00:00 AM",
          "10/21/2016 12:00:00 AM",
          "10/22/2016 12:00:00 AM",
          "10/23/2016 12:00:00 AM",
          "10/24/2016 12:00:00 AM",
          "10/25/2016 12:00:00 AM",
          "10/26/2016 12:00:00 AM",
          "10/27/2016 12:00:00 AM",
          "10/28/2016 12:00:00 AM",
          "10/29/2016 12:00:00 AM",
          "10/30/2016 12:00:00 AM",
          "10/31/2016 12:00:00 AM",
          "11-01-2016 0.00",
          "11-02-2016 0.00",
          "11/14/2016 12:00:00 AM",
          "11/18/2016 12:00:00 AM",
          "12-08-2016 0.00",
          "12/21/2016 12:00:00 AM"
         ],
         "xaxis": "x",
         "y": [
          110,
          21,
          21,
          18,
          56,
          50,
          85,
          84,
          55,
          74,
          64,
          69,
          67,
          70,
          73,
          65,
          85,
          61,
          71,
          54,
          46,
          59,
          74,
          53,
          64,
          89,
          76,
          74,
          117,
          105,
          87,
          80,
          107,
          105,
          88,
          109,
          80,
          111,
          65,
          78,
          80,
          96,
          93,
          92,
          57,
          107,
          93,
          97,
          97,
          97,
          92,
          48,
          68,
          56,
          58,
          48,
          60,
          65,
          72,
          88,
          63,
          95,
          57,
          71,
          83,
          85,
          96,
          96,
          112,
          89,
          91,
          88,
          71,
          103,
          110,
          108,
          140,
          137,
          104,
          116,
          117,
          131,
          130,
          99,
          136,
          152,
          153,
          112,
          140,
          151,
          125,
          153,
          132,
          85,
          138,
          94,
          130,
          123,
          107,
          93,
          121,
          100,
          6,
          3,
          1,
          2,
          4,
          1,
          4,
          2,
          6,
          3,
          3,
          8,
          9,
          6,
          4,
          6,
          3,
          6,
          3,
          2,
          1,
          1,
          5,
          1,
          4,
          9,
          6,
          5,
          5,
          9,
          1,
          6,
          2,
          3,
          1,
          4,
          1,
          1,
          5,
          1,
          5,
          2,
          2,
          5,
          10,
          3,
          2,
          3,
          8,
          8,
          1,
          5,
          7,
          4,
          4,
          2,
          6,
          9,
          12,
          4,
          6,
          3,
          9,
          10,
          7,
          3,
          4,
          4,
          4,
          6,
          5,
          2,
          2,
          7,
          3,
          5,
          8,
          5,
          3,
          4,
          5,
          3,
          11,
          1,
          2,
          4,
          7,
          3,
          9,
          9,
          2,
          4,
          6,
          9,
          2,
          8,
          4,
          6,
          4,
          5,
          2,
          8,
          2,
          3,
          5,
          8,
          2,
          4,
          3,
          12,
          1,
          2,
          2,
          1,
          5,
          12,
          11,
          4,
          8,
          6,
          3,
          5,
          1,
          1,
          5,
          4,
          1,
          3,
          8,
          9,
          4,
          1,
          4,
          3,
          1,
          7,
          7,
          8,
          7,
          2,
          4,
          11,
          3,
          13,
          5,
          2,
          3,
          1,
          8,
          4,
          2,
          1,
          9,
          6,
          3,
          6,
          12,
          13,
          3,
          10,
          8,
          2,
          7,
          4,
          10,
          6,
          7,
          4,
          6,
          5,
          5,
          10,
          5,
          9,
          5,
          5,
          8,
          1,
          4,
          3,
          3,
          3,
          8,
          1,
          1,
          4,
          1
         ],
         "yaxis": "y"
        }
       ],
       "layout": {
        "barmode": "relative",
        "legend": {
         "tracegroupgap": 0
        },
        "margin": {
         "t": 60
        },
        "template": {
         "data": {
          "bar": [
           {
            "error_x": {
             "color": "#2a3f5f"
            },
            "error_y": {
             "color": "#2a3f5f"
            },
            "marker": {
             "line": {
              "color": "#E5ECF6",
              "width": 0.5
             },
             "pattern": {
              "fillmode": "overlay",
              "size": 10,
              "solidity": 0.2
             }
            },
            "type": "bar"
           }
          ],
          "barpolar": [
           {
            "marker": {
             "line": {
              "color": "#E5ECF6",
              "width": 0.5
             },
             "pattern": {
              "fillmode": "overlay",
              "size": 10,
              "solidity": 0.2
             }
            },
            "type": "barpolar"
           }
          ],
          "carpet": [
           {
            "aaxis": {
             "endlinecolor": "#2a3f5f",
             "gridcolor": "white",
             "linecolor": "white",
             "minorgridcolor": "white",
             "startlinecolor": "#2a3f5f"
            },
            "baxis": {
             "endlinecolor": "#2a3f5f",
             "gridcolor": "white",
             "linecolor": "white",
             "minorgridcolor": "white",
             "startlinecolor": "#2a3f5f"
            },
            "type": "carpet"
           }
          ],
          "choropleth": [
           {
            "colorbar": {
             "outlinewidth": 0,
             "ticks": ""
            },
            "type": "choropleth"
           }
          ],
          "contour": [
           {
            "colorbar": {
             "outlinewidth": 0,
             "ticks": ""
            },
            "colorscale": [
             [
              0,
              "#0d0887"
             ],
             [
              0.1111111111111111,
              "#46039f"
             ],
             [
              0.2222222222222222,
              "#7201a8"
             ],
             [
              0.3333333333333333,
              "#9c179e"
             ],
             [
              0.4444444444444444,
              "#bd3786"
             ],
             [
              0.5555555555555556,
              "#d8576b"
             ],
             [
              0.6666666666666666,
              "#ed7953"
             ],
             [
              0.7777777777777778,
              "#fb9f3a"
             ],
             [
              0.8888888888888888,
              "#fdca26"
             ],
             [
              1,
              "#f0f921"
             ]
            ],
            "type": "contour"
           }
          ],
          "contourcarpet": [
           {
            "colorbar": {
             "outlinewidth": 0,
             "ticks": ""
            },
            "type": "contourcarpet"
           }
          ],
          "heatmap": [
           {
            "colorbar": {
             "outlinewidth": 0,
             "ticks": ""
            },
            "colorscale": [
             [
              0,
              "#0d0887"
             ],
             [
              0.1111111111111111,
              "#46039f"
             ],
             [
              0.2222222222222222,
              "#7201a8"
             ],
             [
              0.3333333333333333,
              "#9c179e"
             ],
             [
              0.4444444444444444,
              "#bd3786"
             ],
             [
              0.5555555555555556,
              "#d8576b"
             ],
             [
              0.6666666666666666,
              "#ed7953"
             ],
             [
              0.7777777777777778,
              "#fb9f3a"
             ],
             [
              0.8888888888888888,
              "#fdca26"
             ],
             [
              1,
              "#f0f921"
             ]
            ],
            "type": "heatmap"
           }
          ],
          "heatmapgl": [
           {
            "colorbar": {
             "outlinewidth": 0,
             "ticks": ""
            },
            "colorscale": [
             [
              0,
              "#0d0887"
             ],
             [
              0.1111111111111111,
              "#46039f"
             ],
             [
              0.2222222222222222,
              "#7201a8"
             ],
             [
              0.3333333333333333,
              "#9c179e"
             ],
             [
              0.4444444444444444,
              "#bd3786"
             ],
             [
              0.5555555555555556,
              "#d8576b"
             ],
             [
              0.6666666666666666,
              "#ed7953"
             ],
             [
              0.7777777777777778,
              "#fb9f3a"
             ],
             [
              0.8888888888888888,
              "#fdca26"
             ],
             [
              1,
              "#f0f921"
             ]
            ],
            "type": "heatmapgl"
           }
          ],
          "histogram": [
           {
            "marker": {
             "pattern": {
              "fillmode": "overlay",
              "size": 10,
              "solidity": 0.2
             }
            },
            "type": "histogram"
           }
          ],
          "histogram2d": [
           {
            "colorbar": {
             "outlinewidth": 0,
             "ticks": ""
            },
            "colorscale": [
             [
              0,
              "#0d0887"
             ],
             [
              0.1111111111111111,
              "#46039f"
             ],
             [
              0.2222222222222222,
              "#7201a8"
             ],
             [
              0.3333333333333333,
              "#9c179e"
             ],
             [
              0.4444444444444444,
              "#bd3786"
             ],
             [
              0.5555555555555556,
              "#d8576b"
             ],
             [
              0.6666666666666666,
              "#ed7953"
             ],
             [
              0.7777777777777778,
              "#fb9f3a"
             ],
             [
              0.8888888888888888,
              "#fdca26"
             ],
             [
              1,
              "#f0f921"
             ]
            ],
            "type": "histogram2d"
           }
          ],
          "histogram2dcontour": [
           {
            "colorbar": {
             "outlinewidth": 0,
             "ticks": ""
            },
            "colorscale": [
             [
              0,
              "#0d0887"
             ],
             [
              0.1111111111111111,
              "#46039f"
             ],
             [
              0.2222222222222222,
              "#7201a8"
             ],
             [
              0.3333333333333333,
              "#9c179e"
             ],
             [
              0.4444444444444444,
              "#bd3786"
             ],
             [
              0.5555555555555556,
              "#d8576b"
             ],
             [
              0.6666666666666666,
              "#ed7953"
             ],
             [
              0.7777777777777778,
              "#fb9f3a"
             ],
             [
              0.8888888888888888,
              "#fdca26"
             ],
             [
              1,
              "#f0f921"
             ]
            ],
            "type": "histogram2dcontour"
           }
          ],
          "mesh3d": [
           {
            "colorbar": {
             "outlinewidth": 0,
             "ticks": ""
            },
            "type": "mesh3d"
           }
          ],
          "parcoords": [
           {
            "line": {
             "colorbar": {
              "outlinewidth": 0,
              "ticks": ""
             }
            },
            "type": "parcoords"
           }
          ],
          "pie": [
           {
            "automargin": true,
            "type": "pie"
           }
          ],
          "scatter": [
           {
            "fillpattern": {
             "fillmode": "overlay",
             "size": 10,
             "solidity": 0.2
            },
            "type": "scatter"
           }
          ],
          "scatter3d": [
           {
            "line": {
             "colorbar": {
              "outlinewidth": 0,
              "ticks": ""
             }
            },
            "marker": {
             "colorbar": {
              "outlinewidth": 0,
              "ticks": ""
             }
            },
            "type": "scatter3d"
           }
          ],
          "scattercarpet": [
           {
            "marker": {
             "colorbar": {
              "outlinewidth": 0,
              "ticks": ""
             }
            },
            "type": "scattercarpet"
           }
          ],
          "scattergeo": [
           {
            "marker": {
             "colorbar": {
              "outlinewidth": 0,
              "ticks": ""
             }
            },
            "type": "scattergeo"
           }
          ],
          "scattergl": [
           {
            "marker": {
             "colorbar": {
              "outlinewidth": 0,
              "ticks": ""
             }
            },
            "type": "scattergl"
           }
          ],
          "scattermapbox": [
           {
            "marker": {
             "colorbar": {
              "outlinewidth": 0,
              "ticks": ""
             }
            },
            "type": "scattermapbox"
           }
          ],
          "scatterpolar": [
           {
            "marker": {
             "colorbar": {
              "outlinewidth": 0,
              "ticks": ""
             }
            },
            "type": "scatterpolar"
           }
          ],
          "scatterpolargl": [
           {
            "marker": {
             "colorbar": {
              "outlinewidth": 0,
              "ticks": ""
             }
            },
            "type": "scatterpolargl"
           }
          ],
          "scatterternary": [
           {
            "marker": {
             "colorbar": {
              "outlinewidth": 0,
              "ticks": ""
             }
            },
            "type": "scatterternary"
           }
          ],
          "surface": [
           {
            "colorbar": {
             "outlinewidth": 0,
             "ticks": ""
            },
            "colorscale": [
             [
              0,
              "#0d0887"
             ],
             [
              0.1111111111111111,
              "#46039f"
             ],
             [
              0.2222222222222222,
              "#7201a8"
             ],
             [
              0.3333333333333333,
              "#9c179e"
             ],
             [
              0.4444444444444444,
              "#bd3786"
             ],
             [
              0.5555555555555556,
              "#d8576b"
             ],
             [
              0.6666666666666666,
              "#ed7953"
             ],
             [
              0.7777777777777778,
              "#fb9f3a"
             ],
             [
              0.8888888888888888,
              "#fdca26"
             ],
             [
              1,
              "#f0f921"
             ]
            ],
            "type": "surface"
           }
          ],
          "table": [
           {
            "cells": {
             "fill": {
              "color": "#EBF0F8"
             },
             "line": {
              "color": "white"
             }
            },
            "header": {
             "fill": {
              "color": "#C8D4E3"
             },
             "line": {
              "color": "white"
             }
            },
            "type": "table"
           }
          ]
         },
         "layout": {
          "annotationdefaults": {
           "arrowcolor": "#2a3f5f",
           "arrowhead": 0,
           "arrowwidth": 1
          },
          "autotypenumbers": "strict",
          "coloraxis": {
           "colorbar": {
            "outlinewidth": 0,
            "ticks": ""
           }
          },
          "colorscale": {
           "diverging": [
            [
             0,
             "#8e0152"
            ],
            [
             0.1,
             "#c51b7d"
            ],
            [
             0.2,
             "#de77ae"
            ],
            [
             0.3,
             "#f1b6da"
            ],
            [
             0.4,
             "#fde0ef"
            ],
            [
             0.5,
             "#f7f7f7"
            ],
            [
             0.6,
             "#e6f5d0"
            ],
            [
             0.7,
             "#b8e186"
            ],
            [
             0.8,
             "#7fbc41"
            ],
            [
             0.9,
             "#4d9221"
            ],
            [
             1,
             "#276419"
            ]
           ],
           "sequential": [
            [
             0,
             "#0d0887"
            ],
            [
             0.1111111111111111,
             "#46039f"
            ],
            [
             0.2222222222222222,
             "#7201a8"
            ],
            [
             0.3333333333333333,
             "#9c179e"
            ],
            [
             0.4444444444444444,
             "#bd3786"
            ],
            [
             0.5555555555555556,
             "#d8576b"
            ],
            [
             0.6666666666666666,
             "#ed7953"
            ],
            [
             0.7777777777777778,
             "#fb9f3a"
            ],
            [
             0.8888888888888888,
             "#fdca26"
            ],
            [
             1,
             "#f0f921"
            ]
           ],
           "sequentialminus": [
            [
             0,
             "#0d0887"
            ],
            [
             0.1111111111111111,
             "#46039f"
            ],
            [
             0.2222222222222222,
             "#7201a8"
            ],
            [
             0.3333333333333333,
             "#9c179e"
            ],
            [
             0.4444444444444444,
             "#bd3786"
            ],
            [
             0.5555555555555556,
             "#d8576b"
            ],
            [
             0.6666666666666666,
             "#ed7953"
            ],
            [
             0.7777777777777778,
             "#fb9f3a"
            ],
            [
             0.8888888888888888,
             "#fdca26"
            ],
            [
             1,
             "#f0f921"
            ]
           ]
          },
          "colorway": [
           "#636efa",
           "#EF553B",
           "#00cc96",
           "#ab63fa",
           "#FFA15A",
           "#19d3f3",
           "#FF6692",
           "#B6E880",
           "#FF97FF",
           "#FECB52"
          ],
          "font": {
           "color": "#2a3f5f"
          },
          "geo": {
           "bgcolor": "white",
           "lakecolor": "white",
           "landcolor": "#E5ECF6",
           "showlakes": true,
           "showland": true,
           "subunitcolor": "white"
          },
          "hoverlabel": {
           "align": "left"
          },
          "hovermode": "closest",
          "mapbox": {
           "style": "light"
          },
          "paper_bgcolor": "white",
          "plot_bgcolor": "#E5ECF6",
          "polar": {
           "angularaxis": {
            "gridcolor": "white",
            "linecolor": "white",
            "ticks": ""
           },
           "bgcolor": "#E5ECF6",
           "radialaxis": {
            "gridcolor": "white",
            "linecolor": "white",
            "ticks": ""
           }
          },
          "scene": {
           "xaxis": {
            "backgroundcolor": "#E5ECF6",
            "gridcolor": "white",
            "gridwidth": 2,
            "linecolor": "white",
            "showbackground": true,
            "ticks": "",
            "zerolinecolor": "white"
           },
           "yaxis": {
            "backgroundcolor": "#E5ECF6",
            "gridcolor": "white",
            "gridwidth": 2,
            "linecolor": "white",
            "showbackground": true,
            "ticks": "",
            "zerolinecolor": "white"
           },
           "zaxis": {
            "backgroundcolor": "#E5ECF6",
            "gridcolor": "white",
            "gridwidth": 2,
            "linecolor": "white",
            "showbackground": true,
            "ticks": "",
            "zerolinecolor": "white"
           }
          },
          "shapedefaults": {
           "line": {
            "color": "#2a3f5f"
           }
          },
          "ternary": {
           "aaxis": {
            "gridcolor": "white",
            "linecolor": "white",
            "ticks": ""
           },
           "baxis": {
            "gridcolor": "white",
            "linecolor": "white",
            "ticks": ""
           },
           "bgcolor": "#E5ECF6",
           "caxis": {
            "gridcolor": "white",
            "linecolor": "white",
            "ticks": ""
           }
          },
          "title": {
           "x": 0.05
          },
          "xaxis": {
           "automargin": true,
           "gridcolor": "white",
           "linecolor": "white",
           "ticks": "",
           "title": {
            "standoff": 15
           },
           "zerolinecolor": "white",
           "zerolinewidth": 2
          },
          "yaxis": {
           "automargin": true,
           "gridcolor": "white",
           "linecolor": "white",
           "ticks": "",
           "title": {
            "standoff": 15
           },
           "zerolinecolor": "white",
           "zerolinewidth": 2
          }
         }
        },
        "xaxis": {
         "anchor": "y",
         "domain": [
          0,
          1
         ],
         "title": {
          "text": "Month"
         }
        },
        "yaxis": {
         "anchor": "x",
         "domain": [
          0,
          1
         ],
         "title": {
          "text": "Case Count"
         }
        }
       }
      }
     },
     "metadata": {},
     "output_type": "display_data"
    }
   ],
   "source": [
    "px.bar(month_wise_cases,'Month','Case Count')"
   ]
  },
  {
   "cell_type": "code",
   "execution_count": 94,
   "metadata": {},
   "outputs": [],
   "source": [
    "def num_to_months(num):\n",
    "    months=['Jan','Feb','Mar','Apr','May','June','July','Aug','Sep','Oct','Nov','Dec']\n",
    "    \n",
    "    return months[num-1]"
   ]
  },
  {
   "cell_type": "code",
   "execution_count": 100,
   "metadata": {},
   "outputs": [],
   "source": [
    "#month_wise_cases['Month'] = month_wise_cases['Month'].apply(num_to_months)"
   ]
  },
  {
   "cell_type": "code",
   "execution_count": 97,
   "metadata": {},
   "outputs": [
    {
     "data": {
      "application/vnd.plotly.v1+json": {
       "config": {
        "plotlyServerURL": "https://plot.ly"
       },
       "data": [
        {
         "alignmentgroup": "True",
         "hovertemplate": "Month=%{x}<br>Case Count=%{y}<extra></extra>",
         "legendgroup": "",
         "marker": {
          "color": "#636efa",
          "pattern": {
           "shape": ""
          }
         },
         "name": "",
         "offsetgroup": "",
         "orientation": "v",
         "showlegend": false,
         "textposition": "auto",
         "type": "bar",
         "x": [
          "01-01-2016 0.00",
          "01-02-2016 0.00",
          "01-03-2016 0.00",
          "01-04-2016 0.00",
          "01-05-2016 0.00",
          "01-06-2016 0.00",
          "01-07-2016 0.00",
          "01-08-2016 0.00",
          "01-09-2016 0.00",
          "01-10-2016 0.00",
          "01-11-2016 0.00",
          "01-12-2016 0.00",
          "01/13/2016 12:00:00 AM",
          "01/14/2016 12:00:00 AM",
          "01/15/2016 12:00:00 AM",
          "01/16/2016 12:00:00 AM",
          "01/17/2016 12:00:00 AM",
          "01/18/2016 12:00:00 AM",
          "01/19/2016 12:00:00 AM",
          "01/20/2016 12:00:00 AM",
          "01/21/2016 12:00:00 AM",
          "01/22/2016 12:00:00 AM",
          "01/23/2016 12:00:00 AM",
          "01/24/2016 12:00:00 AM",
          "01/25/2016 12:00:00 AM",
          "01/26/2016 12:00:00 AM",
          "01/27/2016 12:00:00 AM",
          "01/28/2016 12:00:00 AM",
          "01/29/2016 12:00:00 AM",
          "01/30/2016 12:00:00 AM",
          "01/31/2016 12:00:00 AM",
          "02-01-2016 0.00",
          "02-02-2016 0.00",
          "02-03-2016 0.00",
          "02-04-2016 0.00",
          "02-05-2016 0.00",
          "02-06-2016 0.00",
          "02-07-2016 0.00",
          "02-08-2016 0.00",
          "02-09-2016 0.00",
          "02-10-2016 0.00",
          "02-11-2016 0.00",
          "02-12-2016 0.00",
          "02/13/2016 12:00:00 AM",
          "02/14/2016 12:00:00 AM",
          "02/15/2016 12:00:00 AM",
          "02/16/2016 12:00:00 AM",
          "02/17/2016 12:00:00 AM",
          "02/18/2016 12:00:00 AM",
          "02/19/2016 12:00:00 AM",
          "02/20/2016 12:00:00 AM",
          "02/21/2016 12:00:00 AM",
          "02/22/2016 12:00:00 AM",
          "02/23/2016 12:00:00 AM",
          "02/24/2016 12:00:00 AM",
          "02/25/2016 12:00:00 AM",
          "02/26/2016 12:00:00 AM",
          "02/27/2016 12:00:00 AM",
          "02/28/2016 12:00:00 AM",
          "02/29/2016 12:00:00 AM",
          "03-01-2016 0.00",
          "03-02-2016 0.00",
          "03-03-2016 0.00",
          "03-04-2016 0.00",
          "03-05-2016 0.00",
          "03-06-2016 0.00",
          "03-07-2016 0.00",
          "03-08-2016 0.00",
          "03-09-2016 0.00",
          "03-10-2016 0.00",
          "03-11-2016 0.00",
          "03-12-2016 0.00",
          "03/13/2016 12:00:00 AM",
          "03/14/2016 12:00:00 AM",
          "03/15/2016 12:00:00 AM",
          "03/16/2016 12:00:00 AM",
          "03/17/2016 12:00:00 AM",
          "03/18/2016 12:00:00 AM",
          "03/19/2016 12:00:00 AM",
          "03/20/2016 12:00:00 AM",
          "03/21/2016 12:00:00 AM",
          "03/22/2016 12:00:00 AM",
          "03/23/2016 12:00:00 AM",
          "03/24/2016 12:00:00 AM",
          "03/25/2016 12:00:00 AM",
          "03/26/2016 12:00:00 AM",
          "03/27/2016 12:00:00 AM",
          "03/28/2016 12:00:00 AM",
          "03/29/2016 12:00:00 AM",
          "03/30/2016 12:00:00 AM",
          "03/31/2016 12:00:00 AM",
          "04-01-2016 0.00",
          "04-02-2016 0.00",
          "04-03-2016 0.00",
          "04-04-2016 0.00",
          "04-05-2016 0.00",
          "04-06-2016 0.00",
          "04-07-2016 0.00",
          "04-08-2016 0.00",
          "04-09-2016 0.00",
          "04-10-2016 0.00",
          "04-11-2016 0.00",
          "04-12-2016 0.00",
          "04/13/2016 12:00:00 AM",
          "04/16/2016 12:00:00 AM",
          "04/17/2016 12:00:00 AM",
          "04/18/2016 12:00:00 AM",
          "04/20/2016 12:00:00 AM",
          "04/22/2016 12:00:00 AM",
          "04/23/2016 12:00:00 AM",
          "04/24/2016 12:00:00 AM",
          "04/25/2016 12:00:00 AM",
          "04/26/2016 12:00:00 AM",
          "04/27/2016 12:00:00 AM",
          "04/28/2016 12:00:00 AM",
          "04/30/2016 12:00:00 AM",
          "05-01-2016 0.00",
          "05-03-2016 0.00",
          "05-04-2016 0.00",
          "05-06-2016 0.00",
          "05-07-2016 0.00",
          "05-08-2016 0.00",
          "05-10-2016 0.00",
          "05-11-2016 0.00",
          "05-12-2016 0.00",
          "05/15/2016 12:00:00 AM",
          "05/16/2016 12:00:00 AM",
          "05/17/2016 12:00:00 AM",
          "05/18/2016 12:00:00 AM",
          "05/19/2016 12:00:00 AM",
          "05/20/2016 12:00:00 AM",
          "05/21/2016 12:00:00 AM",
          "05/23/2016 12:00:00 AM",
          "05/24/2016 12:00:00 AM",
          "05/25/2016 12:00:00 AM",
          "05/26/2016 12:00:00 AM",
          "06-02-2016 0.00",
          "06-04-2016 0.00",
          "06-07-2016 0.00",
          "06-08-2016 0.00",
          "06-09-2016 0.00",
          "06-10-2016 0.00",
          "06-11-2016 0.00",
          "06-12-2016 0.00",
          "06/13/2016 12:00:00 AM",
          "06/14/2016 12:00:00 AM",
          "06/15/2016 12:00:00 AM",
          "06/16/2016 12:00:00 AM",
          "06/17/2016 12:00:00 AM",
          "06/18/2016 12:00:00 AM",
          "06/20/2016 12:00:00 AM",
          "06/21/2016 12:00:00 AM",
          "06/22/2016 12:00:00 AM",
          "06/23/2016 12:00:00 AM",
          "06/24/2016 12:00:00 AM",
          "06/25/2016 12:00:00 AM",
          "06/26/2016 12:00:00 AM",
          "06/27/2016 12:00:00 AM",
          "06/28/2016 12:00:00 AM",
          "06/29/2016 12:00:00 AM",
          "06/30/2016 12:00:00 AM",
          "07-01-2016 0.00",
          "07-02-2016 0.00",
          "07-03-2016 0.00",
          "07-04-2016 0.00",
          "07-05-2016 0.00",
          "07-06-2016 0.00",
          "07-07-2016 0.00",
          "07-08-2016 0.00",
          "07-09-2016 0.00",
          "07-10-2016 0.00",
          "07-11-2016 0.00",
          "07-12-2016 0.00",
          "07/14/2016 12:00:00 AM",
          "07/15/2016 12:00:00 AM",
          "07/16/2016 12:00:00 AM",
          "07/17/2016 12:00:00 AM",
          "07/18/2016 12:00:00 AM",
          "07/19/2016 12:00:00 AM",
          "07/20/2016 12:00:00 AM",
          "07/21/2016 12:00:00 AM",
          "07/22/2016 12:00:00 AM",
          "07/23/2016 12:00:00 AM",
          "07/24/2016 12:00:00 AM",
          "07/25/2016 12:00:00 AM",
          "07/26/2016 12:00:00 AM",
          "07/27/2016 12:00:00 AM",
          "07/28/2016 12:00:00 AM",
          "07/29/2016 12:00:00 AM",
          "07/30/2016 12:00:00 AM",
          "07/31/2016 12:00:00 AM",
          "08-01-2016 0.00",
          "08-02-2016 0.00",
          "08-03-2016 0.00",
          "08-04-2016 0.00",
          "08-05-2016 0.00",
          "08-06-2016 0.00",
          "08-07-2016 0.00",
          "08-08-2016 0.00",
          "08-09-2016 0.00",
          "08-10-2016 0.00",
          "08-11-2016 0.00",
          "08-12-2016 0.00",
          "08/13/2016 12:00:00 AM",
          "08/14/2016 12:00:00 AM",
          "08/15/2016 12:00:00 AM",
          "08/16/2016 12:00:00 AM",
          "08/17/2016 12:00:00 AM",
          "08/18/2016 12:00:00 AM",
          "08/19/2016 12:00:00 AM",
          "08/20/2016 12:00:00 AM",
          "08/21/2016 12:00:00 AM",
          "08/22/2016 12:00:00 AM",
          "08/23/2016 12:00:00 AM",
          "08/24/2016 12:00:00 AM",
          "08/25/2016 12:00:00 AM",
          "08/26/2016 12:00:00 AM",
          "08/27/2016 12:00:00 AM",
          "08/28/2016 12:00:00 AM",
          "08/29/2016 12:00:00 AM",
          "08/30/2016 12:00:00 AM",
          "08/31/2016 12:00:00 AM",
          "09-01-2016 0.00",
          "09-02-2016 0.00",
          "09-03-2016 0.00",
          "09-04-2016 0.00",
          "09-05-2016 0.00",
          "09-06-2016 0.00",
          "09-07-2016 0.00",
          "09-08-2016 0.00",
          "09-09-2016 0.00",
          "09-10-2016 0.00",
          "09-11-2016 0.00",
          "09-12-2016 0.00",
          "09/13/2016 12:00:00 AM",
          "09/14/2016 12:00:00 AM",
          "09/15/2016 12:00:00 AM",
          "09/16/2016 12:00:00 AM",
          "09/17/2016 12:00:00 AM",
          "09/18/2016 12:00:00 AM",
          "09/19/2016 12:00:00 AM",
          "09/20/2016 12:00:00 AM",
          "09/21/2016 12:00:00 AM",
          "09/22/2016 12:00:00 AM",
          "09/23/2016 12:00:00 AM",
          "09/24/2016 12:00:00 AM",
          "09/25/2016 12:00:00 AM",
          "09/26/2016 12:00:00 AM",
          "09/27/2016 12:00:00 AM",
          "09/28/2016 12:00:00 AM",
          "09/29/2016 12:00:00 AM",
          "09/30/2016 12:00:00 AM",
          "10-01-2016 0.00",
          "10-02-2016 0.00",
          "10-03-2016 0.00",
          "10-04-2016 0.00",
          "10-05-2016 0.00",
          "10-06-2016 0.00",
          "10-07-2016 0.00",
          "10-08-2016 0.00",
          "10-09-2016 0.00",
          "10-10-2016 0.00",
          "10-11-2016 0.00",
          "10-12-2016 0.00",
          "10/13/2016 12:00:00 AM",
          "10/14/2016 12:00:00 AM",
          "10/15/2016 12:00:00 AM",
          "10/16/2016 12:00:00 AM",
          "10/17/2016 12:00:00 AM",
          "10/18/2016 12:00:00 AM",
          "10/19/2016 12:00:00 AM",
          "10/20/2016 12:00:00 AM",
          "10/21/2016 12:00:00 AM",
          "10/22/2016 12:00:00 AM",
          "10/23/2016 12:00:00 AM",
          "10/24/2016 12:00:00 AM",
          "10/25/2016 12:00:00 AM",
          "10/26/2016 12:00:00 AM",
          "10/27/2016 12:00:00 AM",
          "10/28/2016 12:00:00 AM",
          "10/29/2016 12:00:00 AM",
          "10/30/2016 12:00:00 AM",
          "10/31/2016 12:00:00 AM",
          "11-01-2016 0.00",
          "11-02-2016 0.00",
          "11/14/2016 12:00:00 AM",
          "11/18/2016 12:00:00 AM",
          "12-08-2016 0.00",
          "12/21/2016 12:00:00 AM"
         ],
         "xaxis": "x",
         "y": [
          110,
          21,
          21,
          18,
          56,
          50,
          85,
          84,
          55,
          74,
          64,
          69,
          67,
          70,
          73,
          65,
          85,
          61,
          71,
          54,
          46,
          59,
          74,
          53,
          64,
          89,
          76,
          74,
          117,
          105,
          87,
          80,
          107,
          105,
          88,
          109,
          80,
          111,
          65,
          78,
          80,
          96,
          93,
          92,
          57,
          107,
          93,
          97,
          97,
          97,
          92,
          48,
          68,
          56,
          58,
          48,
          60,
          65,
          72,
          88,
          63,
          95,
          57,
          71,
          83,
          85,
          96,
          96,
          112,
          89,
          91,
          88,
          71,
          103,
          110,
          108,
          140,
          137,
          104,
          116,
          117,
          131,
          130,
          99,
          136,
          152,
          153,
          112,
          140,
          151,
          125,
          153,
          132,
          85,
          138,
          94,
          130,
          123,
          107,
          93,
          121,
          100,
          6,
          3,
          1,
          2,
          4,
          1,
          4,
          2,
          6,
          3,
          3,
          8,
          9,
          6,
          4,
          6,
          3,
          6,
          3,
          2,
          1,
          1,
          5,
          1,
          4,
          9,
          6,
          5,
          5,
          9,
          1,
          6,
          2,
          3,
          1,
          4,
          1,
          1,
          5,
          1,
          5,
          2,
          2,
          5,
          10,
          3,
          2,
          3,
          8,
          8,
          1,
          5,
          7,
          4,
          4,
          2,
          6,
          9,
          12,
          4,
          6,
          3,
          9,
          10,
          7,
          3,
          4,
          4,
          4,
          6,
          5,
          2,
          2,
          7,
          3,
          5,
          8,
          5,
          3,
          4,
          5,
          3,
          11,
          1,
          2,
          4,
          7,
          3,
          9,
          9,
          2,
          4,
          6,
          9,
          2,
          8,
          4,
          6,
          4,
          5,
          2,
          8,
          2,
          3,
          5,
          8,
          2,
          4,
          3,
          12,
          1,
          2,
          2,
          1,
          5,
          12,
          11,
          4,
          8,
          6,
          3,
          5,
          1,
          1,
          5,
          4,
          1,
          3,
          8,
          9,
          4,
          1,
          4,
          3,
          1,
          7,
          7,
          8,
          7,
          2,
          4,
          11,
          3,
          13,
          5,
          2,
          3,
          1,
          8,
          4,
          2,
          1,
          9,
          6,
          3,
          6,
          12,
          13,
          3,
          10,
          8,
          2,
          7,
          4,
          10,
          6,
          7,
          4,
          6,
          5,
          5,
          10,
          5,
          9,
          5,
          5,
          8,
          1,
          4,
          3,
          3,
          3,
          8,
          1,
          1,
          4,
          1
         ],
         "yaxis": "y"
        }
       ],
       "layout": {
        "barmode": "relative",
        "legend": {
         "tracegroupgap": 0
        },
        "margin": {
         "t": 60
        },
        "template": {
         "data": {
          "bar": [
           {
            "error_x": {
             "color": "#2a3f5f"
            },
            "error_y": {
             "color": "#2a3f5f"
            },
            "marker": {
             "line": {
              "color": "#E5ECF6",
              "width": 0.5
             },
             "pattern": {
              "fillmode": "overlay",
              "size": 10,
              "solidity": 0.2
             }
            },
            "type": "bar"
           }
          ],
          "barpolar": [
           {
            "marker": {
             "line": {
              "color": "#E5ECF6",
              "width": 0.5
             },
             "pattern": {
              "fillmode": "overlay",
              "size": 10,
              "solidity": 0.2
             }
            },
            "type": "barpolar"
           }
          ],
          "carpet": [
           {
            "aaxis": {
             "endlinecolor": "#2a3f5f",
             "gridcolor": "white",
             "linecolor": "white",
             "minorgridcolor": "white",
             "startlinecolor": "#2a3f5f"
            },
            "baxis": {
             "endlinecolor": "#2a3f5f",
             "gridcolor": "white",
             "linecolor": "white",
             "minorgridcolor": "white",
             "startlinecolor": "#2a3f5f"
            },
            "type": "carpet"
           }
          ],
          "choropleth": [
           {
            "colorbar": {
             "outlinewidth": 0,
             "ticks": ""
            },
            "type": "choropleth"
           }
          ],
          "contour": [
           {
            "colorbar": {
             "outlinewidth": 0,
             "ticks": ""
            },
            "colorscale": [
             [
              0,
              "#0d0887"
             ],
             [
              0.1111111111111111,
              "#46039f"
             ],
             [
              0.2222222222222222,
              "#7201a8"
             ],
             [
              0.3333333333333333,
              "#9c179e"
             ],
             [
              0.4444444444444444,
              "#bd3786"
             ],
             [
              0.5555555555555556,
              "#d8576b"
             ],
             [
              0.6666666666666666,
              "#ed7953"
             ],
             [
              0.7777777777777778,
              "#fb9f3a"
             ],
             [
              0.8888888888888888,
              "#fdca26"
             ],
             [
              1,
              "#f0f921"
             ]
            ],
            "type": "contour"
           }
          ],
          "contourcarpet": [
           {
            "colorbar": {
             "outlinewidth": 0,
             "ticks": ""
            },
            "type": "contourcarpet"
           }
          ],
          "heatmap": [
           {
            "colorbar": {
             "outlinewidth": 0,
             "ticks": ""
            },
            "colorscale": [
             [
              0,
              "#0d0887"
             ],
             [
              0.1111111111111111,
              "#46039f"
             ],
             [
              0.2222222222222222,
              "#7201a8"
             ],
             [
              0.3333333333333333,
              "#9c179e"
             ],
             [
              0.4444444444444444,
              "#bd3786"
             ],
             [
              0.5555555555555556,
              "#d8576b"
             ],
             [
              0.6666666666666666,
              "#ed7953"
             ],
             [
              0.7777777777777778,
              "#fb9f3a"
             ],
             [
              0.8888888888888888,
              "#fdca26"
             ],
             [
              1,
              "#f0f921"
             ]
            ],
            "type": "heatmap"
           }
          ],
          "heatmapgl": [
           {
            "colorbar": {
             "outlinewidth": 0,
             "ticks": ""
            },
            "colorscale": [
             [
              0,
              "#0d0887"
             ],
             [
              0.1111111111111111,
              "#46039f"
             ],
             [
              0.2222222222222222,
              "#7201a8"
             ],
             [
              0.3333333333333333,
              "#9c179e"
             ],
             [
              0.4444444444444444,
              "#bd3786"
             ],
             [
              0.5555555555555556,
              "#d8576b"
             ],
             [
              0.6666666666666666,
              "#ed7953"
             ],
             [
              0.7777777777777778,
              "#fb9f3a"
             ],
             [
              0.8888888888888888,
              "#fdca26"
             ],
             [
              1,
              "#f0f921"
             ]
            ],
            "type": "heatmapgl"
           }
          ],
          "histogram": [
           {
            "marker": {
             "pattern": {
              "fillmode": "overlay",
              "size": 10,
              "solidity": 0.2
             }
            },
            "type": "histogram"
           }
          ],
          "histogram2d": [
           {
            "colorbar": {
             "outlinewidth": 0,
             "ticks": ""
            },
            "colorscale": [
             [
              0,
              "#0d0887"
             ],
             [
              0.1111111111111111,
              "#46039f"
             ],
             [
              0.2222222222222222,
              "#7201a8"
             ],
             [
              0.3333333333333333,
              "#9c179e"
             ],
             [
              0.4444444444444444,
              "#bd3786"
             ],
             [
              0.5555555555555556,
              "#d8576b"
             ],
             [
              0.6666666666666666,
              "#ed7953"
             ],
             [
              0.7777777777777778,
              "#fb9f3a"
             ],
             [
              0.8888888888888888,
              "#fdca26"
             ],
             [
              1,
              "#f0f921"
             ]
            ],
            "type": "histogram2d"
           }
          ],
          "histogram2dcontour": [
           {
            "colorbar": {
             "outlinewidth": 0,
             "ticks": ""
            },
            "colorscale": [
             [
              0,
              "#0d0887"
             ],
             [
              0.1111111111111111,
              "#46039f"
             ],
             [
              0.2222222222222222,
              "#7201a8"
             ],
             [
              0.3333333333333333,
              "#9c179e"
             ],
             [
              0.4444444444444444,
              "#bd3786"
             ],
             [
              0.5555555555555556,
              "#d8576b"
             ],
             [
              0.6666666666666666,
              "#ed7953"
             ],
             [
              0.7777777777777778,
              "#fb9f3a"
             ],
             [
              0.8888888888888888,
              "#fdca26"
             ],
             [
              1,
              "#f0f921"
             ]
            ],
            "type": "histogram2dcontour"
           }
          ],
          "mesh3d": [
           {
            "colorbar": {
             "outlinewidth": 0,
             "ticks": ""
            },
            "type": "mesh3d"
           }
          ],
          "parcoords": [
           {
            "line": {
             "colorbar": {
              "outlinewidth": 0,
              "ticks": ""
             }
            },
            "type": "parcoords"
           }
          ],
          "pie": [
           {
            "automargin": true,
            "type": "pie"
           }
          ],
          "scatter": [
           {
            "fillpattern": {
             "fillmode": "overlay",
             "size": 10,
             "solidity": 0.2
            },
            "type": "scatter"
           }
          ],
          "scatter3d": [
           {
            "line": {
             "colorbar": {
              "outlinewidth": 0,
              "ticks": ""
             }
            },
            "marker": {
             "colorbar": {
              "outlinewidth": 0,
              "ticks": ""
             }
            },
            "type": "scatter3d"
           }
          ],
          "scattercarpet": [
           {
            "marker": {
             "colorbar": {
              "outlinewidth": 0,
              "ticks": ""
             }
            },
            "type": "scattercarpet"
           }
          ],
          "scattergeo": [
           {
            "marker": {
             "colorbar": {
              "outlinewidth": 0,
              "ticks": ""
             }
            },
            "type": "scattergeo"
           }
          ],
          "scattergl": [
           {
            "marker": {
             "colorbar": {
              "outlinewidth": 0,
              "ticks": ""
             }
            },
            "type": "scattergl"
           }
          ],
          "scattermapbox": [
           {
            "marker": {
             "colorbar": {
              "outlinewidth": 0,
              "ticks": ""
             }
            },
            "type": "scattermapbox"
           }
          ],
          "scatterpolar": [
           {
            "marker": {
             "colorbar": {
              "outlinewidth": 0,
              "ticks": ""
             }
            },
            "type": "scatterpolar"
           }
          ],
          "scatterpolargl": [
           {
            "marker": {
             "colorbar": {
              "outlinewidth": 0,
              "ticks": ""
             }
            },
            "type": "scatterpolargl"
           }
          ],
          "scatterternary": [
           {
            "marker": {
             "colorbar": {
              "outlinewidth": 0,
              "ticks": ""
             }
            },
            "type": "scatterternary"
           }
          ],
          "surface": [
           {
            "colorbar": {
             "outlinewidth": 0,
             "ticks": ""
            },
            "colorscale": [
             [
              0,
              "#0d0887"
             ],
             [
              0.1111111111111111,
              "#46039f"
             ],
             [
              0.2222222222222222,
              "#7201a8"
             ],
             [
              0.3333333333333333,
              "#9c179e"
             ],
             [
              0.4444444444444444,
              "#bd3786"
             ],
             [
              0.5555555555555556,
              "#d8576b"
             ],
             [
              0.6666666666666666,
              "#ed7953"
             ],
             [
              0.7777777777777778,
              "#fb9f3a"
             ],
             [
              0.8888888888888888,
              "#fdca26"
             ],
             [
              1,
              "#f0f921"
             ]
            ],
            "type": "surface"
           }
          ],
          "table": [
           {
            "cells": {
             "fill": {
              "color": "#EBF0F8"
             },
             "line": {
              "color": "white"
             }
            },
            "header": {
             "fill": {
              "color": "#C8D4E3"
             },
             "line": {
              "color": "white"
             }
            },
            "type": "table"
           }
          ]
         },
         "layout": {
          "annotationdefaults": {
           "arrowcolor": "#2a3f5f",
           "arrowhead": 0,
           "arrowwidth": 1
          },
          "autotypenumbers": "strict",
          "coloraxis": {
           "colorbar": {
            "outlinewidth": 0,
            "ticks": ""
           }
          },
          "colorscale": {
           "diverging": [
            [
             0,
             "#8e0152"
            ],
            [
             0.1,
             "#c51b7d"
            ],
            [
             0.2,
             "#de77ae"
            ],
            [
             0.3,
             "#f1b6da"
            ],
            [
             0.4,
             "#fde0ef"
            ],
            [
             0.5,
             "#f7f7f7"
            ],
            [
             0.6,
             "#e6f5d0"
            ],
            [
             0.7,
             "#b8e186"
            ],
            [
             0.8,
             "#7fbc41"
            ],
            [
             0.9,
             "#4d9221"
            ],
            [
             1,
             "#276419"
            ]
           ],
           "sequential": [
            [
             0,
             "#0d0887"
            ],
            [
             0.1111111111111111,
             "#46039f"
            ],
            [
             0.2222222222222222,
             "#7201a8"
            ],
            [
             0.3333333333333333,
             "#9c179e"
            ],
            [
             0.4444444444444444,
             "#bd3786"
            ],
            [
             0.5555555555555556,
             "#d8576b"
            ],
            [
             0.6666666666666666,
             "#ed7953"
            ],
            [
             0.7777777777777778,
             "#fb9f3a"
            ],
            [
             0.8888888888888888,
             "#fdca26"
            ],
            [
             1,
             "#f0f921"
            ]
           ],
           "sequentialminus": [
            [
             0,
             "#0d0887"
            ],
            [
             0.1111111111111111,
             "#46039f"
            ],
            [
             0.2222222222222222,
             "#7201a8"
            ],
            [
             0.3333333333333333,
             "#9c179e"
            ],
            [
             0.4444444444444444,
             "#bd3786"
            ],
            [
             0.5555555555555556,
             "#d8576b"
            ],
            [
             0.6666666666666666,
             "#ed7953"
            ],
            [
             0.7777777777777778,
             "#fb9f3a"
            ],
            [
             0.8888888888888888,
             "#fdca26"
            ],
            [
             1,
             "#f0f921"
            ]
           ]
          },
          "colorway": [
           "#636efa",
           "#EF553B",
           "#00cc96",
           "#ab63fa",
           "#FFA15A",
           "#19d3f3",
           "#FF6692",
           "#B6E880",
           "#FF97FF",
           "#FECB52"
          ],
          "font": {
           "color": "#2a3f5f"
          },
          "geo": {
           "bgcolor": "white",
           "lakecolor": "white",
           "landcolor": "#E5ECF6",
           "showlakes": true,
           "showland": true,
           "subunitcolor": "white"
          },
          "hoverlabel": {
           "align": "left"
          },
          "hovermode": "closest",
          "mapbox": {
           "style": "light"
          },
          "paper_bgcolor": "white",
          "plot_bgcolor": "#E5ECF6",
          "polar": {
           "angularaxis": {
            "gridcolor": "white",
            "linecolor": "white",
            "ticks": ""
           },
           "bgcolor": "#E5ECF6",
           "radialaxis": {
            "gridcolor": "white",
            "linecolor": "white",
            "ticks": ""
           }
          },
          "scene": {
           "xaxis": {
            "backgroundcolor": "#E5ECF6",
            "gridcolor": "white",
            "gridwidth": 2,
            "linecolor": "white",
            "showbackground": true,
            "ticks": "",
            "zerolinecolor": "white"
           },
           "yaxis": {
            "backgroundcolor": "#E5ECF6",
            "gridcolor": "white",
            "gridwidth": 2,
            "linecolor": "white",
            "showbackground": true,
            "ticks": "",
            "zerolinecolor": "white"
           },
           "zaxis": {
            "backgroundcolor": "#E5ECF6",
            "gridcolor": "white",
            "gridwidth": 2,
            "linecolor": "white",
            "showbackground": true,
            "ticks": "",
            "zerolinecolor": "white"
           }
          },
          "shapedefaults": {
           "line": {
            "color": "#2a3f5f"
           }
          },
          "ternary": {
           "aaxis": {
            "gridcolor": "white",
            "linecolor": "white",
            "ticks": ""
           },
           "baxis": {
            "gridcolor": "white",
            "linecolor": "white",
            "ticks": ""
           },
           "bgcolor": "#E5ECF6",
           "caxis": {
            "gridcolor": "white",
            "linecolor": "white",
            "ticks": ""
           }
          },
          "title": {
           "x": 0.05
          },
          "xaxis": {
           "automargin": true,
           "gridcolor": "white",
           "linecolor": "white",
           "ticks": "",
           "title": {
            "standoff": 15
           },
           "zerolinecolor": "white",
           "zerolinewidth": 2
          },
          "yaxis": {
           "automargin": true,
           "gridcolor": "white",
           "linecolor": "white",
           "ticks": "",
           "title": {
            "standoff": 15
           },
           "zerolinecolor": "white",
           "zerolinewidth": 2
          }
         }
        },
        "xaxis": {
         "anchor": "y",
         "domain": [
          0,
          1
         ],
         "title": {
          "text": "Month"
         }
        },
        "yaxis": {
         "anchor": "x",
         "domain": [
          0,
          1
         ],
         "title": {
          "text": "Case Count"
         }
        }
       }
      }
     },
     "metadata": {},
     "output_type": "display_data"
    }
   ],
   "source": [
    "px.bar(month_wise_cases, 'Month','Case Count')"
   ]
  },
  {
   "cell_type": "code",
   "execution_count": null,
   "metadata": {},
   "outputs": [],
   "source": []
  }
 ],
 "metadata": {
  "kernelspec": {
   "display_name": "Python 3.9.13 ('base')",
   "language": "python",
   "name": "python3"
  },
  "language_info": {
   "codemirror_mode": {
    "name": "ipython",
    "version": 3
   },
   "file_extension": ".py",
   "mimetype": "text/x-python",
   "name": "python",
   "nbconvert_exporter": "python",
   "pygments_lexer": "ipython3",
   "version": "3.9.13"
  },
  "orig_nbformat": 4,
  "vscode": {
   "interpreter": {
    "hash": "193aa6218da7f76a59dc2bd6ea87d2b224c2417ad29cdf12ab4b4772313a8948"
   }
  }
 },
 "nbformat": 4,
 "nbformat_minor": 2
}
