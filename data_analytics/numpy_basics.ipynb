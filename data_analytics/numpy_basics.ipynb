{
 "cells": [
  {
   "cell_type": "code",
   "execution_count": 3,
   "metadata": {},
   "outputs": [],
   "source": [
    "import numpy as np"
   ]
  },
  {
   "cell_type": "code",
   "execution_count": 4,
   "metadata": {},
   "outputs": [
    {
     "name": "stdout",
     "output_type": "stream",
     "text": [
      "[1 2 3 4]\n"
     ]
    }
   ],
   "source": [
    "x = np.array([1,2,3,4])\n",
    "print(x)"
   ]
  },
  {
   "cell_type": "code",
   "execution_count": 5,
   "metadata": {},
   "outputs": [
    {
     "name": "stdout",
     "output_type": "stream",
     "text": [
      "[[2 3]\n",
      " [5 6]]\n"
     ]
    }
   ],
   "source": [
    "x2 = np.array([[2,3],[5,6]])\n",
    "print(x2)"
   ]
  },
  {
   "cell_type": "code",
   "execution_count": 6,
   "metadata": {},
   "outputs": [
    {
     "name": "stdout",
     "output_type": "stream",
     "text": [
      "(4,)\n",
      "(2, 2)\n",
      "1\n",
      "2\n"
     ]
    }
   ],
   "source": [
    "print(x.shape)\n",
    "print(x2.shape)\n",
    "print(x.ndim)\n",
    "print(x2.ndim)"
   ]
  },
  {
   "cell_type": "code",
   "execution_count": 7,
   "metadata": {},
   "outputs": [
    {
     "name": "stdout",
     "output_type": "stream",
     "text": [
      "[-5.  -4.5 -4.  -3.5 -3.  -2.5 -2.  -1.5 -1.  -0.5  0.   0.5  1.   1.5\n",
      "  2.   2.5  3.   3.5  4.   4.5  5.   5.5]\n",
      "22\n",
      "(22,)\n"
     ]
    }
   ],
   "source": [
    "a = np.arange(-5,6,.5)\n",
    "print(a)\n",
    "print(a.size)       # gives number of elements\n",
    "print(a.shape)      # finds rows and columns"
   ]
  },
  {
   "cell_type": "code",
   "execution_count": 8,
   "metadata": {},
   "outputs": [
    {
     "name": "stdout",
     "output_type": "stream",
     "text": [
      "[ 1.          1.18367347  1.36734694  1.55102041  1.73469388  1.91836735\n",
      "  2.10204082  2.28571429  2.46938776  2.65306122  2.83673469  3.02040816\n",
      "  3.20408163  3.3877551   3.57142857  3.75510204  3.93877551  4.12244898\n",
      "  4.30612245  4.48979592  4.67346939  4.85714286  5.04081633  5.2244898\n",
      "  5.40816327  5.59183673  5.7755102   5.95918367  6.14285714  6.32653061\n",
      "  6.51020408  6.69387755  6.87755102  7.06122449  7.24489796  7.42857143\n",
      "  7.6122449   7.79591837  7.97959184  8.16326531  8.34693878  8.53061224\n",
      "  8.71428571  8.89795918  9.08163265  9.26530612  9.44897959  9.63265306\n",
      "  9.81632653 10.        ]\n"
     ]
    }
   ],
   "source": [
    "b = np.linspace(1,10,50)        # total no. of elements=50 , linear spacing\n",
    "print(b)\n"
   ]
  },
  {
   "cell_type": "code",
   "execution_count": 9,
   "metadata": {},
   "outputs": [
    {
     "name": "stdout",
     "output_type": "stream",
     "text": [
      "[[0.08647046 0.69209787 0.74541771]\n",
      " [0.98113154 0.83863029 0.06871539]\n",
      " [0.29315535 0.2364139  0.22725415]]\n"
     ]
    }
   ],
   "source": [
    "c = np.random.random((3,3))     #(3,3) is size of matrix\n",
    "print(c)"
   ]
  },
  {
   "cell_type": "code",
   "execution_count": 10,
   "metadata": {},
   "outputs": [
    {
     "name": "stdout",
     "output_type": "stream",
     "text": [
      "[[0.82417726 0.86023104 0.56232924 0.76573896 0.6955541 ]\n",
      " [0.83940548 0.07651256 0.82779505 0.44310056 0.37757123]\n",
      " [0.5400949  0.60594145 0.13536471 0.84666817 0.64005649]\n",
      " [0.40700568 0.66890317 0.20883165 0.16740069 0.63450643]\n",
      " [0.89091677 0.69797165 0.32881378 0.20295235 0.1543314 ]]\n"
     ]
    }
   ],
   "source": [
    "d = np.random.random((5,5))     \n",
    "print(d)"
   ]
  },
  {
   "cell_type": "code",
   "execution_count": 11,
   "metadata": {},
   "outputs": [
    {
     "name": "stdout",
     "output_type": "stream",
     "text": [
      "[[-0.87719337  0.9757207   0.96884007]\n",
      " [ 0.72068318 -0.92627005 -1.58343575]\n",
      " [ 0.0815038   1.45829292 -0.4946521 ]]\n",
      "(3, 3)\n",
      "9\n"
     ]
    }
   ],
   "source": [
    "e = np.random.randn(3,3)    # natural numbers\n",
    "print(e)\n",
    "print(e.shape)\n",
    "print(e.size)"
   ]
  },
  {
   "cell_type": "code",
   "execution_count": 12,
   "metadata": {},
   "outputs": [
    {
     "name": "stdout",
     "output_type": "stream",
     "text": [
      "[[[3 5 7]\n",
      "  [3 2 2]\n",
      "  [4 5 3]]\n",
      "\n",
      " [[3 2 8]\n",
      "  [1 2 9]\n",
      "  [9 4 8]]\n",
      "\n",
      " [[1 4 5]\n",
      "  [3 4 5]\n",
      "  [3 9 3]]]\n",
      "(3, 3, 3)\n",
      "27\n"
     ]
    }
   ],
   "source": [
    "f = np.random.randint(1,10,(3,3,3))\n",
    "print(f)\n",
    "print(f.shape)\n",
    "print(f.size)"
   ]
  },
  {
   "cell_type": "code",
   "execution_count": 13,
   "metadata": {},
   "outputs": [
    {
     "name": "stdout",
     "output_type": "stream",
     "text": [
      "[  1.           2.11235955   3.2247191    4.33707865   5.4494382\n",
      "   6.56179775   7.6741573    8.78651685   9.8988764   11.01123596\n",
      "  12.12359551  13.23595506  14.34831461  15.46067416  16.57303371\n",
      "  17.68539326  18.79775281  19.91011236  21.02247191  22.13483146\n",
      "  23.24719101  24.35955056  25.47191011  26.58426966  27.69662921\n",
      "  28.80898876  29.92134831  31.03370787  32.14606742  33.25842697\n",
      "  34.37078652  35.48314607  36.59550562  37.70786517  38.82022472\n",
      "  39.93258427  41.04494382  42.15730337  43.26966292  44.38202247\n",
      "  45.49438202  46.60674157  47.71910112  48.83146067  49.94382022\n",
      "  51.05617978  52.16853933  53.28089888  54.39325843  55.50561798\n",
      "  56.61797753  57.73033708  58.84269663  59.95505618  61.06741573\n",
      "  62.17977528  63.29213483  64.40449438  65.51685393  66.62921348\n",
      "  67.74157303  68.85393258  69.96629213  71.07865169  72.19101124\n",
      "  73.30337079  74.41573034  75.52808989  76.64044944  77.75280899\n",
      "  78.86516854  79.97752809  81.08988764  82.20224719  83.31460674\n",
      "  84.42696629  85.53932584  86.65168539  87.76404494  88.87640449\n",
      "  89.98876404  91.1011236   92.21348315  93.3258427   94.43820225\n",
      "  95.5505618   96.66292135  97.7752809   98.88764045 100.        ]\n",
      "(90,)\n"
     ]
    }
   ],
   "source": [
    "g = np.linspace(1,100,90)\n",
    "print(g)\n",
    "print(g.shape)"
   ]
  },
  {
   "cell_type": "code",
   "execution_count": 14,
   "metadata": {},
   "outputs": [
    {
     "name": "stdout",
     "output_type": "stream",
     "text": [
      "[[  1.           2.11235955]\n",
      " [  3.2247191    4.33707865]\n",
      " [  5.4494382    6.56179775]\n",
      " [  7.6741573    8.78651685]\n",
      " [  9.8988764   11.01123596]\n",
      " [ 12.12359551  13.23595506]\n",
      " [ 14.34831461  15.46067416]\n",
      " [ 16.57303371  17.68539326]\n",
      " [ 18.79775281  19.91011236]\n",
      " [ 21.02247191  22.13483146]\n",
      " [ 23.24719101  24.35955056]\n",
      " [ 25.47191011  26.58426966]\n",
      " [ 27.69662921  28.80898876]\n",
      " [ 29.92134831  31.03370787]\n",
      " [ 32.14606742  33.25842697]\n",
      " [ 34.37078652  35.48314607]\n",
      " [ 36.59550562  37.70786517]\n",
      " [ 38.82022472  39.93258427]\n",
      " [ 41.04494382  42.15730337]\n",
      " [ 43.26966292  44.38202247]\n",
      " [ 45.49438202  46.60674157]\n",
      " [ 47.71910112  48.83146067]\n",
      " [ 49.94382022  51.05617978]\n",
      " [ 52.16853933  53.28089888]\n",
      " [ 54.39325843  55.50561798]\n",
      " [ 56.61797753  57.73033708]\n",
      " [ 58.84269663  59.95505618]\n",
      " [ 61.06741573  62.17977528]\n",
      " [ 63.29213483  64.40449438]\n",
      " [ 65.51685393  66.62921348]\n",
      " [ 67.74157303  68.85393258]\n",
      " [ 69.96629213  71.07865169]\n",
      " [ 72.19101124  73.30337079]\n",
      " [ 74.41573034  75.52808989]\n",
      " [ 76.64044944  77.75280899]\n",
      " [ 78.86516854  79.97752809]\n",
      " [ 81.08988764  82.20224719]\n",
      " [ 83.31460674  84.42696629]\n",
      " [ 85.53932584  86.65168539]\n",
      " [ 87.76404494  88.87640449]\n",
      " [ 89.98876404  91.1011236 ]\n",
      " [ 92.21348315  93.3258427 ]\n",
      " [ 94.43820225  95.5505618 ]\n",
      " [ 96.66292135  97.7752809 ]\n",
      " [ 98.88764045 100.        ]]\n",
      "[[  1.           2.11235955   3.2247191 ]\n",
      " [  4.33707865   5.4494382    6.56179775]\n",
      " [  7.6741573    8.78651685   9.8988764 ]\n",
      " [ 11.01123596  12.12359551  13.23595506]\n",
      " [ 14.34831461  15.46067416  16.57303371]\n",
      " [ 17.68539326  18.79775281  19.91011236]\n",
      " [ 21.02247191  22.13483146  23.24719101]\n",
      " [ 24.35955056  25.47191011  26.58426966]\n",
      " [ 27.69662921  28.80898876  29.92134831]\n",
      " [ 31.03370787  32.14606742  33.25842697]\n",
      " [ 34.37078652  35.48314607  36.59550562]\n",
      " [ 37.70786517  38.82022472  39.93258427]\n",
      " [ 41.04494382  42.15730337  43.26966292]\n",
      " [ 44.38202247  45.49438202  46.60674157]\n",
      " [ 47.71910112  48.83146067  49.94382022]\n",
      " [ 51.05617978  52.16853933  53.28089888]\n",
      " [ 54.39325843  55.50561798  56.61797753]\n",
      " [ 57.73033708  58.84269663  59.95505618]\n",
      " [ 61.06741573  62.17977528  63.29213483]\n",
      " [ 64.40449438  65.51685393  66.62921348]\n",
      " [ 67.74157303  68.85393258  69.96629213]\n",
      " [ 71.07865169  72.19101124  73.30337079]\n",
      " [ 74.41573034  75.52808989  76.64044944]\n",
      " [ 77.75280899  78.86516854  79.97752809]\n",
      " [ 81.08988764  82.20224719  83.31460674]\n",
      " [ 84.42696629  85.53932584  86.65168539]\n",
      " [ 87.76404494  88.87640449  89.98876404]\n",
      " [ 91.1011236   92.21348315  93.3258427 ]\n",
      " [ 94.43820225  95.5505618   96.66292135]\n",
      " [ 97.7752809   98.88764045 100.        ]]\n"
     ]
    }
   ],
   "source": [
    "g2 = g.reshape(45,2)        # or (15,3,2) or (30,3)\n",
    "print(g2)\n",
    "g3 = g.reshape(30,3)        # or (15,3,2) or (30,3)\n",
    "print(g3)"
   ]
  },
  {
   "cell_type": "code",
   "execution_count": 15,
   "metadata": {},
   "outputs": [
    {
     "name": "stdout",
     "output_type": "stream",
     "text": [
      "[[4 5 1]\n",
      " [1 5 7]\n",
      " [6 9 9]]\n",
      "\n",
      "[[1 1 9]\n",
      " [2 9 7]\n",
      " [2 7 3]]\n"
     ]
    }
   ],
   "source": [
    "x = np.random.randint(1,10,(3,3))\n",
    "y = np.random.randint(1,10,(3,3))\n",
    "print(x)\n",
    "print()\n",
    "print(y)"
   ]
  },
  {
   "cell_type": "code",
   "execution_count": 16,
   "metadata": {},
   "outputs": [
    {
     "name": "stdout",
     "output_type": "stream",
     "text": [
      "[[ 3  4 -8]\n",
      " [-1 -4  0]\n",
      " [ 4  2  6]]\n",
      "[[ 4  5  9]\n",
      " [ 2 45 49]\n",
      " [12 63 27]]\n",
      "[[4.         5.         0.11111111]\n",
      " [0.5        0.55555556 1.        ]\n",
      " [3.         1.28571429 3.        ]]\n",
      "[[4 5 0]\n",
      " [0 0 1]\n",
      " [3 1 3]]\n",
      "[[0 0 1]\n",
      " [1 5 0]\n",
      " [0 2 0]]\n",
      "[[      4       5       1]\n",
      " [      1 1953125  823543]\n",
      " [     36 4782969     729]]\n"
     ]
    }
   ],
   "source": [
    "print(x-y)      # element wise subtraction\n",
    "print(x*y)      # element wise multiplication\n",
    "print(x/y)      # element wise division\n",
    "print(x//y)     # element wise floor division\n",
    "print(x%y)      # element wise modulus\n",
    "print(x**y)     # element wise exponentiation\n"
   ]
  },
  {
   "cell_type": "code",
   "execution_count": 17,
   "metadata": {},
   "outputs": [
    {
     "name": "stdout",
     "output_type": "stream",
     "text": [
      "[[ 16  56  74]\n",
      " [ 25  95  65]\n",
      " [ 42 150 144]]\n",
      "[[ 16  56  74]\n",
      " [ 25  95  65]\n",
      " [ 42 150 144]]\n",
      "[[ 44 -35  -1]\n",
      " [-28   7  -1]\n",
      " [-36   0  24]]\n",
      "[[ 16  56  74]\n",
      " [ 25  95  65]\n",
      " [ 42 150 144]]\n"
     ]
    }
   ],
   "source": [
    "# dot product\n",
    "print(np.dot(x,y))      # dot product\n",
    "print(x.dot(y))         # same dot product\n",
    "print(np.cross(x,y))    # cross product\n",
    "print(np.matmul(x,y))   # atrix multiplication"
   ]
  },
  {
   "cell_type": "code",
   "execution_count": 18,
   "metadata": {},
   "outputs": [
    {
     "name": "stdout",
     "output_type": "stream",
     "text": [
      "47\n",
      "[11 19 17]\n",
      "[10 13 24]\n",
      "5.222222222222222\n",
      "[3.66666667 6.33333333 5.66666667]\n",
      "[3.33333333 4.33333333 8.        ]\n",
      "2.779999111821512\n",
      "[2.05480467 1.88561808 3.39934634]\n",
      "[1.69967317 2.49443826 1.41421356]\n",
      "5.0\n",
      "[4. 5. 7.]\n",
      "[4. 5. 9.]\n"
     ]
    }
   ],
   "source": [
    "print(x.sum())      # sum of all elements\n",
    "print(x.sum(axis=0))    #sum of each coloumn\n",
    "print(x.sum(axis=1))    #sum of each row\n",
    "print(x.mean())     #mean of all elements\n",
    "print(x.mean(axis=0))   #mean of each column\n",
    "print(x.mean(axis=1))   #mean of each row\n",
    "print(x.std())  #standard deviation of all elements\n",
    "print(x.std(axis=0))    #standard deviation of each coloumn\n",
    "print(x.std(axis=1))    #standard deviation of each row\n",
    "print(np.median(x))     #median of all elements\n",
    "print(np.median(x,axis=0))      #median of each column\n",
    "print(np.median(x,axis=1))      #median of each row"
   ]
  },
  {
   "cell_type": "code",
   "execution_count": 19,
   "metadata": {},
   "outputs": [],
   "source": [
    "import matplotlib.pyplot as plt\n",
    "\n"
   ]
  },
  {
   "cell_type": "code",
   "execution_count": 20,
   "metadata": {},
   "outputs": [
    {
     "data": {
      "image/png": "[encoded data removed]",
      "text/plain": [
       "<Figure size 640x480 with 1 Axes>"
      ]
     },
     "metadata": {},
     "output_type": "display_data"
    }
   ],
   "source": [
    "t = np.linspace(0,4*np.pi,100)\n",
    "y=np.sin(t)\n",
    "x=np.cos(t)\n",
    "plt.plot(t,y)\n",
    "plt.plot(t,x,'bo')\n",
    "plt.show()"
   ]
  },
  {
   "cell_type": "code",
   "execution_count": 21,
   "metadata": {},
   "outputs": [
    {
     "data": {
      "text/plain": [
       "0.1411200080598672"
      ]
     },
     "execution_count": 21,
     "metadata": {},
     "output_type": "execute_result"
    }
   ],
   "source": [
    "np.sin(3)"
   ]
  },
  {
   "cell_type": "code",
   "execution_count": 22,
   "metadata": {},
   "outputs": [
    {
     "data": {
      "text/plain": [
       "<BarContainer object of 12 artists>"
      ]
     },
     "execution_count": 22,
     "metadata": {},
     "output_type": "execute_result"
    },
    {
     "data": {
      "image/png": "[encoded data removed]",
      "text/plain": [
       "<Figure size 640x480 with 1 Axes>"
      ]
     },
     "metadata": {},
     "output_type": "display_data"
    }
   ],
   "source": [
    "rainfall=[20,30,40,50,60,70,80,90,100,110,120,130]\n",
    "months=['Jan','Feb','Mar','Apr','May','June','July','Aug','Sep','Oct','Nov','Dec']\n",
    "plt.bar(months,rainfall)"
   ]
  },
  {
   "cell_type": "code",
   "execution_count": 23,
   "metadata": {},
   "outputs": [
    {
     "data": {
      "text/plain": [
       "array([[893, 563,  28, 137, 420],\n",
       "       [644, 639, 372, 261, 675],\n",
       "       [612, 494, 645, 613, 112],\n",
       "       [332,   7,  75, 444, 630],\n",
       "       [482, 999, 547, 397, 278]])"
      ]
     },
     "execution_count": 23,
     "metadata": {},
     "output_type": "execute_result"
    }
   ],
   "source": [
    "# boolean filtering\n",
    "data=np.random.randint(1,1000,(5,5))\n",
    "data\n"
   ]
  },
  {
   "cell_type": "code",
   "execution_count": 27,
   "metadata": {},
   "outputs": [
    {
     "name": "stdout",
     "output_type": "stream",
     "text": [
      "28 137 420 372 261 494 112 332 7 75 444 482 397 278 "
     ]
    }
   ],
   "source": [
    "#noob way for getting the filtered data\n",
    "for i in data:\n",
    "    for j in i:\n",
    "        if j<500:\n",
    "            print(j,end=' ')\n",
    "    "
   ]
  },
  {
   "cell_type": "code",
   "execution_count": 28,
   "metadata": {},
   "outputs": [
    {
     "data": {
      "text/plain": [
       "array([[False, False,  True,  True,  True],\n",
       "       [False, False,  True,  True, False],\n",
       "       [False,  True, False, False,  True],\n",
       "       [ True,  True,  True,  True, False],\n",
       "       [ True, False, False,  True,  True]])"
      ]
     },
     "execution_count": 28,
     "metadata": {},
     "output_type": "execute_result"
    }
   ],
   "source": [
    "# pythonic way\n",
    "data < 500 # boolean array"
   ]
  },
  {
   "cell_type": "code",
   "execution_count": 29,
   "metadata": {},
   "outputs": [
    {
     "data": {
      "text/plain": [
       "array([ 28, 137, 420, 372, 261, 494, 112, 332,   7,  75, 444, 482, 397,\n",
       "       278])"
      ]
     },
     "execution_count": 29,
     "metadata": {},
     "output_type": "execute_result"
    }
   ],
   "source": [
    "data[data<500]"
   ]
  },
  {
   "cell_type": "code",
   "execution_count": 31,
   "metadata": {},
   "outputs": [
    {
     "data": {
      "text/plain": [
       "array([893, 563,  28, 644, 639, 675, 612, 645, 613,   7,  75, 630, 999,\n",
       "       547])"
      ]
     },
     "execution_count": 31,
     "metadata": {},
     "output_type": "execute_result"
    }
   ],
   "source": [
    "data[(data<100)|(data>500)]"
   ]
  },
  {
   "cell_type": "code",
   "execution_count": 32,
   "metadata": {},
   "outputs": [
    {
     "data": {
      "text/plain": [
       "array([[893, 563,  28, 137, 420],\n",
       "       [644, 639, 372, 261, 675],\n",
       "       [612, 494, 645, 613, 112],\n",
       "       [332,   7,  75, 444, 630],\n",
       "       [482, 999, 547, 397, 278]])"
      ]
     },
     "execution_count": 32,
     "metadata": {},
     "output_type": "execute_result"
    }
   ],
   "source": [
    "data"
   ]
  },
  {
   "cell_type": "code",
   "execution_count": 35,
   "metadata": {},
   "outputs": [
    {
     "data": {
      "text/plain": [
       "array([[347,  58, 276, 802, 316, 384, 705, 659],\n",
       "       [992, 740, 779, 254, 327, 787, 154, 175],\n",
       "       [348,  14, 306, 813, 441,  62, 914, 800],\n",
       "       [ 50,  85, 870, 671, 749,  19, 602, 740],\n",
       "       [148, 903, 915, 505, 490,  97, 899,  15],\n",
       "       [179, 537, 598, 507, 734, 538, 746, 906],\n",
       "       [904,  75, 162, 373, 338, 555, 456, 798],\n",
       "       [904,  57, 592, 747, 713, 459, 476,  46]])"
      ]
     },
     "execution_count": 35,
     "metadata": {},
     "output_type": "execute_result"
    }
   ],
   "source": [
    "data1=np.random.randint(1,1000,(8,8))\n",
    "data1"
   ]
  },
  {
   "cell_type": "code",
   "execution_count": 41,
   "metadata": {},
   "outputs": [
    {
     "name": "stdout",
     "output_type": "stream",
     "text": [
      "[[347  58 276 802 316]\n",
      " [992 740 779 254 327]\n",
      " [348  14 306 813 441]\n",
      " [ 50  85 870 671 749]\n",
      " [148 903 915 505 490]]\n"
     ]
    }
   ],
   "source": [
    "#slicing\n",
    "sli=data1[:5,:5]\n",
    "print(sli)"
   ]
  },
  {
   "cell_type": "code",
   "execution_count": 42,
   "metadata": {},
   "outputs": [
    {
     "data": {
      "text/plain": [
       "array([[802, 705, 659],\n",
       "       [254, 154, 175],\n",
       "       [813, 914, 800],\n",
       "       [671, 602, 740],\n",
       "       [505, 899,  15],\n",
       "       [507, 746, 906],\n",
       "       [373, 456, 798],\n",
       "       [747, 476,  46]])"
      ]
     },
     "execution_count": 42,
     "metadata": {},
     "output_type": "execute_result"
    }
   ],
   "source": [
    "data1[:,[3,6,7]]"
   ]
  },
  {
   "cell_type": "code",
   "execution_count": 45,
   "metadata": {},
   "outputs": [
    {
     "data": {
      "text/plain": [
       "array([[306, 813, 441,  62],\n",
       "       [276, 802, 316, 384]])"
      ]
     },
     "execution_count": 45,
     "metadata": {},
     "output_type": "execute_result"
    }
   ],
   "source": [
    "data1[2::-2,2:-2]"
   ]
  },
  {
   "cell_type": "code",
   "execution_count": 47,
   "metadata": {},
   "outputs": [
    {
     "data": {
      "text/plain": [
       "array([[347,  58, 276, 802, 316, 384, 705],\n",
       "       [992, 740, 779, 254, 327, 787, 154],\n",
       "       [348,  14, 306, 813, 441,  62, 914],\n",
       "       [ 50,  85, 870, 671, 749,  19, 602],\n",
       "       [148, 903, 915, 505, 490,  97, 899],\n",
       "       [179, 537, 598, 507, 734, 538, 746],\n",
       "       [904,  75, 162, 373, 338, 555, 456],\n",
       "       [904,  57, 592, 747, 713, 459, 476]])"
      ]
     },
     "execution_count": 47,
     "metadata": {},
     "output_type": "execute_result"
    }
   ],
   "source": [
    "data1[:,:-1]"
   ]
  },
  {
   "cell_type": "code",
   "execution_count": null,
   "metadata": {},
   "outputs": [],
   "source": []
  }
 ],
 "metadata": {
  "kernelspec": {
   "display_name": "Python 3.9.13 ('base')",
   "language": "python",
   "name": "python3"
  },
  "language_info": {
   "codemirror_mode": {
    "name": "ipython",
    "version": 3
   },
   "file_extension": ".py",
   "mimetype": "text/x-python",
   "name": "python",
   "nbconvert_exporter": "python",
   "pygments_lexer": "ipython3",
   "version": "3.9.13"
  },
  "orig_nbformat": 4,
  "vscode": {
   "interpreter": {
    "hash": "193aa6218da7f76a59dc2bd6ea87d2b224c2417ad29cdf12ab4b4772313a8948"
   }
  }
 },
 "nbformat": 4,
 "nbformat_minor": 2
}
