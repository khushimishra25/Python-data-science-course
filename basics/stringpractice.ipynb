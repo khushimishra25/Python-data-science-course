{
 "cells": [
  {
   "cell_type": "code",
   "execution_count": 1,
   "metadata": {},
   "outputs": [
    {
     "name": "stdout",
     "output_type": "stream",
     "text": [
      "Khushi Mishra\n"
     ]
    }
   ],
   "source": [
    "#1.\n",
    "a=\"Khushi Mishra\"\n",
    "print(a)"
   ]
  },
  {
   "cell_type": "code",
   "execution_count": 2,
   "metadata": {},
   "outputs": [
    {
     "name": "stdout",
     "output_type": "stream",
     "text": [
      "The string is hello world\n",
      "11\n"
     ]
    }
   ],
   "source": [
    "#2.\n",
    "b=input(\"Enter a string:\")\n",
    "print(\"The string is\",b)\n",
    "print(len(b))"
   ]
  },
  {
   "cell_type": "code",
   "execution_count": 3,
   "metadata": {},
   "outputs": [
    {
     "name": "stdout",
     "output_type": "stream",
     "text": [
      "t\n"
     ]
    }
   ],
   "source": [
    "#3.\n",
    "c=\"Python is great\"\n",
    "print(c[-1])"
   ]
  },
  {
   "cell_type": "code",
   "execution_count": 15,
   "metadata": {},
   "outputs": [
    {
     "name": "stdout",
     "output_type": "stream",
     "text": [
      "0 P\n",
      "1 y\n",
      "2 t\n",
      "3 h\n",
      "4 o\n",
      "5 n\n",
      "6  \n",
      "7 i\n",
      "8 s\n",
      "9  \n",
      "10 e\n",
      "11 v\n",
      "12 e\n",
      "13 r\n",
      "14 y\n",
      "15 w\n",
      "16 h\n",
      "17 e\n",
      "18 r\n",
      "19 e\n"
     ]
    }
   ],
   "source": [
    "#4.\n",
    "d=\"Python is everywhere\"\n",
    "for idx,char in enumerate(d):\n",
    "    print(idx,char)\n"
   ]
  },
  {
   "cell_type": "code",
   "execution_count": 19,
   "metadata": {},
   "outputs": [
    {
     "name": "stdout",
     "output_type": "stream",
     "text": [
      "!dlroW olleH\n"
     ]
    }
   ],
   "source": [
    "#5.\n",
    "a=\"Hello World!\"\n",
    "print(a[::-1])"
   ]
  },
  {
   "cell_type": "code",
   "execution_count": 20,
   "metadata": {},
   "outputs": [
    {
     "name": "stdout",
     "output_type": "stream",
     "text": [
      "HOW ARE YOU?\n"
     ]
    }
   ],
   "source": [
    "#6.\n",
    "a=\"How are you?\"\n",
    "print(a.upper())"
   ]
  },
  {
   "cell_type": "code",
   "execution_count": 22,
   "metadata": {},
   "outputs": [
    {
     "name": "stdout",
     "output_type": "stream",
     "text": [
      "how is it going?\n"
     ]
    }
   ],
   "source": [
    "#7.\n",
    "a=\"HOW IS IT GOING?\"\n",
    "print(a.lower())"
   ]
  },
  {
   "cell_type": "code",
   "execution_count": 24,
   "metadata": {},
   "outputs": [
    {
     "name": "stdout",
     "output_type": "stream",
     "text": [
      "Python is easy learn\n"
     ]
    }
   ],
   "source": [
    "#8.\n",
    "words=['Python','is','easy','learn']\n",
    "print((' ').join(words))"
   ]
  },
  {
   "cell_type": "code",
   "execution_count": 25,
   "metadata": {},
   "outputs": [
    {
     "name": "stdout",
     "output_type": "stream",
     "text": [
      "This \n",
      "is \n",
      "a \n",
      "multiline\n",
      "string\n"
     ]
    }
   ],
   "source": [
    "#9.\n",
    "print(\"\"\"This \n",
    "is \n",
    "a \n",
    "multiline\n",
    "string\"\"\")"
   ]
  },
  {
   "cell_type": "code",
   "execution_count": 26,
   "metadata": {},
   "outputs": [
    {
     "name": "stdout",
     "output_type": "stream",
     "text": [
      "This \n",
      " is \n",
      " a \n",
      " multiline \n",
      " string \n",
      "\n"
     ]
    }
   ],
   "source": [
    "#10.\n",
    "print(\"This \\n\",\"is \\n\",\"a \\n\",\"multiline \\n\",\"string \\n\")"
   ]
  },
  {
   "cell_type": "code",
   "execution_count": 27,
   "metadata": {},
   "outputs": [
    {
     "name": "stdout",
     "output_type": "stream",
     "text": [
      "the variable is 15\n"
     ]
    }
   ],
   "source": [
    "#11.\n",
    "var=int(input(\"Enter some text\"))\n",
    "print(\"the variable is\",var)"
   ]
  },
  {
   "cell_type": "code",
   "execution_count": 29,
   "metadata": {},
   "outputs": [
    {
     "name": "stdout",
     "output_type": "stream",
     "text": [
      " python  is  great \n"
     ]
    }
   ],
   "source": [
    "#12.\n",
    "s1=' python '\n",
    "s2=' is '\n",
    "s3=' great '\n",
    "print(s1+s2+s3)"
   ]
  },
  {
   "cell_type": "code",
   "execution_count": 30,
   "metadata": {},
   "outputs": [
    {
     "name": "stdout",
     "output_type": "stream",
     "text": [
      "####################\n"
     ]
    }
   ],
   "source": [
    "#13.\n",
    "print(\"#\"*20)"
   ]
  },
  {
   "cell_type": "code",
   "execution_count": 31,
   "metadata": {},
   "outputs": [
    {
     "name": "stdout",
     "output_type": "stream",
     "text": [
      "1 .\n",
      "2 .\n",
      "3 .\n",
      "4 .\n",
      "5 .\n",
      "6 .\n",
      "7 .\n",
      "8 .\n",
      "9 .\n"
     ]
    }
   ],
   "source": [
    "#14.\n",
    "for i in range(1,10):\n",
    "    print(i,'.')"
   ]
  },
  {
   "cell_type": "code",
   "execution_count": 37,
   "metadata": {},
   "outputs": [
    {
     "name": "stdout",
     "output_type": "stream",
     "text": [
      "how\n",
      "are\n",
      "you\n"
     ]
    }
   ],
   "source": [
    "#15.\n",
    "txt=(input(\"Enter a sentence\"))\n",
    "for word in txt.split():\n",
    "    print(word)\n"
   ]
  },
  {
   "cell_type": "code",
   "execution_count": 33,
   "metadata": {},
   "outputs": [
    {
     "name": "stdout",
     "output_type": "stream",
     "text": [
      "String ends with ?\n"
     ]
    }
   ],
   "source": [
    "#16.\n",
    "txt=input(\"Enter a string:\")\n",
    "if (txt[-1]=='?'):\n",
    "    print(\"String ends with ?\")\n",
    "else:\n",
    "    print(\"String does not ends with ?\")\n"
   ]
  },
  {
   "cell_type": "code",
   "execution_count": 35,
   "metadata": {},
   "outputs": [
    {
     "name": "stdout",
     "output_type": "stream",
     "text": [
      "e appeared in the string 5 number of times\n"
     ]
    }
   ],
   "source": [
    "#17.\n",
    "txt=input(\"Enter a string:\")\n",
    "a=txt.count('e')\n",
    "print('e appeared in the string',a,'number of times')"
   ]
  },
  {
   "cell_type": "code",
   "execution_count": 3,
   "metadata": {},
   "outputs": [
    {
     "name": "stdout",
     "output_type": "stream",
     "text": [
      "True\n"
     ]
    }
   ],
   "source": [
    "#18.\n",
    "a=input(\"Enter something\")\n",
    "print(a.isnumeric())"
   ]
  },
  {
   "cell_type": "code",
   "execution_count": 4,
   "metadata": {},
   "outputs": [
    {
     "name": "stdout",
     "output_type": "stream",
     "text": [
      "this is not a good string\n"
     ]
    }
   ],
   "source": [
    "#19.\n",
    "text = '   this is not a good string           '\n",
    "print(text.strip())"
   ]
  },
  {
   "cell_type": "code",
   "execution_count": 9,
   "metadata": {},
   "outputs": [
    {
     "name": "stdout",
     "output_type": "stream",
     "text": [
      "Found\n"
     ]
    }
   ],
   "source": [
    "#20.\n",
    "text=input(\"Enter a string:\")\n",
    "for i in text:\n",
    "    if i.isupper():\n",
    "        print(\"Found\")\n",
    "        break\n",
    "\n"
   ]
  },
  {
   "cell_type": "code",
   "execution_count": 10,
   "metadata": {},
   "outputs": [
    {
     "name": "stdout",
     "output_type": "stream",
     "text": [
      "['Joe,', 'David,', 'Mark,', 'Tom,', 'Chris,', 'Robert']\n"
     ]
    }
   ],
   "source": [
    "#21.\n",
    "names = 'Joe, David, Mark, Tom, Chris, Robert'\n",
    "print(names.split())"
   ]
  },
  {
   "cell_type": "code",
   "execution_count": 12,
   "metadata": {},
   "outputs": [
    {
     "name": "stdout",
     "output_type": "stream",
     "text": [
      "thisaye isaye someaye textaye \n"
     ]
    }
   ],
   "source": [
    "#22.\n",
    "text = 'this is some text'\n",
    "list = text.split(' ')\n",
    "new = ''\n",
    "for i in list:\n",
    "    new+=i+'aye '\n",
    "print(new)\n"
   ]
  },
  {
   "cell_type": "code",
   "execution_count": 18,
   "metadata": {},
   "outputs": [
    {
     "name": "stdout",
     "output_type": "stream",
     "text": [
      "Yes,the string contains 'fyi' and it is present at index 5\n"
     ]
    }
   ],
   "source": [
    "#23.\n",
    "text=input(\"Enter a string\")\n",
    "idx=text.find('fyi')\n",
    "if idx:\n",
    "    print(\"Yes,the string contains 'fyi' and it is present at index\",idx)"
   ]
  },
  {
   "cell_type": "code",
   "execution_count": 45,
   "metadata": {},
   "outputs": [
    {
     "name": "stdout",
     "output_type": "stream",
     "text": [
      "python\n"
     ]
    }
   ],
   "source": [
    "#24.\n",
    "text = '%p34@y!*-*!t68h#&on404'\n",
    "for i in text:\n",
    "    if i.isalpha()==False:\n",
    "        text=text.replace(i,'')\n",
    "print(text)\n",
    "\n"
   ]
  },
  {
   "cell_type": "code",
   "execution_count": 49,
   "metadata": {},
   "outputs": [
    {
     "name": "stdout",
     "output_type": "stream",
     "text": [
      "Average word length is :  4.636363636363637\n"
     ]
    }
   ],
   "source": [
    "#25.\n",
    "text=\"this is a paragraph which is written just for the purpose of providing content to let the average word length be calculated\"\n",
    "list=text.split()\n",
    "sum=0\n",
    "for word in list:\n",
    "    sum+=len(word)\n",
    "result=sum/len(list)\n",
    "print(\"Average word length is : \",result)"
   ]
  },
  {
   "cell_type": "code",
   "execution_count": null,
   "metadata": {},
   "outputs": [],
   "source": []
  }
 ],
 "metadata": {
  "kernelspec": {
   "display_name": "Python 3.9.1 64-bit",
   "language": "python",
   "name": "python3"
  },
  "language_info": {
   "codemirror_mode": {
    "name": "ipython",
    "version": 3
   },
   "file_extension": ".py",
   "mimetype": "text/x-python",
   "name": "python",
   "nbconvert_exporter": "python",
   "pygments_lexer": "ipython3",
   "version": "3.9.1"
  },
  "orig_nbformat": 4,
  "vscode": {
   "interpreter": {
    "hash": "bf4fbbcfb44b62809ee9ef976aff62d8f85ac4ea82e40788fda9594addf376e6"
   }
  }
 },
 "nbformat": 4,
 "nbformat_minor": 2
}
