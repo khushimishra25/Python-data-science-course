{
 "cells": [
  {
   "cell_type": "code",
   "execution_count": 2,
   "metadata": {},
   "outputs": [],
   "source": [
    "\n",
    "emp_dict={\n",
    "    'fname':'Amar',\n",
    "    'lname':'deep',\n",
    "    'dept':'finance',\n",
    "    'age':31,\n",
    "    'salary':10000,\n",
    "    'bonus':30000,\n",
    "    'is_manager':True,\n",
    "    'is_executive':False,\n",
    "    'comapny':'Acme'}"
   ]
  },
  {
   "cell_type": "code",
   "execution_count": 2,
   "metadata": {},
   "outputs": [
    {
     "name": "stdout",
     "output_type": "stream",
     "text": [
      "{'fname': 'Amar', 'lname': 'deep', 'dept': 'finance', 'age': 31, 'salary': 10000, 'bonus': 30000, 'is_manager': True, 'is_executive': False, 'comapny': 'Acme'}\n"
     ]
    }
   ],
   "source": [
    "print(emp_dict)"
   ]
  },
  {
   "cell_type": "code",
   "execution_count": 5,
   "metadata": {},
   "outputs": [],
   "source": [
    "weather_data={\n",
    "    'date':18-11-2022,\n",
    "    'details':{\n",
    "        'humidity':80,\n",
    "        'wind':10,\n",
    "        'pressure':30,\n",
    "        'aqi':120,\n",
    "    },\n",
    "    'city':'Lucknow',\n",
    "    'type':'sunshine',\n",
    "    'icon':'🌞'\n",
    "}"
   ]
  },
  {
   "cell_type": "code",
   "execution_count": 6,
   "metadata": {},
   "outputs": [
    {
     "name": "stdout",
     "output_type": "stream",
     "text": [
      "{'date': -2015, 'details': {'humidity': 80, 'wind': 10, 'pressure': 30, 'aqi': 120}, 'city': 'Lucknow', 'type': 'sunshine', 'icon': '🌞'}\n"
     ]
    }
   ],
   "source": [
    "print(weather_data)"
   ]
  },
  {
   "cell_type": "code",
   "execution_count": 10,
   "metadata": {},
   "outputs": [
    {
     "data": {
      "text/plain": [
       "['date', 'details', 'city', 'type', 'icon']"
      ]
     },
     "execution_count": 10,
     "metadata": {},
     "output_type": "execute_result"
    }
   ],
   "source": [
    "list(weather_data.keys())"
   ]
  },
  {
   "cell_type": "code",
   "execution_count": 8,
   "metadata": {},
   "outputs": [
    {
     "data": {
      "text/plain": [
       "dict_values([-2015, {'humidity': 80, 'wind': 10, 'pressure': 30, 'aqi': 120}, 'Lucknow', 'sunshine', '🌞'])"
      ]
     },
     "execution_count": 8,
     "metadata": {},
     "output_type": "execute_result"
    }
   ],
   "source": [
    "weather_data.values()"
   ]
  },
  {
   "cell_type": "code",
   "execution_count": 9,
   "metadata": {},
   "outputs": [
    {
     "data": {
      "text/plain": [
       "dict_keys(['fname', 'lname', 'dept', 'age', 'salary', 'bonus', 'is_manager', 'is_executive', 'comapny'])"
      ]
     },
     "execution_count": 9,
     "metadata": {},
     "output_type": "execute_result"
    }
   ],
   "source": [
    "emp_dict.keys()"
   ]
  },
  {
   "cell_type": "code",
   "execution_count": 14,
   "metadata": {},
   "outputs": [
    {
     "data": {
      "text/plain": [
       "{'humidity': 80, 'wind': 10, 'pressure': 30, 'aqi': 120}"
      ]
     },
     "execution_count": 14,
     "metadata": {},
     "output_type": "execute_result"
    }
   ],
   "source": [
    "weather_data['details']     #key error in case of absence of the key value"
   ]
  },
  {
   "cell_type": "code",
   "execution_count": 15,
   "metadata": {},
   "outputs": [
    {
     "data": {
      "text/plain": [
       "'Lucknow'"
      ]
     },
     "execution_count": 15,
     "metadata": {},
     "output_type": "execute_result"
    }
   ],
   "source": [
    "weather_data.get('city')"
   ]
  },
  {
   "cell_type": "code",
   "execution_count": 16,
   "metadata": {},
   "outputs": [
    {
     "data": {
      "text/plain": [
       "'Lucknow'"
      ]
     },
     "execution_count": 16,
     "metadata": {},
     "output_type": "execute_result"
    }
   ],
   "source": [
    "weather_data.get('city','not found')"
   ]
  },
  {
   "cell_type": "code",
   "execution_count": 17,
   "metadata": {},
   "outputs": [
    {
     "data": {
      "text/plain": [
       "'not found'"
      ]
     },
     "execution_count": 17,
     "metadata": {},
     "output_type": "execute_result"
    }
   ],
   "source": [
    "weather_data.get('location','not found')"
   ]
  },
  {
   "cell_type": "code",
   "execution_count": 19,
   "metadata": {},
   "outputs": [
    {
     "name": "stdout",
     "output_type": "stream",
     "text": [
      "fname\n",
      "lname\n",
      "dept\n",
      "age\n",
      "salary\n",
      "bonus\n",
      "is_manager\n",
      "is_executive\n",
      "comapny\n"
     ]
    }
   ],
   "source": [
    "#looping over a dictionary\n",
    "for k in emp_dict: #loop on dictionary only gives keys\n",
    "    print(k)"
   ]
  },
  {
   "cell_type": "code",
   "execution_count": 20,
   "metadata": {},
   "outputs": [
    {
     "name": "stdout",
     "output_type": "stream",
     "text": [
      "fname => Amar\n",
      "lname => deep\n",
      "dept => finance\n",
      "age => 31\n",
      "salary => 10000\n",
      "bonus => 30000\n",
      "is_manager => True\n",
      "is_executive => False\n",
      "comapny => Acme\n"
     ]
    }
   ],
   "source": [
    "for k in emp_dict: # for accessing values also with loop\n",
    "    print(k,'=>',emp_dict[k])"
   ]
  },
  {
   "cell_type": "code",
   "execution_count": 22,
   "metadata": {},
   "outputs": [
    {
     "name": "stdout",
     "output_type": "stream",
     "text": [
      "fname => Amar\n",
      "lname => deep\n",
      "dept => finance\n",
      "age => 31\n",
      "salary => 10000\n",
      "bonus => 30000\n",
      "is_manager => True\n",
      "is_executive => False\n",
      "comapny => Acme\n"
     ]
    }
   ],
   "source": [
    "#looping over a dictionary using items() 🐸\n",
    "for k,v in emp_dict.items():\n",
    "    print(k,'=>',v)\n"
   ]
  },
  {
   "cell_type": "code",
   "execution_count": 24,
   "metadata": {},
   "outputs": [],
   "source": [
    "# updating an entry in dictionary\n",
    "weather_data['temp']=35"
   ]
  },
  {
   "cell_type": "code",
   "execution_count": 25,
   "metadata": {},
   "outputs": [
    {
     "data": {
      "text/plain": [
       "{'date': -2015,\n",
       " 'details': {'humidity': 80, 'wind': 10, 'pressure': 30, 'aqi': 120},\n",
       " 'city': 'Lucknow',\n",
       " 'type': 'sunshine',\n",
       " 'icon': '🌞',\n",
       " 'temp': 35}"
      ]
     },
     "execution_count": 25,
     "metadata": {},
     "output_type": "execute_result"
    }
   ],
   "source": [
    "weather_data"
   ]
  },
  {
   "cell_type": "code",
   "execution_count": 5,
   "metadata": {},
   "outputs": [
    {
     "name": "stdout",
     "output_type": "stream",
     "text": [
      "{'fname': 'Amar', 'lname': 'deep', 'dept': 'finance', 'age': 31, 'salary': 10000, 'bonus': 30000, 'is_manager': True, 'is_executive': False, 'comapny': 'Acme', 'designation': 'Asst A'}\n"
     ]
    }
   ],
   "source": [
    "#adding data\n",
    "emp_dict['designation']='Asst A'\n",
    "print(emp_dict)"
   ]
  },
  {
   "cell_type": "code",
   "execution_count": 6,
   "metadata": {},
   "outputs": [
    {
     "name": "stdout",
     "output_type": "stream",
     "text": [
      "{'fname': 'Amar', 'lname': 'deep', 'dept': 'finance', 'age': 31, 'salary': 30000, 'bonus': 30000, 'is_manager': True, 'is_executive': False, 'comapny': 'Acme', 'designation': 'Section Manager'}\n"
     ]
    }
   ],
   "source": [
    "#updating  data (changing value of existing key)\n",
    "emp_dict['designation']='Section Manager'\n",
    "\n",
    "emp_dict['salary']=30000\n",
    "print(emp_dict)"
   ]
  },
  {
   "cell_type": "code",
   "execution_count": 9,
   "metadata": {},
   "outputs": [
    {
     "ename": "KeyError",
     "evalue": "'is_executive'",
     "output_type": "error",
     "traceback": [
      "\u001b[1;31m---------------------------------------------------------------------------\u001b[0m",
      "\u001b[1;31mKeyError\u001b[0m                                  Traceback (most recent call last)",
      "\u001b[1;32m<ipython-input-9-40a6b2cf4a43>\u001b[0m in \u001b[0;36m<module>\u001b[1;34m\u001b[0m\n\u001b[1;32m----> 1\u001b[1;33m \u001b[0memp_dict\u001b[0m\u001b[1;33m.\u001b[0m\u001b[0mpop\u001b[0m\u001b[1;33m(\u001b[0m\u001b[1;34m'is_executive'\u001b[0m\u001b[1;33m)\u001b[0m \u001b[1;31m#removes an entry\u001b[0m\u001b[1;33m\u001b[0m\u001b[1;33m\u001b[0m\u001b[0m\n\u001b[0m",
      "\u001b[1;31mKeyError\u001b[0m: 'is_executive'"
     ]
    }
   ],
   "source": [
    "emp_dict.pop('is_executive') #removes an entry"
   ]
  },
  {
   "cell_type": "code",
   "execution_count": 8,
   "metadata": {},
   "outputs": [
    {
     "data": {
      "text/plain": [
       "{'fname': 'Amar',\n",
       " 'lname': 'deep',\n",
       " 'dept': 'finance',\n",
       " 'age': 31,\n",
       " 'salary': 30000,\n",
       " 'bonus': 30000,\n",
       " 'is_manager': True,\n",
       " 'comapny': 'Acme',\n",
       " 'designation': 'Section Manager'}"
      ]
     },
     "execution_count": 8,
     "metadata": {},
     "output_type": "execute_result"
    }
   ],
   "source": [
    "emp_dict"
   ]
  },
  {
   "cell_type": "code",
   "execution_count": 11,
   "metadata": {},
   "outputs": [],
   "source": [
    "reports={\n",
    "    '001':{\n",
    "        'name':'Amar',\n",
    "        'subjects':{'English':80,'Maths':90,'Science':95}\n",
    "    },\n",
    "    '002':{\n",
    "        'name':'Vijay',\n",
    "        'subjects':{'English':70,'Maths':60,'Science':85}\n",
    "    },\n",
    "    '003':{\n",
    "        'name':'Raj',\n",
    "        'subjects':{'English':60,'Maths':50,'Science':45}\n",
    "    }\n",
    "}"
   ]
  },
  {
   "cell_type": "code",
   "execution_count": 13,
   "metadata": {},
   "outputs": [
    {
     "data": {
      "text/plain": [
       "{'001': {'name': 'Amar',\n",
       "  'subjects': {'English': 80, 'Maths': 90, 'Science': 95}},\n",
       " '002': {'name': 'Vijay',\n",
       "  'subjects': {'English': 70, 'Maths': 60, 'Science': 85}},\n",
       " '003': {'name': 'Raj',\n",
       "  'subjects': {'English': 60, 'Maths': 50, 'Science': 45}}}"
      ]
     },
     "execution_count": 13,
     "metadata": {},
     "output_type": "execute_result"
    }
   ],
   "source": [
    "reports"
   ]
  },
  {
   "cell_type": "code",
   "execution_count": 22,
   "metadata": {},
   "outputs": [
    {
     "name": "stdout",
     "output_type": "stream",
     "text": [
      "Roll no. 001\n",
      "name Amar\n",
      "--------------------\n",
      "English 80\n",
      "Maths 90\n",
      "Science 95\n",
      "--------------------\n",
      "Roll no. 002\n",
      "name Vijay\n",
      "--------------------\n",
      "English 70\n",
      "Maths 60\n",
      "Science 85\n",
      "--------------------\n",
      "Roll no. 003\n",
      "name Raj\n",
      "--------------------\n",
      "English 60\n",
      "Maths 50\n",
      "Science 45\n",
      "--------------------\n"
     ]
    }
   ],
   "source": [
    "for roll,data in reports.items():\n",
    "    print(\"Roll no.\",roll)\n",
    "    for key, val in data.items():\n",
    "        if isinstance(val,dict):    #checks if the value is dictionary or not\n",
    "            for sub, marks in val.items():\n",
    "                print(sub,marks)\n",
    "        else:\n",
    "                print(key,val)\n",
    "        print('--'*10)"
   ]
  },
  {
   "cell_type": "code",
   "execution_count": 30,
   "metadata": {},
   "outputs": [
    {
     "name": "stdout",
     "output_type": "stream",
     "text": [
      "Roll no. 001\n",
      "name Amar\n",
      "--------------------\n",
      "English 80\n",
      "Maths 90\n",
      "Science 95\n",
      "Total:265/300\n",
      "--------------------\n",
      "Roll no. 002\n",
      "name Vijay\n",
      "--------------------\n",
      "English 70\n",
      "Maths 60\n",
      "Science 85\n",
      "Total:215/300\n",
      "--------------------\n",
      "Roll no. 003\n",
      "name Raj\n",
      "--------------------\n",
      "English 60\n",
      "Maths 50\n",
      "Science 45\n",
      "Total:155/300\n",
      "--------------------\n"
     ]
    }
   ],
   "source": [
    "# for marks total\n",
    "for roll,data in reports.items():\n",
    "    print(\"Roll no.\",roll)\n",
    "    for key, val in data.items():\n",
    "        if isinstance(val,dict):    #checks if the value is dictionary or not\n",
    "            total=0\n",
    "            for sub, marks in val.items():\n",
    "                print(sub,marks)\n",
    "                total=total+marks\n",
    "            print(f'Total:{total}/300')\n",
    "        else:\n",
    "                print(key,val)\n",
    "        print('--'*10)"
   ]
  },
  {
   "cell_type": "code",
   "execution_count": 33,
   "metadata": {},
   "outputs": [
    {
     "name": "stdout",
     "output_type": "stream",
     "text": [
      "Roll no. 001\n",
      "name Amar\n",
      "--------------------\n",
      "English 80\n",
      "Maths 90\n",
      "Science 95\n",
      "Total:265/300\n",
      "per:88.33%\n",
      "--------------------\n",
      "Roll no. 002\n",
      "name Vijay\n",
      "--------------------\n",
      "English 70\n",
      "Maths 60\n",
      "Science 85\n",
      "Total:215/300\n",
      "per:71.67%\n",
      "--------------------\n",
      "Roll no. 003\n",
      "name Raj\n",
      "--------------------\n",
      "English 60\n",
      "Maths 50\n",
      "Science 45\n",
      "Total:155/300\n",
      "per:51.67%\n",
      "--------------------\n"
     ]
    }
   ],
   "source": [
    "# for average marks calculation\n",
    "for roll,data in reports.items():\n",
    "    print(\"Roll no.\",roll)\n",
    "    for key, val in data.items():\n",
    "        if isinstance(val,dict):    #checks if the value is dictionary or not\n",
    "            total=0\n",
    "            for sub, marks in val.items():\n",
    "                print(sub,marks)\n",
    "                total=total+marks\n",
    "                per=total/3\n",
    "            print(f'Total:{total}/300')\n",
    "            print(f'per:{total/300*100:.2f}%')\n",
    "            \n",
    "        else:\n",
    "                print(key,val)\n",
    "        print('--'*10)"
   ]
  },
  {
   "cell_type": "markdown",
   "metadata": {},
   "source": [
    "FILE HANDLING\n",
    "-opening a file\n",
    "-reading a file\n",
    "-writing a file\n",
    "-appending a file"
   ]
  },
  {
   "cell_type": "code",
   "execution_count": 37,
   "metadata": {},
   "outputs": [
    {
     "name": "stdout",
     "output_type": "stream",
     "text": [
      "<_io.TextIOWrapper name='ex.py' mode='r' encoding='cp1252'>\n",
      "print(\"Hello World\")\n"
     ]
    }
   ],
   "source": [
    "f=open('ex.py')\n",
    "print(f)\n",
    "print(f.read())"
   ]
  },
  {
   "cell_type": "code",
   "execution_count": 41,
   "metadata": {},
   "outputs": [
    {
     "name": "stdout",
     "output_type": "stream",
     "text": [
      "blah blah blah\n",
      "0 characters\n"
     ]
    }
   ],
   "source": [
    "f=open(r'C:\\Users\\Dell\\OneDrive\\Documents\\bla.txt')\n",
    "print(f.read())\n",
    "content=f.read()\n",
    "print(f'{len(content)} characters')"
   ]
  },
  {
   "cell_type": "code",
   "execution_count": 44,
   "metadata": {},
   "outputs": [],
   "source": [
    "# better way\n",
    "data='Hi everyone, this is a sample file.'\n",
    "with open('mydata.txt','w') as file:\n",
    "    file.write(data)\n",
    "    "
   ]
  },
  {
   "cell_type": "code",
   "execution_count": 45,
   "metadata": {},
   "outputs": [],
   "source": [
    "#not to be used as if we dont close the file the data will not be saved\n",
    "#file=open('mydata.txt','w')\n",
    "#file.write(data)\n",
    "#file.close()"
   ]
  },
  {
   "cell_type": "code",
   "execution_count": 47,
   "metadata": {},
   "outputs": [],
   "source": [
    "# appending data in a file\n",
    "data='\\nThis is the new data that is going to be written'\n",
    "with open('mydata.txt','a') as file:\n",
    "    file.write(data)\n",
    "    \n",
    "\n"
   ]
  },
  {
   "cell_type": "code",
   "execution_count": 48,
   "metadata": {},
   "outputs": [
    {
     "name": "stdout",
     "output_type": "stream",
     "text": [
      "File bio.txt saved\n"
     ]
    }
   ],
   "source": [
    "file='bio.txt'\n",
    "content=''\n",
    "while True:\n",
    "    line=input('Enter a line (or q to quit):')\n",
    "    if line == 'q':\n",
    "        break\n",
    "    content +=line+'\\n'\n",
    "with open(file,'w') as f:\n",
    "    f.write(content)\n",
    "    print(f'File {file} saved')"
   ]
  },
  {
   "cell_type": "code",
   "execution_count": null,
   "metadata": {},
   "outputs": [],
   "source": []
  }
 ],
 "metadata": {
  "kernelspec": {
   "display_name": "Python 3.9.1 64-bit",
   "language": "python",
   "name": "python3"
  },
  "language_info": {
   "codemirror_mode": {
    "name": "ipython",
    "version": 3
   },
   "file_extension": ".py",
   "mimetype": "text/x-python",
   "name": "python",
   "nbconvert_exporter": "python",
   "pygments_lexer": "ipython3",
   "version": "3.9.1"
  },
  "orig_nbformat": 4,
  "vscode": {
   "interpreter": {
    "hash": "bf4fbbcfb44b62809ee9ef976aff62d8f85ac4ea82e40788fda9594addf376e6"
   }
  }
 },
 "nbformat": 4,
 "nbformat_minor": 2
}
