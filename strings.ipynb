{
 "cells": [
  {
   "cell_type": "code",
   "execution_count": 4,
   "metadata": {},
   "outputs": [
    {
     "name": "stdout",
     "output_type": "stream",
     "text": [
      "13\n"
     ]
    }
   ],
   "source": [
    "name=\"Khushi Mishra\"\n",
    "print(len(name))"
   ]
  },
  {
   "cell_type": "code",
   "execution_count": 5,
   "metadata": {},
   "outputs": [
    {
     "name": "stdout",
     "output_type": "stream",
     "text": [
      "0 K\n",
      "1 h\n",
      "2 u\n",
      "3 s\n",
      "4 h\n",
      "5 i\n",
      "6  \n",
      "7 M\n",
      "8 i\n",
      "9 s\n",
      "10 h\n",
      "11 r\n",
      "12 a\n"
     ]
    }
   ],
   "source": [
    "for idx,char in enumerate(name):\n",
    "    print(idx,char)"
   ]
  },
  {
   "cell_type": "code",
   "execution_count": 8,
   "metadata": {},
   "outputs": [
    {
     "name": "stdout",
     "output_type": "stream",
     "text": [
      "hush\n",
      "ish\n",
      "Khushi Mishra\n"
     ]
    }
   ],
   "source": [
    "print(name[1:5])\n",
    "print(name[-5:-2])\n",
    "print(name[:])"
   ]
  },
  {
   "cell_type": "code",
   "execution_count": 10,
   "metadata": {},
   "outputs": [
    {
     "name": "stdout",
     "output_type": "stream",
     "text": [
      "Kuh iha\n"
     ]
    }
   ],
   "source": [
    "# all the even characters of string\n",
    "print(name[::2])"
   ]
  },
  {
   "cell_type": "code",
   "execution_count": 11,
   "metadata": {},
   "outputs": [
    {
     "name": "stdout",
     "output_type": "stream",
     "text": [
      "hsiMsr\n"
     ]
    }
   ],
   "source": [
    "print(name[1::2])"
   ]
  },
  {
   "cell_type": "code",
   "execution_count": 12,
   "metadata": {},
   "outputs": [
    {
     "name": "stdout",
     "output_type": "stream",
     "text": [
      "arhsiM ihsuhK\n"
     ]
    }
   ],
   "source": [
    "# Reversing the string\n",
    "print(name[::-1])"
   ]
  },
  {
   "cell_type": "code",
   "execution_count": 14,
   "metadata": {},
   "outputs": [
    {
     "name": "stdout",
     "output_type": "stream",
     "text": [
      "ahi huK\n"
     ]
    }
   ],
   "source": [
    "print(name[::-2])"
   ]
  },
  {
   "cell_type": "code",
   "execution_count": 15,
   "metadata": {},
   "outputs": [
    {
     "name": "stdout",
     "output_type": "stream",
     "text": [
      "ushi Mish\n"
     ]
    }
   ],
   "source": [
    "print(name[2:-2])"
   ]
  },
  {
   "cell_type": "code",
   "execution_count": 18,
   "metadata": {},
   "outputs": [
    {
     "data": {
      "text/plain": [
       "'\\x19'"
      ]
     },
     "execution_count": 18,
     "metadata": {},
     "output_type": "execute_result"
    }
   ],
   "source": [
    "chr(25)"
   ]
  },
  {
   "cell_type": "code",
   "execution_count": 20,
   "metadata": {},
   "outputs": [
    {
     "name": "stdout",
     "output_type": "stream",
     "text": [
      "্\n"
     ]
    }
   ],
   "source": [
    "print(chr(2509))"
   ]
  },
  {
   "cell_type": "code",
   "execution_count": 24,
   "metadata": {},
   "outputs": [
    {
     "name": "stdout",
     "output_type": "stream",
     "text": [
      "75\n"
     ]
    }
   ],
   "source": [
    "# ord() converts a char to integer\n",
    "print(ord('K'))"
   ]
  },
  {
   "cell_type": "code",
   "execution_count": 29,
   "metadata": {},
   "outputs": [
    {
     "name": "stdout",
     "output_type": "stream",
     "text": [
      "BangtanSonyeondan\n"
     ]
    }
   ],
   "source": [
    "a='Bangtan'\n",
    "b='Sonyeondan'\n",
    "print(a+b)"
   ]
  },
  {
   "cell_type": "code",
   "execution_count": 31,
   "metadata": {},
   "outputs": [
    {
     "name": "stdout",
     "output_type": "stream",
     "text": [
      "Bangtan  Sonyeondan\n"
     ]
    }
   ],
   "source": [
    "#adding space between string\n",
    "msg=a+' '+' '+b\n",
    "print(msg)"
   ]
  },
  {
   "cell_type": "code",
   "execution_count": 33,
   "metadata": {},
   "outputs": [
    {
     "name": "stdout",
     "output_type": "stream",
     "text": [
      "BTS BTS BTS BTS BTS BTS BTS BTS BTS BTS BTS BTS BTS BTS BTS BTS BTS BTS BTS BTS BTS BTS BTS BTS BTS BTS BTS BTS BTS BTS BTS BTS BTS BTS BTS BTS BTS BTS BTS BTS BTS BTS BTS BTS BTS BTS BTS BTS BTS BTS BTS BTS BTS BTS BTS BTS BTS BTS BTS BTS BTS BTS BTS BTS BTS BTS BTS BTS BTS BTS BTS BTS BTS BTS BTS BTS BTS BTS BTS BTS BTS BTS BTS BTS BTS BTS BTS BTS BTS BTS BTS BTS BTS BTS BTS BTS BTS BTS BTS BTS \n"
     ]
    }
   ],
   "source": [
    "x='BTS '\n",
    "print(x*100) "
   ]
  },
  {
   "cell_type": "code",
   "execution_count": 37,
   "metadata": {},
   "outputs": [
    {
     "name": "stdout",
     "output_type": "stream",
     "text": [
      "*************************\n",
      "           BTS           \n",
      "*************************\n"
     ]
    }
   ],
   "source": [
    "print('*'*25)\n",
    "print(\"BTS \".center(25))\n",
    "print('*'*25)"
   ]
  },
  {
   "cell_type": "markdown",
   "metadata": {},
   "source": [
    "PATTERN PRINTING"
   ]
  },
  {
   "cell_type": "code",
   "execution_count": 39,
   "metadata": {},
   "outputs": [
    {
     "name": "stdout",
     "output_type": "stream",
     "text": [
      " * \n",
      " *  * \n",
      " *  *  * \n",
      " *  *  *  * \n",
      " *  *  *  *  * \n"
     ]
    }
   ],
   "source": [
    "for i in range(1,6):\n",
    "    print(i*' * ')"
   ]
  },
  {
   "cell_type": "code",
   "execution_count": 42,
   "metadata": {},
   "outputs": [
    {
     "name": "stdout",
     "output_type": "stream",
     "text": [
      " *  *  *  *  *  * \n",
      " *  *  *  *  * \n",
      " *  *  *  * \n",
      " *  *  * \n",
      " *  * \n"
     ]
    }
   ],
   "source": [
    "for i in range(6,1,-1):\n",
    "    print(i*' * ')"
   ]
  },
  {
   "cell_type": "code",
   "execution_count": 53,
   "metadata": {},
   "outputs": [
    {
     "name": "stdout",
     "output_type": "stream",
     "text": [
      "                               BTS                               \n",
      "                          BTS  BTS  BTS                          \n",
      "                     BTS  BTS  BTS  BTS  BTS                     \n",
      "                BTS  BTS  BTS  BTS  BTS  BTS  BTS                \n",
      "           BTS  BTS  BTS  BTS  BTS  BTS  BTS  BTS  BTS           \n",
      "      BTS  BTS  BTS  BTS  BTS  BTS  BTS  BTS  BTS  BTS  BTS      \n",
      " BTS  BTS  BTS  BTS  BTS  BTS  BTS  BTS  BTS  BTS  BTS  BTS  BTS \n"
     ]
    }
   ],
   "source": [
    "for i in range(1,15,2):\n",
    "    print((i * ' BTS ').center(65))"
   ]
  },
  {
   "cell_type": "code",
   "execution_count": 57,
   "metadata": {},
   "outputs": [
    {
     "name": "stdout",
     "output_type": "stream",
     "text": [
      "_____________________ * _____________________\n",
      "__________________ *  *  * __________________\n",
      "_______________ *  *  *  *  * _______________\n",
      "____________ *  *  *  *  *  *  * ____________\n",
      "_________ *  *  *  *  *  *  *  *  * _________\n",
      "______ *  *  *  *  *  *  *  *  *  *  * ______\n",
      "___ *  *  *  *  *  *  *  *  *  *  *  *  * ___\n"
     ]
    }
   ],
   "source": [
    "for i in range(1,15,2):\n",
    "    print((i * ' * ').center(45,'_'))"
   ]
  },
  {
   "cell_type": "code",
   "execution_count": 71,
   "metadata": {},
   "outputs": [
    {
     "name": "stdout",
     "output_type": "stream",
     "text": [
      "                                  *                                   \n",
      "                                 000                                  \n",
      "                                ******                                \n",
      "                          000000000000000000                          \n",
      "                             ***********                              \n",
      "                  000000000000000000000000000000000                   \n",
      "                           ****************                           \n",
      "           000000000000000000000000000000000000000000000000           \n"
     ]
    }
   ],
   "source": [
    "for i in range(1,18,5):\n",
    "    print((i*'*').center(70,' '))\n",
    "    print((i*'000').center(70,' '))"
   ]
  },
  {
   "cell_type": "code",
   "execution_count": 1,
   "metadata": {},
   "outputs": [
    {
     "name": "stdout",
     "output_type": "stream",
     "text": [
      "                                  *                                   \n",
      "                                 000                                  \n",
      "                                *****                                 \n",
      "                               0000000                                \n",
      "                              *********                               \n",
      "                             00000000000                              \n",
      "                            *************                             \n"
     ]
    }
   ],
   "source": [
    "for i in range(1,15,2):\n",
    "    if i==1 or i==5 or i==9 or i==13:\n",
    "        print(('*'*i).center(70,' '))\n",
    "    else:\n",
    "        print(('0'*i).center(70,' '))"
   ]
  },
  {
   "cell_type": "code",
   "execution_count": null,
   "metadata": {},
   "outputs": [],
   "source": []
  }
 ],
 "metadata": {
  "kernelspec": {
   "display_name": "Python 3.9.1 64-bit",
   "language": "python",
   "name": "python3"
  },
  "language_info": {
   "codemirror_mode": {
    "name": "ipython",
    "version": 3
   },
   "file_extension": ".py",
   "mimetype": "text/x-python",
   "name": "python",
   "nbconvert_exporter": "python",
   "pygments_lexer": "ipython3",
   "version": "3.9.1"
  },
  "orig_nbformat": 4,
  "vscode": {
   "interpreter": {
    "hash": "bf4fbbcfb44b62809ee9ef976aff62d8f85ac4ea82e40788fda9594addf376e6"
   }
  }
 },
 "nbformat": 4,
 "nbformat_minor": 2
}
