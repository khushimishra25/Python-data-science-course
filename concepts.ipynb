{
 "cells": [
  {
   "cell_type": "markdown",
   "metadata": {},
   "source": [
    "FUNCTIONS 🤖"
   ]
  },
  {
   "cell_type": "code",
   "execution_count": 1,
   "metadata": {},
   "outputs": [],
   "source": [
    "#defining a function\n",
    "def hello():\n",
    "    print('Hello World')\n"
   ]
  },
  {
   "cell_type": "code",
   "execution_count": 3,
   "metadata": {},
   "outputs": [
    {
     "name": "stdout",
     "output_type": "stream",
     "text": [
      "Hello World\n",
      "Hello World\n",
      "Hello World\n",
      "Hello World\n"
     ]
    }
   ],
   "source": [
    "#calling/using a function\n",
    "hello()\n",
    "hello()\n",
    "hello()\n",
    "hello()\n"
   ]
  },
  {
   "cell_type": "code",
   "execution_count": 4,
   "metadata": {},
   "outputs": [],
   "source": [
    "def si():\n",
    "    p=float(input(\"Enter principle:\"))\n",
    "    r=float(input(\"Enter rate:\"))\n",
    "    t=float(input(\"Enter time:\"))\n",
    "    si=(p*r*t)/100\n",
    "    print(\"Simple Interest =\",si)"
   ]
  },
  {
   "cell_type": "code",
   "execution_count": 5,
   "metadata": {},
   "outputs": [
    {
     "name": "stdout",
     "output_type": "stream",
     "text": [
      "Simple Interest = 228.48\n"
     ]
    }
   ],
   "source": [
    "si()"
   ]
  },
  {
   "cell_type": "code",
   "execution_count": 25,
   "metadata": {},
   "outputs": [],
   "source": [
    "def isprime():\n",
    "    num=int(input(\"Enter a number\"))\n",
    "    if num>1:\n",
    "        for i in range(2,num):\n",
    "            if num%i==0:\n",
    "                print(f'{num} % {i} == {num % i}')\n",
    "                print(num,'is not a prime number.')\n",
    "                break\n",
    "        else:\n",
    "            print(num, 'is a prime number')"
   ]
  },
  {
   "cell_type": "code",
   "execution_count": 26,
   "metadata": {},
   "outputs": [
    {
     "name": "stdout",
     "output_type": "stream",
     "text": [
      "5 is a prime number\n"
     ]
    }
   ],
   "source": [
    "isprime()"
   ]
  },
  {
   "cell_type": "code",
   "execution_count": 27,
   "metadata": {},
   "outputs": [
    {
     "name": "stdout",
     "output_type": "stream",
     "text": [
      "9 % 3 == 0\n",
      "9 is not a prime number.\n"
     ]
    }
   ],
   "source": [
    "isprime()"
   ]
  },
  {
   "cell_type": "code",
   "execution_count": null,
   "metadata": {},
   "outputs": [],
   "source": []
  }
 ],
 "metadata": {
  "kernelspec": {
   "display_name": "Python 3.9.1 64-bit",
   "language": "python",
   "name": "python3"
  },
  "language_info": {
   "codemirror_mode": {
    "name": "ipython",
    "version": 3
   },
   "file_extension": ".py",
   "mimetype": "text/x-python",
   "name": "python",
   "nbconvert_exporter": "python",
   "pygments_lexer": "ipython3",
   "version": "3.9.1"
  },
  "orig_nbformat": 4,
  "vscode": {
   "interpreter": {
    "hash": "bf4fbbcfb44b62809ee9ef976aff62d8f85ac4ea82e40788fda9594addf376e6"
   }
  }
 },
 "nbformat": 4,
 "nbformat_minor": 2
}
